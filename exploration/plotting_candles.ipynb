{
 "cells": [
  {
   "cell_type": "code",
   "execution_count": 1,
   "id": "fc5db9ed",
   "metadata": {},
   "outputs": [],
   "source": [
    "import pandas as pd\n",
    "import plotly.graph_objects as go\n",
    "import datetime as dt"
   ]
  },
  {
   "cell_type": "code",
   "execution_count": 2,
   "id": "baff09c2",
   "metadata": {},
   "outputs": [],
   "source": [
    "pair = \"GBP_NZD\"\n",
    "granularity = \"H4\"\n",
    "df = pd.read_pickle(f\"../data/{pair}_{granularity}.pkl\")"
   ]
  },
  {
   "cell_type": "code",
   "execution_count": 5,
   "id": "20df4b25",
   "metadata": {},
   "outputs": [
    {
     "data": {
      "text/html": [
       "<div>\n",
       "<style scoped>\n",
       "    .dataframe tbody tr th:only-of-type {\n",
       "        vertical-align: middle;\n",
       "    }\n",
       "\n",
       "    .dataframe tbody tr th {\n",
       "        vertical-align: top;\n",
       "    }\n",
       "\n",
       "    .dataframe thead th {\n",
       "        text-align: right;\n",
       "    }\n",
       "</style>\n",
       "<table border=\"1\" class=\"dataframe\">\n",
       "  <thead>\n",
       "    <tr style=\"text-align: right;\">\n",
       "      <th></th>\n",
       "      <th>volume</th>\n",
       "      <th>time</th>\n",
       "      <th>mid-o</th>\n",
       "      <th>mid-h</th>\n",
       "      <th>mid-l</th>\n",
       "      <th>mid-c</th>\n",
       "      <th>bid-o</th>\n",
       "      <th>bid-h</th>\n",
       "      <th>bid-l</th>\n",
       "      <th>bid-c</th>\n",
       "      <th>ask-o</th>\n",
       "      <th>ask-h</th>\n",
       "      <th>ask-l</th>\n",
       "      <th>ask-c</th>\n",
       "    </tr>\n",
       "  </thead>\n",
       "  <tbody>\n",
       "    <tr>\n",
       "      <th>3996</th>\n",
       "      <td>9360</td>\n",
       "      <td>2023-12-08 02:00:00+00:00</td>\n",
       "      <td>2.04138</td>\n",
       "      <td>2.04450</td>\n",
       "      <td>2.03914</td>\n",
       "      <td>2.04277</td>\n",
       "      <td>2.04106</td>\n",
       "      <td>2.04418</td>\n",
       "      <td>2.03880</td>\n",
       "      <td>2.04242</td>\n",
       "      <td>2.04170</td>\n",
       "      <td>2.04483</td>\n",
       "      <td>2.03948</td>\n",
       "      <td>2.04312</td>\n",
       "    </tr>\n",
       "    <tr>\n",
       "      <th>3997</th>\n",
       "      <td>12182</td>\n",
       "      <td>2023-12-08 06:00:00+00:00</td>\n",
       "      <td>2.04284</td>\n",
       "      <td>2.04438</td>\n",
       "      <td>2.04087</td>\n",
       "      <td>2.04294</td>\n",
       "      <td>2.04249</td>\n",
       "      <td>2.04408</td>\n",
       "      <td>2.04053</td>\n",
       "      <td>2.04262</td>\n",
       "      <td>2.04318</td>\n",
       "      <td>2.04469</td>\n",
       "      <td>2.04118</td>\n",
       "      <td>2.04325</td>\n",
       "    </tr>\n",
       "    <tr>\n",
       "      <th>3998</th>\n",
       "      <td>18696</td>\n",
       "      <td>2023-12-08 10:00:00+00:00</td>\n",
       "      <td>2.04294</td>\n",
       "      <td>2.04782</td>\n",
       "      <td>2.03977</td>\n",
       "      <td>2.04670</td>\n",
       "      <td>2.04265</td>\n",
       "      <td>2.04748</td>\n",
       "      <td>2.03727</td>\n",
       "      <td>2.04633</td>\n",
       "      <td>2.04324</td>\n",
       "      <td>2.04969</td>\n",
       "      <td>2.04227</td>\n",
       "      <td>2.04708</td>\n",
       "    </tr>\n",
       "    <tr>\n",
       "      <th>3999</th>\n",
       "      <td>30307</td>\n",
       "      <td>2023-12-08 14:00:00+00:00</td>\n",
       "      <td>2.04669</td>\n",
       "      <td>2.05046</td>\n",
       "      <td>2.04379</td>\n",
       "      <td>2.04864</td>\n",
       "      <td>2.04630</td>\n",
       "      <td>2.05014</td>\n",
       "      <td>2.04130</td>\n",
       "      <td>2.04823</td>\n",
       "      <td>2.04708</td>\n",
       "      <td>2.05077</td>\n",
       "      <td>2.04432</td>\n",
       "      <td>2.04905</td>\n",
       "    </tr>\n",
       "    <tr>\n",
       "      <th>4000</th>\n",
       "      <td>6630</td>\n",
       "      <td>2023-12-08 18:00:00+00:00</td>\n",
       "      <td>2.04864</td>\n",
       "      <td>2.05120</td>\n",
       "      <td>2.04806</td>\n",
       "      <td>2.04990</td>\n",
       "      <td>2.04824</td>\n",
       "      <td>2.05002</td>\n",
       "      <td>2.04594</td>\n",
       "      <td>2.04922</td>\n",
       "      <td>2.04905</td>\n",
       "      <td>2.05278</td>\n",
       "      <td>2.04853</td>\n",
       "      <td>2.05058</td>\n",
       "    </tr>\n",
       "  </tbody>\n",
       "</table>\n",
       "</div>"
      ],
      "text/plain": [
       "      volume                      time    mid-o    mid-h    mid-l    mid-c  \\\n",
       "3996    9360 2023-12-08 02:00:00+00:00  2.04138  2.04450  2.03914  2.04277   \n",
       "3997   12182 2023-12-08 06:00:00+00:00  2.04284  2.04438  2.04087  2.04294   \n",
       "3998   18696 2023-12-08 10:00:00+00:00  2.04294  2.04782  2.03977  2.04670   \n",
       "3999   30307 2023-12-08 14:00:00+00:00  2.04669  2.05046  2.04379  2.04864   \n",
       "4000    6630 2023-12-08 18:00:00+00:00  2.04864  2.05120  2.04806  2.04990   \n",
       "\n",
       "        bid-o    bid-h    bid-l    bid-c    ask-o    ask-h    ask-l    ask-c  \n",
       "3996  2.04106  2.04418  2.03880  2.04242  2.04170  2.04483  2.03948  2.04312  \n",
       "3997  2.04249  2.04408  2.04053  2.04262  2.04318  2.04469  2.04118  2.04325  \n",
       "3998  2.04265  2.04748  2.03727  2.04633  2.04324  2.04969  2.04227  2.04708  \n",
       "3999  2.04630  2.05014  2.04130  2.04823  2.04708  2.05077  2.04432  2.04905  \n",
       "4000  2.04824  2.05002  2.04594  2.04922  2.04905  2.05278  2.04853  2.05058  "
      ]
     },
     "execution_count": 5,
     "metadata": {},
     "output_type": "execute_result"
    }
   ],
   "source": [
    "df.tail()"
   ]
  },
  {
   "cell_type": "code",
   "execution_count": 6,
   "id": "d06deb37",
   "metadata": {},
   "outputs": [],
   "source": [
    "df_plot = df.iloc[:100]"
   ]
  },
  {
   "cell_type": "code",
   "execution_count": 10,
   "id": "c678ae37",
   "metadata": {},
   "outputs": [
    {
     "ename": "AttributeError",
     "evalue": "'DataFrame' object has no attribute 'mid_o'",
     "output_type": "error",
     "traceback": [
      "\u001b[1;31m---------------------------------------------------------------------------\u001b[0m",
      "\u001b[1;31mAttributeError\u001b[0m                            Traceback (most recent call last)",
      "\u001b[1;32m~\\AppData\\Local\\Temp\\ipykernel_3008\\1533055603.py\u001b[0m in \u001b[0;36m<module>\u001b[1;34m\u001b[0m\n\u001b[0;32m      2\u001b[0m fig.add_trace(go.Candlestick(\n\u001b[0;32m      3\u001b[0m     \u001b[0mx\u001b[0m\u001b[1;33m=\u001b[0m\u001b[0mdf_plot\u001b[0m\u001b[1;33m.\u001b[0m\u001b[0mtime\u001b[0m\u001b[1;33m,\u001b[0m\u001b[1;33m\u001b[0m\u001b[1;33m\u001b[0m\u001b[0m\n\u001b[1;32m----> 4\u001b[1;33m     \u001b[0moopen\u001b[0m\u001b[1;33m=\u001b[0m\u001b[0mdf_plot\u001b[0m\u001b[1;33m.\u001b[0m\u001b[0mmid_o\u001b[0m\u001b[1;33m,\u001b[0m\u001b[1;33m\u001b[0m\u001b[1;33m\u001b[0m\u001b[0m\n\u001b[0m\u001b[0;32m      5\u001b[0m     \u001b[0mhigh\u001b[0m\u001b[1;33m=\u001b[0m\u001b[0mdf_plot\u001b[0m\u001b[1;33m.\u001b[0m\u001b[0mmid_h\u001b[0m\u001b[1;33m,\u001b[0m\u001b[1;33m\u001b[0m\u001b[1;33m\u001b[0m\u001b[0m\n\u001b[0;32m      6\u001b[0m     \u001b[0mlow\u001b[0m\u001b[1;33m=\u001b[0m\u001b[0mdf_plot\u001b[0m\u001b[1;33m.\u001b[0m\u001b[0mmid_l\u001b[0m\u001b[1;33m,\u001b[0m\u001b[1;33m\u001b[0m\u001b[1;33m\u001b[0m\u001b[0m\n",
      "\u001b[1;32mf:\\appendix\\code\\venv\\lib\\site-packages\\pandas\\core\\generic.py\u001b[0m in \u001b[0;36m__getattr__\u001b[1;34m(self, name)\u001b[0m\n\u001b[0;32m   5485\u001b[0m         ):\n\u001b[0;32m   5486\u001b[0m             \u001b[1;32mreturn\u001b[0m \u001b[0mself\u001b[0m\u001b[1;33m[\u001b[0m\u001b[0mname\u001b[0m\u001b[1;33m]\u001b[0m\u001b[1;33m\u001b[0m\u001b[1;33m\u001b[0m\u001b[0m\n\u001b[1;32m-> 5487\u001b[1;33m         \u001b[1;32mreturn\u001b[0m \u001b[0mobject\u001b[0m\u001b[1;33m.\u001b[0m\u001b[0m__getattribute__\u001b[0m\u001b[1;33m(\u001b[0m\u001b[0mself\u001b[0m\u001b[1;33m,\u001b[0m \u001b[0mname\u001b[0m\u001b[1;33m)\u001b[0m\u001b[1;33m\u001b[0m\u001b[1;33m\u001b[0m\u001b[0m\n\u001b[0m\u001b[0;32m   5488\u001b[0m \u001b[1;33m\u001b[0m\u001b[0m\n\u001b[0;32m   5489\u001b[0m     \u001b[1;32mdef\u001b[0m \u001b[0m__setattr__\u001b[0m\u001b[1;33m(\u001b[0m\u001b[0mself\u001b[0m\u001b[1;33m,\u001b[0m \u001b[0mname\u001b[0m\u001b[1;33m:\u001b[0m \u001b[0mstr\u001b[0m\u001b[1;33m,\u001b[0m \u001b[0mvalue\u001b[0m\u001b[1;33m)\u001b[0m \u001b[1;33m->\u001b[0m \u001b[1;32mNone\u001b[0m\u001b[1;33m:\u001b[0m\u001b[1;33m\u001b[0m\u001b[1;33m\u001b[0m\u001b[0m\n",
      "\u001b[1;31mAttributeError\u001b[0m: 'DataFrame' object has no attribute 'mid_o'"
     ]
    }
   ],
   "source": [
    "fig = go.Figure()\n",
    "fig.add_trace(go.Candlestick(\n",
    "    x=df_plot.time,\n",
    "    open=df_plot.mid_o,\n",
    "    high=df_plot.mid_h,\n",
    "    low=df_plot.mid_l,\n",
    "    close=df_plot.mid_c\n",
    "))\n",
    "\n",
    "fig.show()"
   ]
  },
  {
   "cell_type": "code",
   "execution_count": null,
   "id": "87bcd6a8",
   "metadata": {},
   "outputs": [],
   "source": []
  },
  {
   "cell_type": "code",
   "execution_count": null,
   "id": "182e868a",
   "metadata": {},
   "outputs": [],
   "source": []
  },
  {
   "cell_type": "code",
   "execution_count": null,
   "id": "8bed6364",
   "metadata": {},
   "outputs": [],
   "source": []
  },
  {
   "cell_type": "code",
   "execution_count": null,
   "id": "4c0a9817",
   "metadata": {},
   "outputs": [],
   "source": []
  },
  {
   "cell_type": "code",
   "execution_count": null,
   "id": "78a7272a",
   "metadata": {},
   "outputs": [],
   "source": []
  },
  {
   "cell_type": "code",
   "execution_count": null,
   "id": "3829f066",
   "metadata": {},
   "outputs": [],
   "source": []
  },
  {
   "cell_type": "code",
   "execution_count": null,
   "id": "753e6a03",
   "metadata": {},
   "outputs": [],
   "source": []
  },
  {
   "cell_type": "code",
   "execution_count": null,
   "id": "1deba3c2",
   "metadata": {},
   "outputs": [],
   "source": []
  },
  {
   "cell_type": "code",
   "execution_count": null,
   "id": "d324e353",
   "metadata": {},
   "outputs": [],
   "source": []
  }
 ],
 "metadata": {
  "kernelspec": {
   "display_name": "Python 3 (ipykernel)",
   "language": "python",
   "name": "python3"
  },
  "language_info": {
   "codemirror_mode": {
    "name": "ipython",
    "version": 3
   },
   "file_extension": ".py",
   "mimetype": "text/x-python",
   "name": "python",
   "nbconvert_exporter": "python",
   "pygments_lexer": "ipython3",
   "version": "3.10.12"
  }
 },
 "nbformat": 4,
 "nbformat_minor": 5
}
