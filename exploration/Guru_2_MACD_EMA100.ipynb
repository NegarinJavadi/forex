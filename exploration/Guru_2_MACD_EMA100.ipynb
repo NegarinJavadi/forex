{
 "cells": [
  {
   "cell_type": "code",
   "execution_count": 1,
   "id": "f2676eec-f8f5-4193-9290-8cbc97472eff",
   "metadata": {},
   "outputs": [],
   "source": [
    "import sys\n",
    "sys.path.append(\"../\")"
   ]
  },
  {
   "cell_type": "code",
   "execution_count": 2,
   "id": "6f1ace57-bc11-4f24-aa1a-60acab13dad7",
   "metadata": {},
   "outputs": [],
   "source": [
    "import pandas as pd\n",
    "import datetime as dt\n",
    "from technicals.indicators import MACD\n",
    "from simulation.guru_tester import GuruTester"
   ]
  },
  {
   "cell_type": "code",
   "execution_count": 3,
   "id": "9c8dec8d-2515-44f5-a20a-1fda9fad9fc2",
   "metadata": {},
   "outputs": [],
   "source": [
    "BUY = 1\n",
    "SELL = -1\n",
    "NONE = 0\n",
    "\n",
    "def apply_signal(row):\n",
    "    if row.direction == BUY and row['mid-l'] > row.EMA_100:\n",
    "        return BUY\n",
    "    if row.direction == SELL and row['mid-h'] < row.EMA_100:\n",
    "        return SELL\n",
    "    return NONE"
   ]
  },
  {
   "cell_type": "code",
   "execution_count": 4,
   "id": "e49f7be3-52a1-4b86-b7a0-3ed96b4cc228",
   "metadata": {},
   "outputs": [],
   "source": [
    "pair = \"EUR_USD\"\n",
    "df_an = pd.read_pickle(f\"../data/{pair}_H1.pkl\")\n",
    "df_m5 = pd.read_pickle(f\"../data/{pair}_M5.pkl\")\n",
    "df_an.reset_index(drop=True, inplace=True)\n",
    "df_m5.reset_index(drop=True, inplace=True)"
   ]
  },
  {
   "cell_type": "code",
   "execution_count": 5,
   "id": "afe11061-1d78-4b55-94ad-9b67546f0d29",
   "metadata": {},
   "outputs": [],
   "source": [
    "df_an = MACD(df_an)\n",
    "df_an['EMA_100']=df_an['mid-c'].ewm(span=100, min_periods=100).mean()\n",
    "df_an.dropna(inplace=True)\n",
    "df_an.reset_index(drop=True, inplace=True)"
   ]
  },
  {
   "cell_type": "code",
   "execution_count": 6,
   "id": "733c791f-6386-4600-961f-6f368ecbb929",
   "metadata": {},
   "outputs": [],
   "source": [
    "def apply_cross(row):\n",
    "    if row.macd_delta > 0 and row.macd_delta_prev < 0 :\n",
    "        return BUY\n",
    "    if row.macd_delta < 0 and row.macd_delta_prev > 0 :\n",
    "        return SELL\n",
    "    return NONE"
   ]
  },
  {
   "cell_type": "code",
   "execution_count": 7,
   "id": "23102475-56bb-4902-bd19-0f0aadfe21e9",
   "metadata": {},
   "outputs": [],
   "source": [
    "df_an['macd_delta'] = df_an.MACD - df_an.SIGNAL\n",
    "df_an['macd_delta_prev'] = df_an.macd_delta.shift(1)\n",
    "df_an['direction'] = df_an.apply(apply_cross, axis=1)"
   ]
  },
  {
   "cell_type": "code",
   "execution_count": 8,
   "id": "17156fd7-7a74-4f99-9662-0da9f2228f8c",
   "metadata": {},
   "outputs": [
    {
     "data": {
      "text/plain": [
       "direction\n",
       " 0    13887\n",
       "-1      598\n",
       " 1      597\n",
       "Name: count, dtype: int64"
      ]
     },
     "execution_count": 8,
     "metadata": {},
     "output_type": "execute_result"
    }
   ],
   "source": [
    "df_an.direction.value_counts()"
   ]
  },
  {
   "cell_type": "code",
   "execution_count": 9,
   "id": "526dd22c-f888-4583-a24a-5c0be5837536",
   "metadata": {},
   "outputs": [
    {
     "data": {
      "text/html": [
       "<div>\n",
       "<style scoped>\n",
       "    .dataframe tbody tr th:only-of-type {\n",
       "        vertical-align: middle;\n",
       "    }\n",
       "\n",
       "    .dataframe tbody tr th {\n",
       "        vertical-align: top;\n",
       "    }\n",
       "\n",
       "    .dataframe thead th {\n",
       "        text-align: right;\n",
       "    }\n",
       "</style>\n",
       "<table border=\"1\" class=\"dataframe\">\n",
       "  <thead>\n",
       "    <tr style=\"text-align: right;\">\n",
       "      <th></th>\n",
       "      <th>volume</th>\n",
       "      <th>time</th>\n",
       "      <th>mid-o</th>\n",
       "      <th>mid-h</th>\n",
       "      <th>mid-l</th>\n",
       "      <th>mid-c</th>\n",
       "      <th>bid-o</th>\n",
       "      <th>bid-h</th>\n",
       "      <th>bid-l</th>\n",
       "      <th>bid-c</th>\n",
       "      <th>...</th>\n",
       "      <th>ask-h</th>\n",
       "      <th>ask-l</th>\n",
       "      <th>ask-c</th>\n",
       "      <th>MACD</th>\n",
       "      <th>SIGNAL</th>\n",
       "      <th>HIST</th>\n",
       "      <th>EMA_100</th>\n",
       "      <th>macd_delta</th>\n",
       "      <th>macd_delta_prev</th>\n",
       "      <th>direction</th>\n",
       "    </tr>\n",
       "  </thead>\n",
       "  <tbody>\n",
       "    <tr>\n",
       "      <th>0</th>\n",
       "      <td>707</td>\n",
       "      <td>2021-10-07 03:00:00+00:00</td>\n",
       "      <td>1.15546</td>\n",
       "      <td>1.15562</td>\n",
       "      <td>1.15526</td>\n",
       "      <td>1.15556</td>\n",
       "      <td>1.15539</td>\n",
       "      <td>1.15555</td>\n",
       "      <td>1.15519</td>\n",
       "      <td>1.15549</td>\n",
       "      <td>...</td>\n",
       "      <td>1.15570</td>\n",
       "      <td>1.15533</td>\n",
       "      <td>1.15564</td>\n",
       "      <td>-0.000560</td>\n",
       "      <td>-0.000816</td>\n",
       "      <td>0.000256</td>\n",
       "      <td>1.158049</td>\n",
       "      <td>0.000256</td>\n",
       "      <td>NaN</td>\n",
       "      <td>0</td>\n",
       "    </tr>\n",
       "    <tr>\n",
       "      <th>1</th>\n",
       "      <td>969</td>\n",
       "      <td>2021-10-07 04:00:00+00:00</td>\n",
       "      <td>1.15555</td>\n",
       "      <td>1.15574</td>\n",
       "      <td>1.15540</td>\n",
       "      <td>1.15556</td>\n",
       "      <td>1.15548</td>\n",
       "      <td>1.15567</td>\n",
       "      <td>1.15532</td>\n",
       "      <td>1.15549</td>\n",
       "      <td>...</td>\n",
       "      <td>1.15580</td>\n",
       "      <td>1.15547</td>\n",
       "      <td>1.15564</td>\n",
       "      <td>-0.000515</td>\n",
       "      <td>-0.000756</td>\n",
       "      <td>0.000241</td>\n",
       "      <td>1.157992</td>\n",
       "      <td>0.000241</td>\n",
       "      <td>0.000256</td>\n",
       "      <td>0</td>\n",
       "    </tr>\n",
       "    <tr>\n",
       "      <th>2</th>\n",
       "      <td>1328</td>\n",
       "      <td>2021-10-07 05:00:00+00:00</td>\n",
       "      <td>1.15558</td>\n",
       "      <td>1.15569</td>\n",
       "      <td>1.15494</td>\n",
       "      <td>1.15496</td>\n",
       "      <td>1.15551</td>\n",
       "      <td>1.15562</td>\n",
       "      <td>1.15487</td>\n",
       "      <td>1.15490</td>\n",
       "      <td>...</td>\n",
       "      <td>1.15576</td>\n",
       "      <td>1.15501</td>\n",
       "      <td>1.15503</td>\n",
       "      <td>-0.000521</td>\n",
       "      <td>-0.000709</td>\n",
       "      <td>0.000188</td>\n",
       "      <td>1.157923</td>\n",
       "      <td>0.000188</td>\n",
       "      <td>0.000241</td>\n",
       "      <td>0</td>\n",
       "    </tr>\n",
       "    <tr>\n",
       "      <th>3</th>\n",
       "      <td>4980</td>\n",
       "      <td>2021-10-07 06:00:00+00:00</td>\n",
       "      <td>1.15498</td>\n",
       "      <td>1.15697</td>\n",
       "      <td>1.15490</td>\n",
       "      <td>1.15682</td>\n",
       "      <td>1.15491</td>\n",
       "      <td>1.15690</td>\n",
       "      <td>1.15483</td>\n",
       "      <td>1.15676</td>\n",
       "      <td>...</td>\n",
       "      <td>1.15704</td>\n",
       "      <td>1.15496</td>\n",
       "      <td>1.15689</td>\n",
       "      <td>-0.000372</td>\n",
       "      <td>-0.000642</td>\n",
       "      <td>0.000270</td>\n",
       "      <td>1.157898</td>\n",
       "      <td>0.000270</td>\n",
       "      <td>0.000188</td>\n",
       "      <td>0</td>\n",
       "    </tr>\n",
       "    <tr>\n",
       "      <th>4</th>\n",
       "      <td>5843</td>\n",
       "      <td>2021-10-07 07:00:00+00:00</td>\n",
       "      <td>1.15684</td>\n",
       "      <td>1.15706</td>\n",
       "      <td>1.15616</td>\n",
       "      <td>1.15688</td>\n",
       "      <td>1.15677</td>\n",
       "      <td>1.15700</td>\n",
       "      <td>1.15609</td>\n",
       "      <td>1.15682</td>\n",
       "      <td>...</td>\n",
       "      <td>1.15713</td>\n",
       "      <td>1.15623</td>\n",
       "      <td>1.15695</td>\n",
       "      <td>-0.000246</td>\n",
       "      <td>-0.000562</td>\n",
       "      <td>0.000317</td>\n",
       "      <td>1.157875</td>\n",
       "      <td>0.000317</td>\n",
       "      <td>0.000270</td>\n",
       "      <td>0</td>\n",
       "    </tr>\n",
       "  </tbody>\n",
       "</table>\n",
       "<p>5 rows × 21 columns</p>\n",
       "</div>"
      ],
      "text/plain": [
       "   volume                      time    mid-o    mid-h    mid-l    mid-c  \\\n",
       "0     707 2021-10-07 03:00:00+00:00  1.15546  1.15562  1.15526  1.15556   \n",
       "1     969 2021-10-07 04:00:00+00:00  1.15555  1.15574  1.15540  1.15556   \n",
       "2    1328 2021-10-07 05:00:00+00:00  1.15558  1.15569  1.15494  1.15496   \n",
       "3    4980 2021-10-07 06:00:00+00:00  1.15498  1.15697  1.15490  1.15682   \n",
       "4    5843 2021-10-07 07:00:00+00:00  1.15684  1.15706  1.15616  1.15688   \n",
       "\n",
       "     bid-o    bid-h    bid-l    bid-c  ...    ask-h    ask-l    ask-c  \\\n",
       "0  1.15539  1.15555  1.15519  1.15549  ...  1.15570  1.15533  1.15564   \n",
       "1  1.15548  1.15567  1.15532  1.15549  ...  1.15580  1.15547  1.15564   \n",
       "2  1.15551  1.15562  1.15487  1.15490  ...  1.15576  1.15501  1.15503   \n",
       "3  1.15491  1.15690  1.15483  1.15676  ...  1.15704  1.15496  1.15689   \n",
       "4  1.15677  1.15700  1.15609  1.15682  ...  1.15713  1.15623  1.15695   \n",
       "\n",
       "       MACD    SIGNAL      HIST   EMA_100  macd_delta  macd_delta_prev  \\\n",
       "0 -0.000560 -0.000816  0.000256  1.158049    0.000256              NaN   \n",
       "1 -0.000515 -0.000756  0.000241  1.157992    0.000241         0.000256   \n",
       "2 -0.000521 -0.000709  0.000188  1.157923    0.000188         0.000241   \n",
       "3 -0.000372 -0.000642  0.000270  1.157898    0.000270         0.000188   \n",
       "4 -0.000246 -0.000562  0.000317  1.157875    0.000317         0.000270   \n",
       "\n",
       "   direction  \n",
       "0          0  \n",
       "1          0  \n",
       "2          0  \n",
       "3          0  \n",
       "4          0  \n",
       "\n",
       "[5 rows x 21 columns]"
      ]
     },
     "execution_count": 9,
     "metadata": {},
     "output_type": "execute_result"
    }
   ],
   "source": [
    "df_an.head()"
   ]
  },
  {
   "cell_type": "code",
   "execution_count": 10,
   "id": "60c49465-8d75-4967-befe-ea5084fb695b",
   "metadata": {},
   "outputs": [],
   "source": [
    "def run_pair(pair, time_d=1):\n",
    "    df_an = pd.read_pickle(f\"../data/{pair}_H{time_d}.pkl\")\n",
    "    df_m5 = pd.read_pickle(f\"../data/{pair}_M5.pkl\")\n",
    "    df_an.reset_index(drop=True, inplace=True)\n",
    "    df_m5.reset_index(drop=True, inplace=True)\n",
    "    df_an=MACD(df_an)\n",
    "    df_an['EMA_100']=df_an['mid-c'].ewm(span=100, min_periods=100).mean()\n",
    "\n",
    "    df_an['macd_delta'] = df_an.MACD - df_an.SIGNAL\n",
    "    df_an['macd_delta_prev'] = df_an.macd_delta.shift(1)\n",
    "    df_an['direction'] = df_an.apply(apply_cross, axis=1)\n",
    "    \n",
    "    our_cols=['time', 'mid-o', 'mid-h', 'mid-l', 'mid-c',\n",
    "              'bid-o', 'bid-h','bid-l', 'bid-c', \n",
    "              'ask-o', 'ask-h', 'ask-l', 'ask-c',\n",
    "              'direction','EMA_100']\n",
    "    df_slim = df_an[our_cols].copy()\n",
    "    df_slim.dropna(inplace=True)\n",
    "    \n",
    "    df_slim.reset_index(drop=True, inplace=True)\n",
    "    gt = GuruTester(\n",
    "        df_slim,\n",
    "        apply_signal,\n",
    "        df_m5,\n",
    "        use_spread=True,\n",
    "        time_d=time_d\n",
    "    )\n",
    "\n",
    "    gt.run_test()\n",
    "    return gt.df_results"
   ]
  },
  {
   "cell_type": "code",
   "execution_count": 11,
   "id": "a66ef356-41d6-4ad7-89f9-0fe210d2bb7a",
   "metadata": {},
   "outputs": [],
   "source": [
    "res = []\n",
    "for p in [\"AUD_NZD\", \"EUR_USD\", \"GBP_JPY\", \"USD_CAD\"]:\n",
    "    res.append(dict(pair=p, res=run_pair(p, time_d=1)))"
   ]
  },
  {
   "cell_type": "code",
   "execution_count": 12,
   "id": "461c726b-e8de-46df-86cc-2db2c6c437eb",
   "metadata": {},
   "outputs": [
    {
     "name": "stdout",
     "output_type": "stream",
     "text": [
      "AUD_NZD -171.0\n",
      "EUR_USD -31.5\n",
      "GBP_JPY -27.5\n",
      "USD_CAD -93.0\n"
     ]
    }
   ],
   "source": [
    "for r in res:\n",
    "    print(r['pair'], r['res'].result.sum())"
   ]
  },
  {
   "cell_type": "code",
   "execution_count": 13,
   "id": "1377e1a3-38db-4e55-90cc-aecc1b3747fc",
   "metadata": {},
   "outputs": [
    {
     "name": "stdout",
     "output_type": "stream",
     "text": [
      "AUD_NZD -31.5\n",
      "EUR_USD 14.5\n",
      "GBP_JPY 24.5\n",
      "USD_CAD 17.0\n"
     ]
    }
   ],
   "source": [
    "res = []\n",
    "for p in [\"AUD_NZD\", \"EUR_USD\", \"GBP_JPY\", \"USD_CAD\"]:\n",
    "    res.append(dict(pair=p, res=run_pair(p, time_d=4)))\n",
    "for r in res:\n",
    "    print(r['pair'], r['res'].result.sum())"
   ]
  },
  {
   "cell_type": "code",
   "execution_count": null,
   "id": "7218e551-057e-48fa-9795-da1dc5298d04",
   "metadata": {},
   "outputs": [],
   "source": []
  },
  {
   "cell_type": "code",
   "execution_count": null,
   "id": "f54b29ce-f5f9-4fbb-bf76-0024626534a2",
   "metadata": {},
   "outputs": [],
   "source": []
  },
  {
   "cell_type": "code",
   "execution_count": null,
   "id": "12e17af2-5e05-4682-b844-a37e4c5a0602",
   "metadata": {},
   "outputs": [],
   "source": []
  },
  {
   "cell_type": "code",
   "execution_count": null,
   "id": "5dc29994-27e4-485b-87cb-8e5d7af0d37a",
   "metadata": {},
   "outputs": [],
   "source": []
  },
  {
   "cell_type": "code",
   "execution_count": null,
   "id": "693e74db-6ca8-4f32-a354-d06ed82b9acd",
   "metadata": {},
   "outputs": [],
   "source": []
  },
  {
   "cell_type": "code",
   "execution_count": null,
   "id": "5f1a4d96-e097-4892-983c-5c8485da8a32",
   "metadata": {},
   "outputs": [],
   "source": []
  }
 ],
 "metadata": {
  "kernelspec": {
   "display_name": "Python 3 (ipykernel)",
   "language": "python",
   "name": "python3"
  },
  "language_info": {
   "codemirror_mode": {
    "name": "ipython",
    "version": 3
   },
   "file_extension": ".py",
   "mimetype": "text/x-python",
   "name": "python",
   "nbconvert_exporter": "python",
   "pygments_lexer": "ipython3",
   "version": "3.10.12"
  }
 },
 "nbformat": 4,
 "nbformat_minor": 5
}
