{
 "cells": [
  {
   "cell_type": "code",
   "execution_count": null,
   "id": "f3927ffb-3fff-40e9-aa84-83c04e05c7a8",
   "metadata": {},
   "outputs": [],
   "source": [
    "import sys\n",
    "sys.path.append(\"../\")"
   ]
  },
  {
   "cell_type": "code",
   "execution_count": null,
   "id": "7c6446ea-5384-43f1-a14e-dfef5418eb59",
   "metadata": {},
   "outputs": [],
   "source": [
    "import pandas as pd\n",
    "import datetime as dt\n",
    "from technicals.indicators import RSI\n",
    "from technicals.patterns import apply_patterns\n",
    "from simulation.guru_tester import GuruTester"
   ]
  },
  {
   "cell_type": "code",
   "execution_count": null,
   "id": "442d3b73-4094-42de-8591-087fb0687d25",
   "metadata": {},
   "outputs": [],
   "source": [
    "BUY = 1\n",
    "SELL = -1\n",
    "NONE = 0\n",
    "RSI_LIMIT = 50.0\n",
    "\n",
    "def apply_signal(row):\n",
    "    if row.ENGULFING == True:\n",
    "        if row.direction == BUY and row.mid_l > row.EMA_200:\n",
    "            if row.RSI_14 > RSI_LIMIT:\n",
    "                return BUY\n",
    "        if row.direction == SELL and row.mid_h < row.EMA_200:\n",
    "            if row.RSI_14 < RSI_LIMIT:\n",
    "                return SELL\n",
    "    return NONE"
   ]
  },
  {
   "cell_type": "code",
   "execution_count": null,
   "id": "0e5a9e04-dc68-4f07-ba5f-2488f051b62f",
   "metadata": {},
   "outputs": [],
   "source": [
    "def run_pair(pair):\n",
    "    df_an = pd.read_pickle(f\"../data/{pair}_H1.pkl\")\n",
    "    df_m5 = pd.read_pickle(f\"../data/{pair}_M5.pkl\")\n",
    "    df_an.reset_index(drop=True, inplace=True)\n",
    "    df_m5.reset_index(drop=True, inplace=True)\n",
    "    df_an=RSI(df_an)\n",
    "    df_an=apply_patterns(df_an)\n",
    "    df_an['EMA_200']=df_an.mid_c.ewm(span=200, min_periods=200).mean()\n",
    "    our_cols=['time', 'mid_o', 'mid_h', 'mid_l', 'mid_c',\n",
    "              'bid_o', 'bid_h','bid_l', 'bid_c', \n",
    "              'ask_o', 'ask_h', 'ask_l', 'ask_c',\n",
    "              'ENGULFING','direction','EMA_200','RSI_14']\n",
    "    df_slim = df_an[our_cols].copy()\n",
    "    df_slim.dropna(inplace=True)\n",
    "    \n",
    "    df_slim.reset_index(drop=True, inplace=True)\n",
    "    gt = GuruTester(\n",
    "        df_slim,\n",
    "        apply_signal,\n",
    "        df_m5,\n",
    "        use_spread=True\n",
    "    )\n",
    "\n",
    "    gt.run_test()\n",
    "    return gt.df_results"
   ]
  },
  {
   "cell_type": "code",
   "execution_count": null,
   "id": "2aff4d2a-8beb-432e-a019-b3b220c3d531",
   "metadata": {},
   "outputs": [],
   "source": [
    "res = []\n",
    "for p in [\"AUD_NZD\", \"EUR_USD\", \"GBP_JPY\", \"USD_CAD\"]:\n",
    "    res.append(dict(pair=p, res=run_pair(p)))"
   ]
  },
  {
   "cell_type": "code",
   "execution_count": null,
   "id": "6daa8b21-2f02-4788-acb9-405737d034ed",
   "metadata": {},
   "outputs": [],
   "source": [
    "for r in res:\n",
    "    print(r['pair'], r['res'].result.sum())"
   ]
  },
  {
   "cell_type": "code",
   "execution_count": null,
   "id": "87379bce-0450-423f-929a-8d8a03c693ed",
   "metadata": {},
   "outputs": [],
   "source": []
  },
  {
   "cell_type": "code",
   "execution_count": null,
   "id": "060bf817-0a32-48a1-918d-e01d2cafcc70",
   "metadata": {},
   "outputs": [],
   "source": []
  },
  {
   "cell_type": "code",
   "execution_count": null,
   "id": "509b1661-087e-447d-95c1-3329525afd3a",
   "metadata": {},
   "outputs": [],
   "source": []
  },
  {
   "cell_type": "code",
   "execution_count": null,
   "id": "8691b278-357b-4b23-bafe-c17979943c9b",
   "metadata": {},
   "outputs": [],
   "source": []
  },
  {
   "cell_type": "code",
   "execution_count": null,
   "id": "4937f763-f710-4a93-a169-6eec5c2eeed7",
   "metadata": {},
   "outputs": [],
   "source": []
  }
 ],
 "metadata": {
  "kernelspec": {
   "display_name": "Python 3 (ipykernel)",
   "language": "python",
   "name": "python3"
  },
  "language_info": {
   "codemirror_mode": {
    "name": "ipython",
    "version": 3
   },
   "file_extension": ".py",
   "mimetype": "text/x-python",
   "name": "python",
   "nbconvert_exporter": "python",
   "pygments_lexer": "ipython3",
   "version": "3.10.12"
  }
 },
 "nbformat": 4,
 "nbformat_minor": 5
}
