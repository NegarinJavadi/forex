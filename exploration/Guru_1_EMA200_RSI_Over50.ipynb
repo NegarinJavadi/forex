{
 "cells": [
  {
   "cell_type": "code",
   "execution_count": null,
   "id": "b773745c-49a6-4027-a0eb-82cfe2914e7f",
   "metadata": {},
   "outputs": [],
   "source": [
    "import sys\n",
    "sys.path.append(\"../\")"
   ]
  },
  {
   "cell_type": "code",
   "execution_count": null,
   "id": "8b7d7da1-8b96-40e5-934b-886844f35414",
   "metadata": {},
   "outputs": [],
   "source": [
    "import pandas as pd\n",
    "import datetime as dt\n",
    "import plotly.graph_objects as go\n",
    "from technicals.indicators import RSI\n",
    "from technicals.patterns import apply_patterns\n",
    "from plotting import CandlePlot"
   ]
  },
  {
   "cell_type": "code",
   "execution_count": null,
   "id": "81746ba9-fb12-43e3-a777-3a403f03db31",
   "metadata": {},
   "outputs": [],
   "source": [
    "df_raw = pd.read_pickle(\"../data/EUR_USD_H1.pkl\")"
   ]
  },
  {
   "cell_type": "code",
   "execution_count": null,
   "id": "04a6f2ca-4418-4acd-91f9-360e937ec075",
   "metadata": {},
   "outputs": [],
   "source": [
    "df_raw.shape"
   ]
  },
  {
   "cell_type": "code",
   "execution_count": null,
   "id": "16dbba07-8950-4db0-a6da-d1ee9c5c44e2",
   "metadata": {},
   "outputs": [],
   "source": [
    "df_an = df_raw.copy()#.iloc[-6000:].copy()\n",
    "df_an.reset_index(drop=True, inplace=True)"
   ]
  },
  {
   "cell_type": "code",
   "execution_count": null,
   "id": "b2e5cefc-ead0-49bb-bc4b-ed2dcb090188",
   "metadata": {},
   "outputs": [],
   "source": [
    "df_an.shape"
   ]
  },
  {
   "cell_type": "code",
   "execution_count": null,
   "id": "cfa372b7-168c-4b95-b3fc-372650e33291",
   "metadata": {},
   "outputs": [],
   "source": [
    "df_an=RSI(df_an)"
   ]
  },
  {
   "cell_type": "code",
   "execution_count": null,
   "id": "25100faa-c41f-45fc-9c00-4269774a434a",
   "metadata": {},
   "outputs": [],
   "source": [
    "df_an.tail()"
   ]
  },
  {
   "cell_type": "code",
   "execution_count": null,
   "id": "2c8a46fd-2e76-4b95-a525-7f43ef899aa3",
   "metadata": {},
   "outputs": [],
   "source": [
    "df_an=apply_patterns(df_an)"
   ]
  },
  {
   "cell_type": "code",
   "execution_count": null,
   "id": "71e80e99-af6a-4c1b-a8d8-1b0abd608ad9",
   "metadata": {},
   "outputs": [],
   "source": [
    "df_an['EMA_200']=df_an['mid_c'].ewm(span=200, min_periods=200).mean()"
   ]
  },
  {
   "cell_type": "code",
   "execution_count": null,
   "id": "3c979fad-f106-4f86-b5bb-22c5dc0f6448",
   "metadata": {},
   "outputs": [],
   "source": [
    "df_an.columns"
   ]
  },
  {
   "cell_type": "code",
   "execution_count": null,
   "id": "9df6eb9f-4c15-4504-b6eb-d0e458bad13c",
   "metadata": {},
   "outputs": [],
   "source": [
    "our_cols=['time', 'mid_o', 'mid_h', 'mid_l', 'mid_c',\n",
    "          'ask_c', 'bid_c','ENGULFING','direction','EMA_200','RSI_14']"
   ]
  },
  {
   "cell_type": "code",
   "execution_count": null,
   "id": "a644d94e-7c78-47ab-9f6e-582cde25dc45",
   "metadata": {},
   "outputs": [],
   "source": [
    "df_slim = df_an[our_cols].copy()\n",
    "df_slim.dropna(inplace=True)\n",
    "df_slim.reset_index(drop=True, inplace=True)"
   ]
  },
  {
   "cell_type": "code",
   "execution_count": null,
   "id": "4ae263c7-594f-420b-9539-018dcb777d16",
   "metadata": {},
   "outputs": [],
   "source": [
    "df_slim.head()"
   ]
  },
  {
   "cell_type": "code",
   "execution_count": null,
   "id": "b1a8f0b2-1da6-481b-99ea-8e1efe61179a",
   "metadata": {},
   "outputs": [],
   "source": [
    "BUY = 1\n",
    "SELL = -1\n",
    "NONE = 0\n",
    "RSI_LIMIT = 50.0\n",
    "\n",
    "def apply_signal(row):\n",
    "    if row.ENGULFING == True:\n",
    "        if row.direction == BUY and row['mid_l'] > row.EMA_200:\n",
    "            if row.RSI_14 > RSI_LIMIT:\n",
    "                return BUY\n",
    "        if row.direction == SELL and row['mid_h'] < row.EMA_200:\n",
    "            if row.RSI_14 < RSI_LIMIT:\n",
    "                return SELL\n",
    "    return NONE"
   ]
  },
  {
   "cell_type": "code",
   "execution_count": null,
   "id": "7146dcf4-0ba8-45a5-acbd-0b60c1fd2ca2",
   "metadata": {},
   "outputs": [],
   "source": [
    "df_slim[\"SIGNAL\"] = df_slim.apply(apply_signal, axis=1)"
   ]
  },
  {
   "cell_type": "code",
   "execution_count": null,
   "id": "d0becf37-3944-4007-8eaf-a6e476b60236",
   "metadata": {},
   "outputs": [],
   "source": [
    "df_slim[\"SIGNAL\"].value_counts()"
   ]
  },
  {
   "cell_type": "code",
   "execution_count": null,
   "id": "0b681f16-e3fd-4171-af48-c0f91739c057",
   "metadata": {},
   "outputs": [],
   "source": [
    "LOSS_FACTOR = -1.0\n",
    "PROFIT_FACTOR = 1.5\n",
    "\n",
    "def apply_take_profit(row):\n",
    "    if row.SIGNAL != NONE:\n",
    "        return (row['mid_c'] - row['mid_o']) * PROFIT_FACTOR + row['mid_c']\n",
    "    else:\n",
    "        return 0.0\n",
    "\n",
    "def apply_stop_loss(row):\n",
    "    if row.SIGNAL != NONE:\n",
    "        return (row['mid_o'])\n",
    "    else:\n",
    "        return 0.0"
   ]
  },
  {
   "cell_type": "code",
   "execution_count": null,
   "id": "c54e4511-ef04-47c4-af7f-34af016e069e",
   "metadata": {},
   "outputs": [],
   "source": [
    "df_slim[\"TP\"] = df_slim.apply(apply_take_profit, axis=1)\n",
    "df_slim[\"SL\"] = df_slim.apply(apply_stop_loss, axis=1)"
   ]
  },
  {
   "cell_type": "code",
   "execution_count": null,
   "id": "92c1e14e-4e63-4810-af1f-7d02dfa6b171",
   "metadata": {},
   "outputs": [],
   "source": [
    "df_slim[df_slim.SIGNAL==BUY].head()"
   ]
  },
  {
   "cell_type": "code",
   "execution_count": null,
   "id": "008a7c28-8057-4373-bfce-fabd972786cd",
   "metadata": {},
   "outputs": [],
   "source": [
    "df_plot = df_slim.iloc[10:100]\n",
    "cp = CandlePlot(df_plot, candles=True)\n",
    "\n",
    "trades = cp.df_plot[cp.df_plot.SIGNAL != NONE]\n",
    "\n",
    "markers = ['mid_c', 'TP', 'SL']\n",
    "marker_colors = ['#0000FF', '#00FF00', '#FF0000']\n",
    "\n",
    "for i in range(3):\n",
    "    cp.fig.add_trace(go.Scatter(\n",
    "        x = trades.sTime,\n",
    "        y = trades[markers[i]],\n",
    "        mode = 'markers',\n",
    "        marker = dict(color=marker_colors[i], size=12)\n",
    "    ))\n",
    "cp.show_plot(line_traces=[\"EMA_200\"], sec_traces=['RSI_14'], height=250)"
   ]
  },
  {
   "cell_type": "code",
   "execution_count": null,
   "id": "49ab013e-66e3-4cb1-b2d1-97a5b4910dac",
   "metadata": {},
   "outputs": [],
   "source": [
    "df_results.head()"
   ]
  },
  {
   "cell_type": "code",
   "execution_count": null,
   "id": "68d1b178-b8dc-4569-ae36-f62412e460ec",
   "metadata": {},
   "outputs": [],
   "source": [
    "class Trade:\n",
    "    def __init__(self, row):\n",
    "        self.running = True\n",
    "        self.start_index = row.name\n",
    "        self.start_price = row['mid_c']\n",
    "        self.trigger_price = row['mid_c']\n",
    "        self.SIGNAL = row.SIGNAL\n",
    "        self.TP = row.TP\n",
    "        self.SL = row.SL\n",
    "        self.result = 0.0\n",
    "        self.end_time = row.time\n",
    "        self.start_time = row.time\n",
    "        self.duration = 0\n",
    "\n",
    "    def close_trade(self, row, result, trigger_price):\n",
    "        self.running = False\n",
    "        self.result = result\n",
    "        self.end_time = row.time\n",
    "        self.trigger_price = trigger_price\n",
    "    \n",
    "    def update(self, row):\n",
    "        self.duration += 1\n",
    "        if self.SIGNAL == BUY:\n",
    "            if row['mid_h'] >= self.TP:\n",
    "                self.close_trade(row, PROFIT_FACTOR, row['mid_h'])\n",
    "            elif row['mid_l'] <=self.SL:\n",
    "                self.close_trade(row, LOSS_FACTOR, row['mid_l'])\n",
    "        if self.SIGNAL == SELL:\n",
    "            if row['mid_l'] <= self.TP:\n",
    "                self.close_trade(row, PROFIT_FACTOR, row['mid_l'])\n",
    "            elif row['mid_h'] >=self.SL:\n",
    "                self.close_trade(row, LOSS_FACTOR, row['mid_h'])\n",
    "        "
   ]
  },
  {
   "cell_type": "code",
   "execution_count": null,
   "id": "efebe381-c22d-4783-adba-6a634753eb9d",
   "metadata": {},
   "outputs": [],
   "source": [
    "open_trades = []\n",
    "closed_trades = []\n",
    "\n",
    "for index, row in df_slim.iterrows():\n",
    "    for ot in open_trades:\n",
    "        ot.update(row)\n",
    "        if ot.running == False:\n",
    "            closed_trades.append(ot)\n",
    "    open_trades = [x for x in open_trades if x.running == True]\n",
    "\n",
    "    if row.SIGNAL != NONE:\n",
    "        open_trades.append(Trade(row))"
   ]
  },
  {
   "cell_type": "code",
   "execution_count": null,
   "id": "7f4e53db-ffd9-411f-a917-42c60ea5ba71",
   "metadata": {},
   "outputs": [],
   "source": [
    "df_results = pd.DataFrame.from_dict([vars(x) for x in closed_trades])"
   ]
  },
  {
   "cell_type": "code",
   "execution_count": null,
   "id": "ca82312b-67e7-4576-80b3-1abd89b43a09",
   "metadata": {},
   "outputs": [],
   "source": [
    "df_results.result.sum()"
   ]
  },
  {
   "cell_type": "code",
   "execution_count": null,
   "id": "ac255495-1684-4e8d-abca-4c9788ec9173",
   "metadata": {},
   "outputs": [],
   "source": [
    "df_results.sort_values(by=\"start_index\" , inplace=True)"
   ]
  },
  {
   "cell_type": "code",
   "execution_count": null,
   "id": "5581bfb2-a5ef-4d09-a82e-9918250c8436",
   "metadata": {},
   "outputs": [],
   "source": [
    "df_m5 = pd.read_pickle(\"../data/EUR_USD_M5.pkl\")"
   ]
  },
  {
   "cell_type": "code",
   "execution_count": null,
   "id": "544ac022-b478-40b5-9c1e-5b1306163b38",
   "metadata": {},
   "outputs": [],
   "source": [
    "df_m5.shape"
   ]
  },
  {
   "cell_type": "code",
   "execution_count": null,
   "id": "14851ead-45ff-4c81-8791-0117ac2f6556",
   "metadata": {},
   "outputs": [],
   "source": [
    "df_m5.time.min()"
   ]
  },
  {
   "cell_type": "code",
   "execution_count": null,
   "id": "6fd54d04-b776-478a-bd79-042c39e074a5",
   "metadata": {},
   "outputs": [],
   "source": [
    "df_raw.time.min() #ba m5 bayad moshabe bashad,vali nist!"
   ]
  },
  {
   "cell_type": "code",
   "execution_count": null,
   "id": "0cc7c040-0835-4de9-af37-a06dba82fffb",
   "metadata": {},
   "outputs": [],
   "source": [
    "from dateutil import parser"
   ]
  },
  {
   "cell_type": "code",
   "execution_count": null,
   "id": "fe4a87bd-021d-4ca4-8b29-f177b4fff0fd",
   "metadata": {},
   "outputs": [],
   "source": [
    "time_min = parser.parse(\"2021-12-15T10:00:00\")\n",
    "time_max = parser.parse(\"2021-12-15T11:00:00\")\n",
    "df_m5_s = df_m5[(df_m5.time>=time_min)&(df_m5.time<=time_max)]\n",
    "df_raw_s = df_raw[(df_raw.time>=time_min)&(df_raw.time<=time_max)]"
   ]
  },
  {
   "cell_type": "code",
   "execution_count": null,
   "id": "a6e9cfeb-0605-47fe-85cc-d505cc55decf",
   "metadata": {},
   "outputs": [],
   "source": [
    "df_m5_s"
   ]
  },
  {
   "cell_type": "code",
   "execution_count": null,
   "id": "f7d282b2-4470-4583-82e8-a7212b760a6f",
   "metadata": {},
   "outputs": [],
   "source": [
    "df_raw_s"
   ]
  },
  {
   "cell_type": "code",
   "execution_count": null,
   "id": "73f4ec66-ee7c-42bd-a472-fd0bf2e2f0c6",
   "metadata": {},
   "outputs": [],
   "source": [
    "df_m5_slim = df_m5[['time', 'mid_h', 'mid_l']].copy()"
   ]
  },
  {
   "cell_type": "code",
   "execution_count": null,
   "id": "e37d5d50-3dd5-4213-be12-3b3b9c1f8476",
   "metadata": {},
   "outputs": [],
   "source": [
    "df_m5_slim.head()"
   ]
  },
  {
   "cell_type": "code",
   "execution_count": null,
   "id": "dbabf99b-417b-4b98-83bd-5f5d7c26d302",
   "metadata": {},
   "outputs": [],
   "source": [
    "df_signals = df_slim[df_slim.SIGNAL != NONE]. copy()"
   ]
  },
  {
   "cell_type": "code",
   "execution_count": null,
   "id": "c2d7301c-c663-47eb-87f6-ce694ba7c0bd",
   "metadata": {},
   "outputs": [],
   "source": [
    "df_signals.head()"
   ]
  },
  {
   "cell_type": "code",
   "execution_count": null,
   "id": "beeebc8b-03a2-4430-98c2-4176ebaf290a",
   "metadata": {},
   "outputs": [],
   "source": [
    "df_signals['m5_start'] = [x + dt.timedelta(hours=1) for x in df_signals.time]"
   ]
  },
  {
   "cell_type": "code",
   "execution_count": null,
   "id": "cde152ea-b6cf-408a-b1c0-3d1b579fbcdb",
   "metadata": {},
   "outputs": [],
   "source": [
    "df_signals['start_index_h1'] = df_signals.index"
   ]
  },
  {
   "cell_type": "code",
   "execution_count": null,
   "id": "cdfac3fb-7765-43d0-a4bd-58732257722b",
   "metadata": {},
   "outputs": [],
   "source": [
    "df_signals.head()"
   ]
  },
  {
   "cell_type": "code",
   "execution_count": null,
   "id": "0784204d-fb78-45f0-97f8-d67a73629f40",
   "metadata": {},
   "outputs": [],
   "source": [
    "df_signals.columns"
   ]
  },
  {
   "cell_type": "code",
   "execution_count": null,
   "id": "4e4cfbbc-e377-4103-ab3e-2e381d37efa4",
   "metadata": {},
   "outputs": [],
   "source": [
    "df_signals.drop(['time', 'mid_o', 'mid_h', 'mid_l', 'ask_c', 'bid_c',\n",
    "                 'ENGULFING', 'EMA_200', 'RSI_14', 'direction'], axis=1, inplace=True)"
   ]
  },
  {
   "cell_type": "code",
   "execution_count": null,
   "id": "81b39f34-3be9-45e8-bd74-efe18a80df71",
   "metadata": {},
   "outputs": [],
   "source": [
    "df_signals.head()"
   ]
  },
  {
   "cell_type": "code",
   "execution_count": null,
   "id": "f13f6d55-7fae-4aa4-9ffd-4e51078b738d",
   "metadata": {},
   "outputs": [],
   "source": [
    "df_signals.rename(columns={\n",
    "    'mid_c' : 'start_price',\n",
    "    'm5_start' : 'time'\n",
    "}, inplace=True)"
   ]
  },
  {
   "cell_type": "code",
   "execution_count": null,
   "id": "0c9625ba-33a3-4448-8c0c-a60f1c19a6e4",
   "metadata": {},
   "outputs": [],
   "source": [
    "df_signals.head()"
   ]
  },
  {
   "cell_type": "code",
   "execution_count": null,
   "id": "2b748222-f859-4308-b9e4-23a22f14da83",
   "metadata": {},
   "outputs": [],
   "source": [
    "df_m5_slim.head(2)"
   ]
  },
  {
   "cell_type": "code",
   "execution_count": null,
   "id": "064eb873-2a3e-4669-8b7f-4f1e48ab1b44",
   "metadata": {},
   "outputs": [],
   "source": [
    "merged = pd.merge(left=df_m5_slim, right=df_signals, on='time', how='left')"
   ]
  },
  {
   "cell_type": "code",
   "execution_count": null,
   "id": "add1681d-cc78-4e6b-aec4-cc617a8ce383",
   "metadata": {},
   "outputs": [],
   "source": [
    "merged.fillna(0, inplace=True)"
   ]
  },
  {
   "cell_type": "code",
   "execution_count": null,
   "id": "4092091d-7bad-43ff-8b07-ee3f38d0ca16",
   "metadata": {},
   "outputs": [],
   "source": [
    "merged.SIGNAL = merged.SIGNAL.astype(int)\n",
    "merged.start_index_h1 = merged.start_index_h1.astype(int)"
   ]
  },
  {
   "cell_type": "code",
   "execution_count": null,
   "id": "79d97402-531a-4dd2-8a21-8e862608c3db",
   "metadata": {},
   "outputs": [],
   "source": [
    "merged.head()"
   ]
  },
  {
   "cell_type": "code",
   "execution_count": null,
   "id": "1201c680-00fd-4854-91c8-338580f49b4d",
   "metadata": {},
   "outputs": [],
   "source": [
    "class TradeM5:\n",
    "    def __init__(self, row):\n",
    "        self.running = True\n",
    "        self.start_index_m5 = row.name\n",
    "        self.start_index_h1 = row.start_index_h1\n",
    "        self.start_price = row.start_price\n",
    "        self.trigger_price = row.start_price\n",
    "        self.SIGNAL = row.SIGNAL\n",
    "        self.TP = row.TP\n",
    "        self.SL = row.SL\n",
    "        self.result = 0.0\n",
    "        self.end_time = row.time\n",
    "        self.start_time = row.time\n",
    "        self.duration = 1\n",
    "\n",
    "    def close_trade(self, row, result, trigger_price):\n",
    "        self.running = False\n",
    "        self.result = result\n",
    "        self.end_time = row.time\n",
    "        self.trigger_price = trigger_price\n",
    "    \n",
    "    def update(self, row):\n",
    "        self.duration += 1\n",
    "        if self.SIGNAL == BUY:\n",
    "            if row['mid_h'] >= self.TP:\n",
    "                self.close_trade(row, PROFIT_FACTOR, row['mid_h'])\n",
    "            elif row['mid_l'] <=self.SL:\n",
    "                self.close_trade(row, LOSS_FACTOR, row['mid_l'])\n",
    "        if self.SIGNAL == SELL:\n",
    "            if row['mid_l'] <= self.TP:\n",
    "                self.close_trade(row, PROFIT_FACTOR, row['mid_l'])\n",
    "            elif row['mid_h'] >=self.SL:\n",
    "                self.close_trade(row, LOSS_FACTOR, row['mid_h'])"
   ]
  },
  {
   "cell_type": "code",
   "execution_count": null,
   "id": "5f70b16e-86e1-4ea0-abe8-8ef50c155482",
   "metadata": {},
   "outputs": [],
   "source": [
    "open_trades_m5 = []\n",
    "closed_trades_m5 = []\n",
    "\n",
    "for index, row in merged.iterrows():\n",
    "    for ot in open_trades_m5:\n",
    "        ot.update(row)\n",
    "        if ot.running == False:\n",
    "            closed_trades_m5.append(ot)\n",
    "    open_trades_m5 = [x for x in open_trades_m5 if x.running == True]\n",
    "\n",
    "    if row.SIGNAL != NONE:\n",
    "        open_trades_m5.append(TradeM5(row))"
   ]
  },
  {
   "cell_type": "code",
   "execution_count": null,
   "id": "066e4df0-f298-4016-85ad-738b7dd06917",
   "metadata": {},
   "outputs": [],
   "source": [
    "df_res_m5 = pd.DataFrame.from_dict([vars(x) for x in closed_trades_m5])"
   ]
  },
  {
   "cell_type": "code",
   "execution_count": null,
   "id": "d3fc9e25-04eb-4b2b-9fab-debeff9f8caf",
   "metadata": {},
   "outputs": [],
   "source": [
    "df_res_m5.head()"
   ]
  },
  {
   "cell_type": "code",
   "execution_count": null,
   "id": "82669399-3fb6-4940-829a-5aec4160043d",
   "metadata": {},
   "outputs": [],
   "source": [
    "df_res_m5.result.sum()"
   ]
  },
  {
   "cell_type": "code",
   "execution_count": null,
   "id": "eded7f6f-e01d-4c0b-bd66-d918e13b1478",
   "metadata": {},
   "outputs": [],
   "source": []
  },
  {
   "cell_type": "code",
   "execution_count": null,
   "id": "5ed6dc4f-e3d1-442e-8014-aec37a8c4256",
   "metadata": {},
   "outputs": [],
   "source": []
  },
  {
   "cell_type": "code",
   "execution_count": null,
   "id": "4fadce9a-8ebf-46d5-94a3-e95bdb9a4bd9",
   "metadata": {},
   "outputs": [],
   "source": []
  },
  {
   "cell_type": "code",
   "execution_count": null,
   "id": "3f9537a8-45ef-4ccf-bc38-38e3a2847a75",
   "metadata": {},
   "outputs": [],
   "source": []
  },
  {
   "cell_type": "code",
   "execution_count": null,
   "id": "e9eaf6dd-cde3-474c-8362-58af3dbb0a6a",
   "metadata": {},
   "outputs": [],
   "source": []
  },
  {
   "cell_type": "code",
   "execution_count": null,
   "id": "4fb8e21a-703c-42b7-bded-b1921ac9cbe2",
   "metadata": {},
   "outputs": [],
   "source": []
  },
  {
   "cell_type": "code",
   "execution_count": null,
   "id": "0258fdb0-22b8-4c6d-86ac-432cc6374b55",
   "metadata": {},
   "outputs": [],
   "source": []
  },
  {
   "cell_type": "code",
   "execution_count": null,
   "id": "9135e4b0-60e0-4897-9d54-b6ac0ef2a68c",
   "metadata": {},
   "outputs": [],
   "source": []
  },
  {
   "cell_type": "code",
   "execution_count": null,
   "id": "36e10c98-6aaf-4472-b0df-319b74ba754f",
   "metadata": {},
   "outputs": [],
   "source": []
  },
  {
   "cell_type": "code",
   "execution_count": null,
   "id": "4c1ce3f5-14e5-4cbf-8561-ebae32f9ed09",
   "metadata": {},
   "outputs": [],
   "source": []
  }
 ],
 "metadata": {
  "kernelspec": {
   "display_name": "Python 3 (ipykernel)",
   "language": "python",
   "name": "python3"
  },
  "language_info": {
   "codemirror_mode": {
    "name": "ipython",
    "version": 3
   },
   "file_extension": ".py",
   "mimetype": "text/x-python",
   "name": "python",
   "nbconvert_exporter": "python",
   "pygments_lexer": "ipython3",
   "version": "3.10.12"
  }
 },
 "nbformat": 4,
 "nbformat_minor": 5
}
