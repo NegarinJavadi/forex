{
 "cells": [
  {
   "cell_type": "code",
   "execution_count": null,
   "id": "b4590d96-2039-430c-9752-972db8967a3c",
   "metadata": {},
   "outputs": [],
   "source": [
    "import sys\n",
    "sys.path.append(\"../\")\n",
    "\n",
    "import pandas as pd\n",
    "import plotly.graph_objects as go\n",
    "from dateutil import parser\n",
    "import datetime as dt\n",
    "\n",
    "from api.oanda_api import OandaApi\n",
    "from infrastructure.instrument_collection import instrumentCollection as ic\n",
    "from db.db import DataDB\n",
    "\n",
    "pd.set_option('display.max_rows', None)"
   ]
  },
  {
   "cell_type": "code",
   "execution_count": null,
   "id": "b6dbfd12-de43-4c92-8938-885304d823ee",
   "metadata": {},
   "outputs": [],
   "source": [
    "database = DataDB()"
   ]
  },
  {
   "cell_type": "code",
   "execution_count": null,
   "id": "d126cc86-ac9d-49e3-abd2-4be198cd4bc9",
   "metadata": {},
   "outputs": [],
   "source": [
    "ic.LoadInstrumentsDB()"
   ]
  },
  {
   "cell_type": "code",
   "execution_count": null,
   "id": "e3a687fe-0e69-4ad0-ad01-072d37312f7a",
   "metadata": {},
   "outputs": [],
   "source": [
    "pairs = []\n",
    "for pair, val in ic.instruments_dict.items():\n",
    "    if val.ins_type == \"CURRENCY\" and \"GBP\" in pair:\n",
    "        pairs.append(pair)"
   ]
  },
  {
   "cell_type": "code",
   "execution_count": null,
   "id": "f7f95d4b-24ba-4a1f-9527-631e59bd1ea6",
   "metadata": {},
   "outputs": [],
   "source": [
    "pairs"
   ]
  },
  {
   "cell_type": "code",
   "execution_count": null,
   "id": "988ede7e-5e9b-4ab6-9b73-d4eee528b9f5",
   "metadata": {},
   "outputs": [],
   "source": [
    "data = []\n",
    "api = OandaApi()\n",
    "for p in pairs:\n",
    "    print(p)\n",
    "    d_temp = api.get_candles_df(pair_name=p, granularity=\"D\", count=400)\n",
    "    d_temp['gain'] = ((d_temp['mid_c'] - d_temp['mid_o']) / d_temp['mid_c']) * 100\n",
    "    d_temp['pair'] = p\n",
    "    if '_GBP' in p:\n",
    "        d_temp['gain'] = d_temp['gain'] * -1\n",
    "    data.append(d_temp)\n",
    "candles_df = pd.concat(data)\n",
    "candles_df.reset_index(drop=True, inplace=True)\n",
    "candles_df.time = candles_df.time.dt.date"
   ]
  },
  {
   "cell_type": "code",
   "execution_count": null,
   "id": "82232fdb-a4bf-4d76-86eb-e825a1187ec8",
   "metadata": {},
   "outputs": [],
   "source": [
    "candles_df.tail()"
   ]
  },
  {
   "cell_type": "code",
   "execution_count": null,
   "id": "936989e3-c485-448c-a352-dfe11270c74f",
   "metadata": {},
   "outputs": [],
   "source": [
    "calendar_data = database.query_all(DataDB.CALENDAR_COLL)"
   ]
  },
  {
   "cell_type": "code",
   "execution_count": null,
   "id": "fed5ebe6-179e-4875-865e-4032b086292a",
   "metadata": {},
   "outputs": [],
   "source": [
    "calendar_data"
   ]
  },
  {
   "cell_type": "code",
   "execution_count": null,
   "id": "9eb58df4-8aa5-4da4-908e-570a099c7698",
   "metadata": {},
   "outputs": [],
   "source": [
    "calendar_data_df = pd.DataFrame.from_dict(calendar_data)"
   ]
  },
  {
   "cell_type": "code",
   "execution_count": null,
   "id": "632502b4-17d9-4185-af9f-5c5efcb4fefd",
   "metadata": {},
   "outputs": [],
   "source": [
    "calendar_data_df.head(10)"
   ]
  },
  {
   "cell_type": "code",
   "execution_count": null,
   "id": "34c8c6a9-0189-4199-98d2-9cc5364623fe",
   "metadata": {},
   "outputs": [],
   "source": [
    "calendar_data_df.date = calendar_data_df.date.dt.date"
   ]
  },
  {
   "cell_type": "code",
   "execution_count": null,
   "id": "fd9cfb47-581c-4ec5-a4a2-df046c8501ac",
   "metadata": {},
   "outputs": [],
   "source": [
    "calendar_data_df"
   ]
  },
  {
   "cell_type": "code",
   "execution_count": null,
   "id": "d132493b-b3a1-4609-b810-7ea23836445e",
   "metadata": {},
   "outputs": [],
   "source": [
    "calendar_data_df_us = calendar_data_df[calendar_data_df.country == \"united states\"].copy()"
   ]
  },
  {
   "cell_type": "code",
   "execution_count": null,
   "id": "ad0bbb03-02a5-46ff-9c66-10f00956d6a9",
   "metadata": {},
   "outputs": [],
   "source": [
    "calendar_data_df_us "
   ]
  },
  {
   "cell_type": "code",
   "execution_count": null,
   "id": "5467b049-8619-421f-80be-9251179f4709",
   "metadata": {},
   "outputs": [],
   "source": [
    "calendar_data_df_us.head(10)"
   ]
  },
  {
   "cell_type": "code",
   "execution_count": null,
   "id": "b932e092-d8be-4c9f-bd1b-52382177ea2c",
   "metadata": {},
   "outputs": [],
   "source": [
    "calendar_data_df_us.info()"
   ]
  },
  {
   "cell_type": "code",
   "execution_count": null,
   "id": "4f6d5f2e-57bc-4c29-ac98-e9f939b976db",
   "metadata": {},
   "outputs": [],
   "source": [
    "for col in ['actual', 'previous', 'forecast']:\n",
    "    for sy in ['$' , '%', 'M', 'K']:\n",
    "        calendar_data_df_us[col] = calendar_data_df_us[col].str.replace(sy, \"\")\n",
    "    calendar_data_df_us[col].replace('', 0, inplace= True)\n",
    "    calendar_data_df_us[col] = calendar_data_df_us[col].astype(float)"
   ]
  },
  {
   "cell_type": "code",
   "execution_count": null,
   "id": "3dbf7d5e-4f8b-4d8f-89a3-b2a2cc555655",
   "metadata": {},
   "outputs": [],
   "source": [
    "date_match= {}\n",
    "for orig in calendar_data_df_us.date.unique():\n",
    "    d = orig\n",
    "    tries = 0\n",
    "    while d not in candles_df.time.values:\n",
    "        d = d + dt.timedelta(days=1)\n",
    "        tries += 1\n",
    "        if tries > 5:\n",
    "            print(\"Failed\")\n",
    "            break\n",
    "    date_match[orig] = d"
   ]
  },
  {
   "cell_type": "code",
   "execution_count": null,
   "id": "034c25cc-2f60-42e5-ba5b-096be5fb9fe3",
   "metadata": {},
   "outputs": [],
   "source": [
    "date_match"
   ]
  },
  {
   "cell_type": "code",
   "execution_count": null,
   "id": "cf4b10dc-5722-4edc-8a4d-547565b4ed48",
   "metadata": {},
   "outputs": [],
   "source": [
    "calendar_data_df_us['orig_date'] = calendar_data_df_us.date\n",
    "calendar_data_df_us.date = [date_match[x] for x in calendar_data_df_us.date]  "
   ]
  },
  {
   "cell_type": "code",
   "execution_count": null,
   "id": "4706e026-48bd-4f7b-9ac9-106d7d9096bf",
   "metadata": {},
   "outputs": [],
   "source": [
    "calendar_data_df_us['delta_prev'] = calendar_data_df_us.actual - calendar_data_df_us.previous\n",
    "calendar_data_df_us['delta_fc'] = calendar_data_df_us.actual - calendar_data_df_us.forecast"
   ]
  },
  {
   "cell_type": "code",
   "execution_count": null,
   "id": "c72802b4-5905-49c6-a2ba-ee96d46b9bb1",
   "metadata": {},
   "outputs": [],
   "source": [
    "calendar_data_df_us.head()"
   ]
  },
  {
   "cell_type": "code",
   "execution_count": null,
   "id": "7ebbc421-e49e-4c55-b6ea-e03551f66b23",
   "metadata": {},
   "outputs": [],
   "source": [
    "candles_df.head(2)"
   ]
  },
  {
   "cell_type": "code",
   "execution_count": null,
   "id": "ec684dd2-1fcd-4fc9-84cc-e306686cb5ea",
   "metadata": {},
   "outputs": [],
   "source": [
    "candles_an = candles_df[['time', 'pair', 'gain']].copy()"
   ]
  },
  {
   "cell_type": "code",
   "execution_count": null,
   "id": "fb759df4-1204-4f83-b928-ddbfcb53b3a6",
   "metadata": {},
   "outputs": [],
   "source": [
    "candles_an.head(2)"
   ]
  },
  {
   "cell_type": "code",
   "execution_count": null,
   "id": "999625b3-5777-4ed0-9875-8f0531adce6c",
   "metadata": {},
   "outputs": [],
   "source": [
    "merged = pd.merge(left=candles_an, right=calendar_data_df_us, left_on='time', right_on='date')"
   ]
  },
  {
   "cell_type": "code",
   "execution_count": null,
   "id": "3d718c93-a815-4c1d-9988-659f58607939",
   "metadata": {},
   "outputs": [],
   "source": [
    "merged.category.unique()"
   ]
  },
  {
   "cell_type": "code",
   "execution_count": null,
   "id": "458e7705-38af-463e-9a54-4fb97097b5a4",
   "metadata": {},
   "outputs": [],
   "source": [
    "c = 'unemployment rate'\n",
    "df_an = merged[merged.category==c]\n",
    "print(df_an[df_an.delta_prev < 0].gain.sum())\n",
    "print(df_an[df_an.delta_prev >= 0].gain.sum())"
   ]
  },
  {
   "cell_type": "code",
   "execution_count": null,
   "id": "7518ca7a-c6c2-44e3-bfc5-4554fdf3ca17",
   "metadata": {},
   "outputs": [],
   "source": [
    "import plotly.express as px"
   ]
  },
  {
   "cell_type": "code",
   "execution_count": null,
   "id": "ce28a197-2b82-4e12-b6ab-f85ffbcb3a96",
   "metadata": {},
   "outputs": [],
   "source": [
    "cat = 'unemployment rate'\n",
    "df_cat = merged[merged.category==cat].copy()\n",
    "for p in pairs:\n",
    "    df_plot = df_cat[df_cat.pair == p]\n",
    "    print(p)\n",
    "    fig = px.scatter(df_plot, x=\"gain\", y=\"delta_prev\", trendline=\"ols\")\n",
    "    fig.show()"
   ]
  },
  {
   "cell_type": "code",
   "execution_count": null,
   "id": "988fbbc4-589e-4392-bef8-294339357f09",
   "metadata": {},
   "outputs": [],
   "source": [
    "common_dates = set(candles_an['time']).intersection(set(calendar_data_df_us['date']))\n",
    "print(\"Common Dates:\", common_dates)"
   ]
  },
  {
   "cell_type": "code",
   "execution_count": null,
   "id": "a6a37bc9-7949-489e-93e8-1e0886076ef3",
   "metadata": {},
   "outputs": [],
   "source": [
    "print(merged.head())"
   ]
  },
  {
   "cell_type": "code",
   "execution_count": null,
   "id": "542ca6a3-d229-4a05-9d95-ebec117a237c",
   "metadata": {},
   "outputs": [],
   "source": []
  },
  {
   "cell_type": "code",
   "execution_count": null,
   "id": "a8eacc89-fda9-4f30-9471-e1eeccfac24b",
   "metadata": {},
   "outputs": [],
   "source": []
  },
  {
   "cell_type": "code",
   "execution_count": null,
   "id": "27843582-e232-41e6-a625-b99dc4aade13",
   "metadata": {},
   "outputs": [],
   "source": []
  },
  {
   "cell_type": "code",
   "execution_count": null,
   "id": "54eb3b43-9ba1-4c76-b4c9-82a24f3e8fba",
   "metadata": {},
   "outputs": [],
   "source": []
  }
 ],
 "metadata": {
  "kernelspec": {
   "display_name": "Python 3 (ipykernel)",
   "language": "python",
   "name": "python3"
  },
  "language_info": {
   "codemirror_mode": {
    "name": "ipython",
    "version": 3
   },
   "file_extension": ".py",
   "mimetype": "text/x-python",
   "name": "python",
   "nbconvert_exporter": "python",
   "pygments_lexer": "ipython3",
   "version": "3.10.12"
  }
 },
 "nbformat": 4,
 "nbformat_minor": 5
}
