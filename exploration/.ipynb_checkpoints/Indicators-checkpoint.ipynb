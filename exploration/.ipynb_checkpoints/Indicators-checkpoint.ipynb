{
 "cells": [
  {
   "cell_type": "code",
   "execution_count": null,
   "id": "fc5db9ed",
   "metadata": {},
   "outputs": [],
   "source": [
    "import sys\n",
    "sys.path.append('../')\n",
    "from plotting import CandlePlot\n",
    "import pandas as pd"
   ]
  },
  {
   "cell_type": "code",
   "execution_count": null,
   "id": "3fc5e1ee-3c72-4e4c-a718-e19cd35cba54",
   "metadata": {},
   "outputs": [],
   "source": [
    "from technicals.indicators import BollingerBands, ATR, KeltnerChannels, RSI, MACD"
   ]
  },
  {
   "cell_type": "code",
   "execution_count": null,
   "id": "baff09c2",
   "metadata": {},
   "outputs": [],
   "source": [
    "df = pd.read_pickle(\"../data/AUD_CAD_H1.pkl\")"
   ]
  },
  {
   "cell_type": "code",
   "execution_count": null,
   "id": "8e9e7d9b-fa91-4946-996d-2c0a245912de",
   "metadata": {},
   "outputs": [],
   "source": [
    "df_an = df.copy()"
   ]
  },
  {
   "cell_type": "code",
   "execution_count": null,
   "id": "d06deb37",
   "metadata": {},
   "outputs": [],
   "source": [
    "df_an = MACD(df_an)"
   ]
  },
  {
   "cell_type": "code",
   "execution_count": null,
   "id": "19b1f30b-1700-46d5-a706-4a6ec27fa772",
   "metadata": {},
   "outputs": [],
   "source": [
    "df_an.tail()"
   ]
  },
  {
   "cell_type": "code",
   "execution_count": null,
   "id": "78a7272a",
   "metadata": {},
   "outputs": [],
   "source": [
    "dfp = df_an.iloc[-100:]\n",
    "cp = CandlePlot(dfp, candles=True)\n",
    "cp.show_plot(line_traces=[], sec_traces=[])"
   ]
  },
  {
   "cell_type": "code",
   "execution_count": null,
   "id": "dbd2eeb6-c302-47f7-bbfb-6fa7867cf6c3",
   "metadata": {},
   "outputs": [],
   "source": [
    "import plotly.graph_objects as go"
   ]
  },
  {
   "cell_type": "code",
   "execution_count": null,
   "id": "3829f066",
   "metadata": {},
   "outputs": [],
   "source": [
    "cp = CandlePlot(dfp,candles=False)\n",
    "cp.fig.add_trace(go.Bar(\n",
    "    x=cp.df_plot.sTime,\n",
    "    y=cp.df_plot.HIST,\n",
    "    name=\"HIST\"\n",
    "))\n",
    "cp.show_plot(line_traces=[ 'SIGNAL', 'MACD'], sec_traces=[])     "
   ]
  },
  {
   "cell_type": "code",
   "execution_count": null,
   "id": "753e6a03",
   "metadata": {},
   "outputs": [],
   "source": []
  },
  {
   "cell_type": "code",
   "execution_count": null,
   "id": "1deba3c2",
   "metadata": {},
   "outputs": [],
   "source": []
  },
  {
   "cell_type": "code",
   "execution_count": null,
   "id": "d324e353",
   "metadata": {},
   "outputs": [],
   "source": []
  },
  {
   "cell_type": "code",
   "execution_count": null,
   "id": "9b4ba000-8cef-4d81-85a6-4b37bcf221a5",
   "metadata": {},
   "outputs": [],
   "source": []
  },
  {
   "cell_type": "code",
   "execution_count": null,
   "id": "e043b50b-4847-489e-9f93-e1602bbbe3e2",
   "metadata": {},
   "outputs": [],
   "source": []
  }
 ],
 "metadata": {
  "kernelspec": {
   "display_name": "Python 3 (ipykernel)",
   "language": "python",
   "name": "python3"
  },
  "language_info": {
   "codemirror_mode": {
    "name": "ipython",
    "version": 3
   },
   "file_extension": ".py",
   "mimetype": "text/x-python",
   "name": "python",
   "nbconvert_exporter": "python",
   "pygments_lexer": "ipython3",
   "version": "3.10.12"
  }
 },
 "nbformat": 4,
 "nbformat_minor": 5
}
