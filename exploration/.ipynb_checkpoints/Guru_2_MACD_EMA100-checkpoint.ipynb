{
 "cells": [
  {
   "cell_type": "code",
   "execution_count": null,
   "id": "f2676eec-f8f5-4193-9290-8cbc97472eff",
   "metadata": {},
   "outputs": [],
   "source": [
    "import sys\n",
    "sys.path.append(\"../\")"
   ]
  },
  {
   "cell_type": "code",
   "execution_count": null,
   "id": "6f1ace57-bc11-4f24-aa1a-60acab13dad7",
   "metadata": {},
   "outputs": [],
   "source": [
    "import pandas as pd\n",
    "import datetime as dt\n",
    "from technicals.indicators import MACD\n",
    "from simulation.guru_tester import GuruTester"
   ]
  },
  {
   "cell_type": "code",
   "execution_count": null,
   "id": "9c8dec8d-2515-44f5-a20a-1fda9fad9fc2",
   "metadata": {},
   "outputs": [],
   "source": [
    "BUY = 1\n",
    "SELL = -1\n",
    "NONE = 0\n",
    "\n",
    "def apply_signal(row):\n",
    "    if row.direction == BUY and row['mid_l'] > row.EMA_100 and row.candle_dir == BUY:\n",
    "        return BUY\n",
    "    if row.direction == SELL and row['mid_h'] < row.EMA_100 and row.candle_dir == SELL:\n",
    "        return SELL\n",
    "    return NONE"
   ]
  },
  {
   "cell_type": "code",
   "execution_count": null,
   "id": "e49f7be3-52a1-4b86-b7a0-3ed96b4cc228",
   "metadata": {},
   "outputs": [],
   "source": [
    "pair = \"EUR_USD\"\n",
    "df_an = pd.read_pickle(f\"../data/{pair}_H1.pkl\")\n",
    "df_m5 = pd.read_pickle(f\"../data/{pair}_M5.pkl\")\n",
    "df_an.reset_index(drop=True, inplace=True)\n",
    "df_m5.reset_index(drop=True, inplace=True)"
   ]
  },
  {
   "cell_type": "code",
   "execution_count": null,
   "id": "afe11061-1d78-4b55-94ad-9b67546f0d29",
   "metadata": {},
   "outputs": [],
   "source": [
    "df_an = MACD(df_an)\n",
    "df_an['EMA_100']=df_an['mid_c'].ewm(span=100, min_periods=100).mean()\n",
    "df_an.dropna(inplace=True)\n",
    "df_an.reset_index(drop=True, inplace=True)"
   ]
  },
  {
   "cell_type": "code",
   "execution_count": null,
   "id": "733c791f-6386-4600-961f-6f368ecbb929",
   "metadata": {},
   "outputs": [],
   "source": [
    "def apply_cross(row):\n",
    "    if row.macd_delta > 0 and row.macd_delta_prev < 0 :\n",
    "        return BUY\n",
    "    if row.macd_delta < 0 and row.macd_delta_prev > 0 :\n",
    "        return SELL\n",
    "    return NONE"
   ]
  },
  {
   "cell_type": "code",
   "execution_count": null,
   "id": "23102475-56bb-4902-bd19-0f0aadfe21e9",
   "metadata": {},
   "outputs": [],
   "source": [
    "df_an['macd_delta'] = df_an.MACD - df_an.SIGNAL\n",
    "df_an['macd_delta_prev'] = df_an.macd_delta.shift(1)\n",
    "df_an['direction'] = df_an.apply(apply_cross, axis=1)\n",
    "\n",
    "candle_dir = df_an['mid_c'] - df_an['mid_o']\n",
    "df_an['candle_dir'] = [BUY if x >= 0 else SELL for x in candle_dir]"
   ]
  },
  {
   "cell_type": "code",
   "execution_count": null,
   "id": "17156fd7-7a74-4f99-9662-0da9f2228f8c",
   "metadata": {},
   "outputs": [],
   "source": [
    "df_an.direction.value_counts()"
   ]
  },
  {
   "cell_type": "code",
   "execution_count": null,
   "id": "526dd22c-f888-4583-a24a-5c0be5837536",
   "metadata": {},
   "outputs": [],
   "source": [
    "df_an.head()"
   ]
  },
  {
   "cell_type": "code",
   "execution_count": null,
   "id": "60c49465-8d75-4967-befe-ea5084fb695b",
   "metadata": {},
   "outputs": [],
   "source": [
    "def run_pair(pair, time_d=1):\n",
    "    df_an = pd.read_pickle(f\"../data/{pair}_H{time_d}.pkl\")\n",
    "    df_m5 = pd.read_pickle(f\"../data/{pair}_M5.pkl\")\n",
    "    df_an.reset_index(drop=True, inplace=True)\n",
    "    df_m5.reset_index(drop=True, inplace=True)\n",
    "    df_an=MACD(df_an)\n",
    "    df_an['EMA_100']=df_an['mid_c'].ewm(span=100, min_periods=100).mean()\n",
    "\n",
    "    df_an['macd_delta'] = df_an.MACD - df_an.SIGNAL\n",
    "    df_an['macd_delta_prev'] = df_an.macd_delta.shift(1)\n",
    "    df_an['direction'] = df_an.apply(apply_cross, axis=1)\n",
    "    candle_dir = df_an['mid_c'] - df_an['mid_o']\n",
    "    df_an['candle_dir'] = [1 if x >= 0 else -1 for x in candle_dir]\n",
    "    \n",
    "    our_cols=['time', 'mid_o', 'mid_h', 'mid_l', 'mid_c',\n",
    "              'bid_o', 'bid_h','bid_l', 'bid_c', \n",
    "              'ask_o', 'ask_h', 'ask_l', 'ask_c',\n",
    "              'direction', 'candle_dir', 'EMA_100']\n",
    "    df_slim = df_an[our_cols].copy()\n",
    "    df_slim.dropna(inplace=True)\n",
    "    \n",
    "    df_slim.reset_index(drop=True, inplace=True)\n",
    "    gt = GuruTester(\n",
    "        df_slim,\n",
    "        apply_signal,\n",
    "        df_m5,\n",
    "        use_spread=True,\n",
    "        time_d=time_d\n",
    "    )\n",
    "\n",
    "    gt.run_test()\n",
    "    return gt.df_results"
   ]
  },
  {
   "cell_type": "code",
   "execution_count": null,
   "id": "a66ef356-41d6-4ad7-89f9-0fe210d2bb7a",
   "metadata": {},
   "outputs": [],
   "source": [
    "res = []\n",
    "for p in [\"AUD_NZD\", \"EUR_USD\", \"GBP_JPY\", \"USD_CAD\"]:\n",
    "    res.append(dict(pair=p, res=run_pair(p, time_d=1)))"
   ]
  },
  {
   "cell_type": "code",
   "execution_count": null,
   "id": "461c726b-e8de-46df-86cc-2db2c6c437eb",
   "metadata": {},
   "outputs": [],
   "source": [
    "for r in res:\n",
    "    print(r['pair'], r['res'].result.sum())"
   ]
  },
  {
   "cell_type": "code",
   "execution_count": null,
   "id": "1377e1a3-38db-4e55-90cc-aecc1b3747fc",
   "metadata": {},
   "outputs": [],
   "source": [
    "res = []\n",
    "for p in [\"AUD_NZD\", \"EUR_USD\", \"GBP_JPY\", \"USD_CAD\"]:\n",
    "    res.append(dict(pair=p, res=run_pair(p, time_d=4)))\n",
    "for r in res:\n",
    "    print(r['pair'], r['res'].result.sum())"
   ]
  },
  {
   "cell_type": "code",
   "execution_count": null,
   "id": "7218e551-057e-48fa-9795-da1dc5298d04",
   "metadata": {},
   "outputs": [],
   "source": []
  },
  {
   "cell_type": "code",
   "execution_count": null,
   "id": "f54b29ce-f5f9-4fbb-bf76-0024626534a2",
   "metadata": {},
   "outputs": [],
   "source": []
  },
  {
   "cell_type": "code",
   "execution_count": null,
   "id": "12e17af2-5e05-4682-b844-a37e4c5a0602",
   "metadata": {},
   "outputs": [],
   "source": []
  },
  {
   "cell_type": "code",
   "execution_count": null,
   "id": "5dc29994-27e4-485b-87cb-8e5d7af0d37a",
   "metadata": {},
   "outputs": [],
   "source": []
  },
  {
   "cell_type": "code",
   "execution_count": null,
   "id": "693e74db-6ca8-4f32-a354-d06ed82b9acd",
   "metadata": {},
   "outputs": [],
   "source": []
  },
  {
   "cell_type": "code",
   "execution_count": null,
   "id": "5f1a4d96-e097-4892-983c-5c8485da8a32",
   "metadata": {},
   "outputs": [],
   "source": []
  }
 ],
 "metadata": {
  "kernelspec": {
   "display_name": "Python 3 (ipykernel)",
   "language": "python",
   "name": "python3"
  },
  "language_info": {
   "codemirror_mode": {
    "name": "ipython",
    "version": 3
   },
   "file_extension": ".py",
   "mimetype": "text/x-python",
   "name": "python",
   "nbconvert_exporter": "python",
   "pygments_lexer": "ipython3",
   "version": "3.10.12"
  }
 },
 "nbformat": 4,
 "nbformat_minor": 5
}
