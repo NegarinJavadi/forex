{
 "cells": [
  {
   "cell_type": "code",
   "execution_count": 1,
   "id": "fc5db9ed",
   "metadata": {},
   "outputs": [],
   "source": [
    "import pandas as pd\n",
    "import plotly.graph_objects as go\n",
    "import datetime as dt"
   ]
  },
  {
   "cell_type": "code",
   "execution_count": 2,
   "id": "baff09c2",
   "metadata": {},
   "outputs": [],
   "source": [
    "pair = \"GBP_NZD\"\n",
    "granularity = \"H4\"\n",
    "df = pd.read_pickle(f\"../data/{pair}_{granularity}.pkl\")"
   ]
  },
  {
   "cell_type": "code",
   "execution_count": 3,
   "id": "20df4b25",
   "metadata": {},
   "outputs": [
    {
     "data": {
      "text/html": [
       "<div>\n",
       "<style scoped>\n",
       "    .dataframe tbody tr th:only-of-type {\n",
       "        vertical-align: middle;\n",
       "    }\n",
       "\n",
       "    .dataframe tbody tr th {\n",
       "        vertical-align: top;\n",
       "    }\n",
       "\n",
       "    .dataframe thead th {\n",
       "        text-align: right;\n",
       "    }\n",
       "</style>\n",
       "<table border=\"1\" class=\"dataframe\">\n",
       "  <thead>\n",
       "    <tr style=\"text-align: right;\">\n",
       "      <th></th>\n",
       "      <th>volume</th>\n",
       "      <th>time</th>\n",
       "      <th>mid-o</th>\n",
       "      <th>mid-h</th>\n",
       "      <th>mid-l</th>\n",
       "      <th>mid-c</th>\n",
       "      <th>bid-o</th>\n",
       "      <th>bid-h</th>\n",
       "      <th>bid-l</th>\n",
       "      <th>bid-c</th>\n",
       "      <th>ask-o</th>\n",
       "      <th>ask-h</th>\n",
       "      <th>ask-l</th>\n",
       "      <th>ask-c</th>\n",
       "    </tr>\n",
       "  </thead>\n",
       "  <tbody>\n",
       "    <tr>\n",
       "      <th>3995</th>\n",
       "      <td>4528</td>\n",
       "      <td>2023-12-11 22:00:00+00:00</td>\n",
       "      <td>2.04945</td>\n",
       "      <td>2.05250</td>\n",
       "      <td>2.04770</td>\n",
       "      <td>2.04828</td>\n",
       "      <td>2.04695</td>\n",
       "      <td>2.05099</td>\n",
       "      <td>2.04680</td>\n",
       "      <td>2.04793</td>\n",
       "      <td>2.05195</td>\n",
       "      <td>2.05498</td>\n",
       "      <td>2.04804</td>\n",
       "      <td>2.04864</td>\n",
       "    </tr>\n",
       "    <tr>\n",
       "      <th>3996</th>\n",
       "      <td>5567</td>\n",
       "      <td>2023-12-12 02:00:00+00:00</td>\n",
       "      <td>2.04824</td>\n",
       "      <td>2.04901</td>\n",
       "      <td>2.04214</td>\n",
       "      <td>2.04231</td>\n",
       "      <td>2.04793</td>\n",
       "      <td>2.04864</td>\n",
       "      <td>2.04177</td>\n",
       "      <td>2.04196</td>\n",
       "      <td>2.04856</td>\n",
       "      <td>2.04939</td>\n",
       "      <td>2.04250</td>\n",
       "      <td>2.04266</td>\n",
       "    </tr>\n",
       "    <tr>\n",
       "      <th>3997</th>\n",
       "      <td>9796</td>\n",
       "      <td>2023-12-12 06:00:00+00:00</td>\n",
       "      <td>2.04227</td>\n",
       "      <td>2.04579</td>\n",
       "      <td>2.03968</td>\n",
       "      <td>2.04248</td>\n",
       "      <td>2.04195</td>\n",
       "      <td>2.04547</td>\n",
       "      <td>2.03909</td>\n",
       "      <td>2.04216</td>\n",
       "      <td>2.04259</td>\n",
       "      <td>2.04611</td>\n",
       "      <td>2.04025</td>\n",
       "      <td>2.04279</td>\n",
       "    </tr>\n",
       "    <tr>\n",
       "      <th>3998</th>\n",
       "      <td>15657</td>\n",
       "      <td>2023-12-12 10:00:00+00:00</td>\n",
       "      <td>2.04248</td>\n",
       "      <td>2.05110</td>\n",
       "      <td>2.04195</td>\n",
       "      <td>2.04904</td>\n",
       "      <td>2.04216</td>\n",
       "      <td>2.05072</td>\n",
       "      <td>2.04164</td>\n",
       "      <td>2.04869</td>\n",
       "      <td>2.04281</td>\n",
       "      <td>2.05149</td>\n",
       "      <td>2.04226</td>\n",
       "      <td>2.04940</td>\n",
       "    </tr>\n",
       "    <tr>\n",
       "      <th>3999</th>\n",
       "      <td>22959</td>\n",
       "      <td>2023-12-12 14:00:00+00:00</td>\n",
       "      <td>2.04898</td>\n",
       "      <td>2.05086</td>\n",
       "      <td>2.04666</td>\n",
       "      <td>2.04953</td>\n",
       "      <td>2.04866</td>\n",
       "      <td>2.05049</td>\n",
       "      <td>2.04625</td>\n",
       "      <td>2.04922</td>\n",
       "      <td>2.04929</td>\n",
       "      <td>2.05123</td>\n",
       "      <td>2.04708</td>\n",
       "      <td>2.04984</td>\n",
       "    </tr>\n",
       "  </tbody>\n",
       "</table>\n",
       "</div>"
      ],
      "text/plain": [
       "      volume                      time    mid-o    mid-h    mid-l    mid-c  \\\n",
       "3995    4528 2023-12-11 22:00:00+00:00  2.04945  2.05250  2.04770  2.04828   \n",
       "3996    5567 2023-12-12 02:00:00+00:00  2.04824  2.04901  2.04214  2.04231   \n",
       "3997    9796 2023-12-12 06:00:00+00:00  2.04227  2.04579  2.03968  2.04248   \n",
       "3998   15657 2023-12-12 10:00:00+00:00  2.04248  2.05110  2.04195  2.04904   \n",
       "3999   22959 2023-12-12 14:00:00+00:00  2.04898  2.05086  2.04666  2.04953   \n",
       "\n",
       "        bid-o    bid-h    bid-l    bid-c    ask-o    ask-h    ask-l    ask-c  \n",
       "3995  2.04695  2.05099  2.04680  2.04793  2.05195  2.05498  2.04804  2.04864  \n",
       "3996  2.04793  2.04864  2.04177  2.04196  2.04856  2.04939  2.04250  2.04266  \n",
       "3997  2.04195  2.04547  2.03909  2.04216  2.04259  2.04611  2.04025  2.04279  \n",
       "3998  2.04216  2.05072  2.04164  2.04869  2.04281  2.05149  2.04226  2.04940  \n",
       "3999  2.04866  2.05049  2.04625  2.04922  2.04929  2.05123  2.04708  2.04984  "
      ]
     },
     "execution_count": 3,
     "metadata": {},
     "output_type": "execute_result"
    }
   ],
   "source": [
    "df.tail()"
   ]
  },
  {
   "cell_type": "code",
   "execution_count": 6,
   "id": "d06deb37",
   "metadata": {},
   "outputs": [],
   "source": [
    "df_plot = df.iloc[:100]"
   ]
  },
  {
   "cell_type": "code",
   "execution_count": 12,
   "id": "87bcd6a8",
   "metadata": {},
   "outputs": [
    {
     "ename": "AttributeError",
     "evalue": "'DataFrame' object has no attribute 'mid_o'",
     "output_type": "error",
     "traceback": [
      "\u001b[0;31m---------------------------------------------------------------------------\u001b[0m",
      "\u001b[0;31mAttributeError\u001b[0m                            Traceback (most recent call last)",
      "\u001b[0;32m/tmp/ipykernel_25412/4053726711.py\u001b[0m in \u001b[0;36m?\u001b[0;34m()\u001b[0m\n\u001b[1;32m      1\u001b[0m \u001b[0mfig\u001b[0m \u001b[0;34m=\u001b[0m \u001b[0mgo\u001b[0m\u001b[0;34m.\u001b[0m\u001b[0mFigure\u001b[0m\u001b[0;34m(\u001b[0m\u001b[0;34m)\u001b[0m\u001b[0;34m\u001b[0m\u001b[0;34m\u001b[0m\u001b[0m\n\u001b[1;32m      2\u001b[0m fig.add_trace(go.Candlestick(\n\u001b[1;32m      3\u001b[0m     \u001b[0mx\u001b[0m\u001b[0;34m=\u001b[0m\u001b[0mdf_plot\u001b[0m\u001b[0;34m.\u001b[0m\u001b[0mtime\u001b[0m\u001b[0;34m,\u001b[0m\u001b[0;34m\u001b[0m\u001b[0;34m\u001b[0m\u001b[0m\n\u001b[0;32m----> 4\u001b[0;31m     \u001b[0mopenn\u001b[0m\u001b[0;34m=\u001b[0m \u001b[0mdf_plot\u001b[0m\u001b[0;34m.\u001b[0m\u001b[0mmid_o\u001b[0m\u001b[0;34m,\u001b[0m\u001b[0;34m\u001b[0m\u001b[0;34m\u001b[0m\u001b[0m\n\u001b[0m\u001b[1;32m      5\u001b[0m     \u001b[0mhigh\u001b[0m\u001b[0;34m=\u001b[0m \u001b[0mdf_plot\u001b[0m\u001b[0;34m.\u001b[0m\u001b[0mmid_h\u001b[0m\u001b[0;34m,\u001b[0m\u001b[0;34m\u001b[0m\u001b[0;34m\u001b[0m\u001b[0m\n\u001b[1;32m      6\u001b[0m     \u001b[0mlow\u001b[0m\u001b[0;34m=\u001b[0m \u001b[0mdf_plot\u001b[0m\u001b[0;34m.\u001b[0m\u001b[0mmid_l\u001b[0m\u001b[0;34m,\u001b[0m\u001b[0;34m\u001b[0m\u001b[0;34m\u001b[0m\u001b[0m\n\u001b[1;32m      7\u001b[0m     \u001b[0mclose\u001b[0m\u001b[0;34m=\u001b[0m \u001b[0mdf_plot\u001b[0m\u001b[0;34m.\u001b[0m\u001b[0mmid_c\u001b[0m\u001b[0;34m\u001b[0m\u001b[0;34m\u001b[0m\u001b[0m\n",
      "\u001b[0;32m~/.local/lib/python3.10/site-packages/pandas/core/generic.py\u001b[0m in \u001b[0;36m?\u001b[0;34m(self, name)\u001b[0m\n\u001b[1;32m   6200\u001b[0m             \u001b[0;32mand\u001b[0m \u001b[0mname\u001b[0m \u001b[0;32mnot\u001b[0m \u001b[0;32min\u001b[0m \u001b[0mself\u001b[0m\u001b[0;34m.\u001b[0m\u001b[0m_accessors\u001b[0m\u001b[0;34m\u001b[0m\u001b[0;34m\u001b[0m\u001b[0m\n\u001b[1;32m   6201\u001b[0m             \u001b[0;32mand\u001b[0m \u001b[0mself\u001b[0m\u001b[0;34m.\u001b[0m\u001b[0m_info_axis\u001b[0m\u001b[0;34m.\u001b[0m\u001b[0m_can_hold_identifiers_and_holds_name\u001b[0m\u001b[0;34m(\u001b[0m\u001b[0mname\u001b[0m\u001b[0;34m)\u001b[0m\u001b[0;34m\u001b[0m\u001b[0;34m\u001b[0m\u001b[0m\n\u001b[1;32m   6202\u001b[0m         ):\n\u001b[1;32m   6203\u001b[0m             \u001b[0;32mreturn\u001b[0m \u001b[0mself\u001b[0m\u001b[0;34m[\u001b[0m\u001b[0mname\u001b[0m\u001b[0;34m]\u001b[0m\u001b[0;34m\u001b[0m\u001b[0;34m\u001b[0m\u001b[0m\n\u001b[0;32m-> 6204\u001b[0;31m         \u001b[0;32mreturn\u001b[0m \u001b[0mobject\u001b[0m\u001b[0;34m.\u001b[0m\u001b[0m__getattribute__\u001b[0m\u001b[0;34m(\u001b[0m\u001b[0mself\u001b[0m\u001b[0;34m,\u001b[0m \u001b[0mname\u001b[0m\u001b[0;34m)\u001b[0m\u001b[0;34m\u001b[0m\u001b[0;34m\u001b[0m\u001b[0m\n\u001b[0m",
      "\u001b[0;31mAttributeError\u001b[0m: 'DataFrame' object has no attribute 'mid_o'"
     ]
    }
   ],
   "source": [
    "fig = go.Figure()\n",
    "fig.add_trace(go.Candlestick(\n",
    "    x=df_plot.time,\n",
    "    open= df_plot.mid_o,\n",
    "    high= df_plot.mid_h,\n",
    "    low= df_plot.mid_l,\n",
    "    close= df_plot.mid_c\n",
    "\n",
    "))\n",
    "\n",
    "fig.show()"
   ]
  },
  {
   "cell_type": "code",
   "execution_count": null,
   "id": "182e868a",
   "metadata": {},
   "outputs": [],
   "source": []
  },
  {
   "cell_type": "code",
   "execution_count": null,
   "id": "8bed6364",
   "metadata": {},
   "outputs": [],
   "source": []
  },
  {
   "cell_type": "code",
   "execution_count": null,
   "id": "4c0a9817",
   "metadata": {},
   "outputs": [],
   "source": []
  },
  {
   "cell_type": "code",
   "execution_count": null,
   "id": "78a7272a",
   "metadata": {},
   "outputs": [],
   "source": []
  },
  {
   "cell_type": "code",
   "execution_count": null,
   "id": "3829f066",
   "metadata": {},
   "outputs": [],
   "source": []
  },
  {
   "cell_type": "code",
   "execution_count": null,
   "id": "753e6a03",
   "metadata": {},
   "outputs": [],
   "source": []
  },
  {
   "cell_type": "code",
   "execution_count": null,
   "id": "1deba3c2",
   "metadata": {},
   "outputs": [],
   "source": []
  },
  {
   "cell_type": "code",
   "execution_count": null,
   "id": "d324e353",
   "metadata": {},
   "outputs": [],
   "source": []
  }
 ],
 "metadata": {
  "kernelspec": {
   "display_name": "Python 3 (ipykernel)",
   "language": "python",
   "name": "python3"
  },
  "language_info": {
   "codemirror_mode": {
    "name": "ipython",
    "version": 3
   },
   "file_extension": ".py",
   "mimetype": "text/x-python",
   "name": "python",
   "nbconvert_exporter": "python",
   "pygments_lexer": "ipython3",
   "version": "3.10.12"
  }
 },
 "nbformat": 4,
 "nbformat_minor": 5
}
