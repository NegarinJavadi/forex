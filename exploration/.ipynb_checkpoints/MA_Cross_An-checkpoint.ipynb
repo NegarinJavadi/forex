{
 "cells": [
  {
   "cell_type": "code",
   "execution_count": null,
   "id": "80c14be3-efea-44f6-a3e2-b34dde104420",
   "metadata": {},
   "outputs": [],
   "source": [
    "import pandas as pd\n",
    "from plotting import CandlePlot\n",
    "pd.set_option(\"display.max_columns\", None)"
   ]
  },
  {
   "cell_type": "code",
   "execution_count": null,
   "id": "be09f68d-1ce4-4473-87da-33a61f26c59e",
   "metadata": {},
   "outputs": [],
   "source": [
    "df_ma_res = pd.read_pickle(\"../data/ma_res.pkl\")\n",
    "df_ma_trades = pd.read_pickle(\"../data/ma_trades.pkl\")"
   ]
  },
  {
   "cell_type": "code",
   "execution_count": null,
   "id": "d7a4b233-ff42-437c-9aee-7a55b5fa19df",
   "metadata": {},
   "outputs": [],
   "source": [
    "df_ma_res.granularity.unique()"
   ]
  },
  {
   "cell_type": "code",
   "execution_count": null,
   "id": "93c684b1-c0d7-4245-9424-fd6a8323d3af",
   "metadata": {},
   "outputs": [],
   "source": [
    "df_ma_res_h1 = df_ma_res[df_ma_res.granularity == \"H1\"].copy()\n",
    "df_ma_trades_h1 = df_ma_trades[df_ma_trades.granularity == \"H1\"].copy()"
   ]
  },
  {
   "cell_type": "code",
   "execution_count": null,
   "id": "9567adae-b3be-40f4-9519-c03141e4cbcc",
   "metadata": {},
   "outputs": [],
   "source": [
    "df_ma_trades_h1.shape"
   ]
  },
  {
   "cell_type": "code",
   "execution_count": null,
   "id": "00d045a9-55c5-47bb-9f8a-ab5104b44f53",
   "metadata": {},
   "outputs": [],
   "source": [
    "df_ma_res_h1.columns"
   ]
  },
  {
   "cell_type": "code",
   "execution_count": null,
   "id": "eec748b6-31fd-4c75-a8fa-10928fc40818",
   "metadata": {},
   "outputs": [],
   "source": [
    "df_cross_summary = df_ma_res_h1[['pair', 'num_trades', 'total_gain', 'cross']].copy()"
   ]
  },
  {
   "cell_type": "code",
   "execution_count": null,
   "id": "3f1f3939-a780-4b12-9e4c-6514568dbce9",
   "metadata": {},
   "outputs": [],
   "source": [
    "df_cross_summary"
   ]
  },
  {
   "cell_type": "code",
   "execution_count": null,
   "id": "71a08be8-2c49-438e-8698-30cd51532f32",
   "metadata": {},
   "outputs": [],
   "source": [
    "df_cross_gr = df_cross_summary.groupby(by=\"cross\", as_index=False).sum()\n",
    "df_cross_gr.sort_values(by=\"total_gain\", ascending=False, inplace=True)"
   ]
  },
  {
   "cell_type": "code",
   "execution_count": null,
   "id": "819235bb-db9c-4fb6-a6e0-c64ef9c970be",
   "metadata": {},
   "outputs": [],
   "source": [
    "df_cross_gr.head()"
   ]
  },
  {
   "cell_type": "code",
   "execution_count": null,
   "id": "15b39994-a149-4533-ba3e-03ca676e9f6a",
   "metadata": {},
   "outputs": [],
   "source": [
    "total_pairs = len(df_ma_res_h1.pair.unique())"
   ]
  },
  {
   "cell_type": "code",
   "execution_count": null,
   "id": "8094495c-ee47-413c-94ba-66489e96f8bb",
   "metadata": {},
   "outputs": [],
   "source": [
    "total_pairs "
   ]
  },
  {
   "cell_type": "code",
   "execution_count": null,
   "id": "7963b835-5457-4eab-ad67-c2861ae3ee77",
   "metadata": {},
   "outputs": [],
   "source": [
    "temp = df_ma_res_h1[df_ma_res_h1.cross == \"MA_10_MA_40\"]"
   ]
  },
  {
   "cell_type": "code",
   "execution_count": null,
   "id": "5b97d814-a725-4e69-b7fe-be5333a2a4ab",
   "metadata": {},
   "outputs": [],
   "source": [
    "temp[temp.total_gain > 0].shape[0]"
   ]
  },
  {
   "cell_type": "code",
   "execution_count": null,
   "id": "ce9a63d9-d780-435e-a3a6-32939e6c9562",
   "metadata": {},
   "outputs": [],
   "source": [
    "for c in df_ma_res_h1.cross.unique():\n",
    "    temp = df_ma_res_h1[df_ma_res_h1.cross == c]\n",
    "    pg = temp[temp.total_gain > 0].shape[0]\n",
    "    print(f\"{c} pg:{pg} perc gain:{(pg / total_pairs) * 100:.0f}%\")"
   ]
  },
  {
   "cell_type": "code",
   "execution_count": null,
   "id": "93fe5f67-8ea6-4ae4-8429-9af7027ec2a4",
   "metadata": {},
   "outputs": [],
   "source": [
    "cross = \"MA_10_MA_20\"\n",
    "df_MA_10_MA_20 = df_ma_res_h1[df_ma_res_h1.cross == cross].copy()\n",
    "df_MA_10_MA_20.sort_values(by=\"total_gain\", ascending=False, inplace=True)"
   ]
  },
  {
   "cell_type": "code",
   "execution_count": null,
   "id": "fbbc13c4-db8e-40b9-a5b5-fc3ef3f768f3",
   "metadata": {},
   "outputs": [],
   "source": [
    "df_MA_10_MA_20 "
   ]
  },
  {
   "cell_type": "code",
   "execution_count": null,
   "id": "5bea5534-7196-4cbe-932c-b3f3f14061fd",
   "metadata": {},
   "outputs": [],
   "source": [
    "df_gains = df_ma_trades_h1[(df_ma_trades_h1.cross==cross)&\n",
    "                           (df_ma_trades_h1.pair==\"CAD_JPY\")].copy()"
   ]
  },
  {
   "cell_type": "code",
   "execution_count": null,
   "id": "509742e0-e3e6-42b5-a8ae-b57d4990f546",
   "metadata": {},
   "outputs": [],
   "source": [
    "df_gains.head(3)"
   ]
  },
  {
   "cell_type": "code",
   "execution_count": null,
   "id": "6bdb611a-aba2-48a7-aa9a-82f84ddd75c7",
   "metadata": {},
   "outputs": [],
   "source": [
    "cp = CandlePlot(df_gains, candles=False)\n",
    "cp.show_plot(line_traces=['GAIN_C'])"
   ]
  },
  {
   "cell_type": "code",
   "execution_count": null,
   "id": "09dee318-2f7e-465d-b690-d09d14fa6c66",
   "metadata": {},
   "outputs": [],
   "source": [
    "for curr in df_MA_10_MA_20[df_MA_10_MA_20.total_gain > 0].pair.unique():\n",
    "    temp_gains = df_ma_trades_h1[(df_ma_trades_h1.cross==cross)&\n",
    "                           (df_ma_trades_h1.pair==curr)].copy()\n",
    "    print(curr, int(temp_gains.GAIN.sum()))\n",
    "    cp = CandlePlot(temp_gains, candles=False)\n",
    "    cp.show_plot(line_traces=['GAIN_C'])"
   ]
  },
  {
   "cell_type": "code",
   "execution_count": null,
   "id": "6112425e-3782-4a34-a1a6-5e5a0a9825ff",
   "metadata": {},
   "outputs": [],
   "source": []
  },
  {
   "cell_type": "code",
   "execution_count": null,
   "id": "0fee6b46-af67-42c7-821b-dfb4be276bd0",
   "metadata": {},
   "outputs": [],
   "source": []
  },
  {
   "cell_type": "code",
   "execution_count": null,
   "id": "d2b23649-5f77-4537-87e9-9217acdd7092",
   "metadata": {},
   "outputs": [],
   "source": []
  },
  {
   "cell_type": "code",
   "execution_count": null,
   "id": "564a1ded-a507-4642-bf37-c364190d711f",
   "metadata": {},
   "outputs": [],
   "source": []
  },
  {
   "cell_type": "code",
   "execution_count": null,
   "id": "5bc41d69-6a10-4db2-8efb-733df81e9355",
   "metadata": {},
   "outputs": [],
   "source": []
  },
  {
   "cell_type": "code",
   "execution_count": null,
   "id": "ff04e8f7-61f5-4d94-99e9-4bd687073472",
   "metadata": {},
   "outputs": [],
   "source": []
  },
  {
   "cell_type": "code",
   "execution_count": null,
   "id": "8a00e99c-97cb-4011-b99f-a2cf2d4610d9",
   "metadata": {},
   "outputs": [],
   "source": []
  },
  {
   "cell_type": "code",
   "execution_count": null,
   "id": "e392d1fa-91b4-4213-b3ae-649439a7a7c6",
   "metadata": {},
   "outputs": [],
   "source": []
  },
  {
   "cell_type": "code",
   "execution_count": null,
   "id": "fb32e65a-236f-46e9-9664-b1b4277813db",
   "metadata": {},
   "outputs": [],
   "source": []
  },
  {
   "cell_type": "code",
   "execution_count": null,
   "id": "d199fed9-bb7f-425a-8166-138cabfee1d4",
   "metadata": {},
   "outputs": [],
   "source": []
  },
  {
   "cell_type": "code",
   "execution_count": null,
   "id": "786a0545-78a1-4ea6-a45d-f2be26e7b1bc",
   "metadata": {},
   "outputs": [],
   "source": []
  },
  {
   "cell_type": "code",
   "execution_count": null,
   "id": "6d5067a6-dfb0-4539-ad85-6a26d7c8d70c",
   "metadata": {},
   "outputs": [],
   "source": []
  }
 ],
 "metadata": {
  "kernelspec": {
   "display_name": "Python 3 (ipykernel)",
   "language": "python",
   "name": "python3"
  },
  "language_info": {
   "codemirror_mode": {
    "name": "ipython",
    "version": 3
   },
   "file_extension": ".py",
   "mimetype": "text/x-python",
   "name": "python",
   "nbconvert_exporter": "python",
   "pygments_lexer": "ipython3",
   "version": "3.10.12"
  }
 },
 "nbformat": 4,
 "nbformat_minor": 5
}
