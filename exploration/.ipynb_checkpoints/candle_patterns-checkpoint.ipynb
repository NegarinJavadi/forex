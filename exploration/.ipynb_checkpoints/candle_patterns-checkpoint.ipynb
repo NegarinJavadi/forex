{
 "cells": [
  {
   "cell_type": "code",
   "execution_count": null,
   "id": "fc5db9ed",
   "metadata": {},
   "outputs": [],
   "source": [
    "import sys\n",
    "sys.path.append(\"../\")\n",
    "from plotting import CandlePlot\n",
    "import pandas as pd"
   ]
  },
  {
   "cell_type": "code",
   "execution_count": null,
   "id": "75786ec7-8791-461a-8349-00bccfeae15b",
   "metadata": {},
   "outputs": [],
   "source": [
    "from technicals.patterns import apply_patterns"
   ]
  },
  {
   "cell_type": "code",
   "execution_count": null,
   "id": "baff09c2",
   "metadata": {},
   "outputs": [],
   "source": [
    "df = pd.read_pickle(\"../data/GBP_JPY_H1.pkl\")"
   ]
  },
  {
   "cell_type": "code",
   "execution_count": null,
   "id": "d06deb37",
   "metadata": {},
   "outputs": [],
   "source": [
    "df_an = df[['time', 'mid_c', 'mid_o', 'mid_h', 'mid_l']].copy()"
   ]
  },
  {
   "cell_type": "code",
   "execution_count": null,
   "id": "182e868a",
   "metadata": {},
   "outputs": [],
   "source": [
    "df_an.tail()"
   ]
  },
  {
   "cell_type": "code",
   "execution_count": null,
   "id": "8bed6364",
   "metadata": {},
   "outputs": [],
   "source": [
    "#direction= df_an['mid_c'] - df_an['mid_o']\n",
    "#body_size= abs(direction)\n",
    "#direction= [1 if x>=0 else -1 for x in direction]\n",
    "#full_range= df_an['mid_h'] - df_an['mid_l']\n",
    "#body_perc= (body_size / full_range) * 100\n",
    "#body_lower= df_an[['mid_c', 'mid_o']].min(axis=1)\n",
    "#body_upper= df_an[['mid_c', 'mid_o']].max(axis=1)\n",
    "#body_bottom_perc= ((body_lower - df_an['mid_l']) / full_range) * 100\n",
    "#body_top_perc= ((body_upper - df_an['mid_l']) / full_range) * 100"
   ]
  },
  {
   "cell_type": "code",
   "execution_count": null,
   "id": "4c0a9817",
   "metadata": {},
   "outputs": [],
   "source": [
    "#df_an['body_lower'] = body_lower\n",
    "#df_an['body_upper'] = body_upper\n",
    "#df_an['body_bottom_perc'] = body_bottom_perc\n",
    "#df_an['body_top_perc'] = body_top_perc\n",
    "#df_an['body_perc'] = body_perc"
   ]
  },
  {
   "cell_type": "code",
   "execution_count": null,
   "id": "87bd0f4f-7fd3-4bb7-a709-5299a4615ba2",
   "metadata": {},
   "outputs": [],
   "source": [
    "df_an= apply_patterns(df_an)"
   ]
  },
  {
   "cell_type": "code",
   "execution_count": null,
   "id": "7764e413-f67c-4420-80cb-2e5eed5c9bed",
   "metadata": {},
   "outputs": [],
   "source": [
    "df_an.describe()"
   ]
  },
  {
   "cell_type": "code",
   "execution_count": null,
   "id": "753e6a03",
   "metadata": {},
   "outputs": [],
   "source": [
    "HANGING_MAN_BODY= 15.0\n",
    "HANGING_MAN_HEIGHT= 75.0\n",
    "SHOOTING_STAR_HEIGHT= 25.0\n",
    "SPINNING_TOP_MIN= 40.0\n",
    "SPINNING_TOP_MAX= 60.0\n",
    "MARUBOZU=98.0\n",
    "ENGULFING_FACTOR = 1.1\n",
    "\n",
    "apply_marubozu = lambda x: x.body_perc > MARUBOZU\n",
    "\n",
    "def apply_hanging_man(row):\n",
    "    if row.body_bottom_perc > HANGING_MAN_HEIGHT:\n",
    "        if row.body_perc < HANGING_MAN_BODY:\n",
    "            return True\n",
    "    return False\n",
    "\n",
    "def apply_shooting_star(row):\n",
    "    if row.body_top_perc > SHOOTING_STAR_HEIGHT:\n",
    "        if row.body_perc < HANGING_MAN_BODY:\n",
    "            return True\n",
    "    return False\n",
    "\n",
    "def apply_spinning_top(row):\n",
    "    if row.body_top_perc < SPINNING_TOP_MAX:\n",
    "        if row.body_bottom_perc > SPINNING_TOP_MIN:\n",
    "            if row.body_perc < HANGING_MAN_BODY:\n",
    "                return True\n",
    "    return False\n",
    "\n",
    "def apply_engulfing(row):\n",
    "    if row.direction != row.direction_prev:\n",
    "        if row.body_size > row.body_size_prev * ENGULFING_FACTOR:\n",
    "            return True\n",
    "    return False\n",
    "\n",
    "TWEEZER_BODY = 15.0\n",
    "TWEEZER_HL = 0.01\n",
    "TWEEZER_TOP_BODY = 40.0\n",
    "TWEEZER_BOTTOM_BODY = 60.0\n",
    "\n",
    "def apply_tweezer_top(row):\n",
    "    if abs(row.body_size_change) < TWEEZER_BODY:\n",
    "        if row.direction == -1 and row.direction != row.direction_prev:\n",
    "            if abs(row.low_change) < TWEEZER_HL and abs(row.high_change) < TWEEZER_HL:\n",
    "                if row.body_top_perc < TWEEZER_TOP_BODY:\n",
    "                    return True\n",
    "    return False\n",
    "\n",
    "def apply_tweezer_bottom(row):\n",
    "    if abs(row.body_size_change) < TWEEZER_BODY:\n",
    "        if row.direction == 1 and row.direction != row.direction_prev:\n",
    "            if abs(row.low_change) < TWEEZER_HL and abs(row.high_change) < TWEEZER_HL:\n",
    "                if row.body_bottom_perc > TWEEZER_BOTTOM_BODY:\n",
    "                    return True\n",
    "    return False\n",
    "\n",
    "MORNING_STAR_PREV2_BODY = 90.0\n",
    "MORNING_STAR_PREV_BODY = 10.0\n",
    "\n",
    "def apply_morning_star(row, direction=1):\n",
    "    if row.body_perc_prev_2 > MORNING_STAR_PREV2_BODY:\n",
    "        if row.body_perc_prev < MORNING_STAR_PREV_BODY:\n",
    "            if row.direction == direction and row.direction_prev_2 != direction:\n",
    "                if direction ==1:\n",
    "                    if row['mid_c'] > row.mid_point_prev_2:\n",
    "                        return True\n",
    "                else:\n",
    "                    if row['mid_c'] < row.mid_point_prev_2:\n",
    "                        return True\n",
    "    return False\n"
   ]
  },
  {
   "cell_type": "code",
   "execution_count": null,
   "id": "1deba3c2",
   "metadata": {},
   "outputs": [],
   "source": [
    "df_an['body_size_prev'] = df_an.body_size.shift(1)\n",
    "df_an['direction_prev'] = df_an.direction.shift(1)\n",
    "df_an['direction_prev_2'] = df_an.direction.shift(2)\n",
    "df_an['body_perc_prev'] = df_an.body_perc.shift(1)\n",
    "df_an['body_perc_prev_2'] = df_an.body_perc.shift(2)\n",
    "df_an['HANGING_MAN'] = df_an.apply(apply_hanging_man, axis=1)\n",
    "df_an['SHOOTING_STAR'] = df_an.apply(apply_shooting_star, axis=1)\n",
    "df_an['SPINNING_TOP'] = df_an.apply(apply_spinning_top, axis=1)\n",
    "df_an['MARUBOZU'] = df_an.apply(apply_marubozu, axis=1)\n",
    "df_an['ENGULFING'] = df_an.apply(apply_engulfing, axis=1)\n",
    "df_an['TWEEZER_TOP'] = df_an.apply(apply_tweezer_top, axis=1)\n",
    "df_an['TWEEZER_BOTTOM'] = df_an.apply(apply_tweezer_bottom, axis=1)\n",
    "df_an['MORNING_STAR'] = df_an.apply(apply_morning_star, axis=1)\n",
    "df_an['EVENING_STAR'] = df_an.apply(apply_morning_star, axis=1, direction=-1)"
   ]
  },
  {
   "cell_type": "code",
   "execution_count": null,
   "id": "ce333e26-f189-48d1-a470-978160a70838",
   "metadata": {},
   "outputs": [],
   "source": [
    "df_an[df_an['MORNING_STAR'] == True]"
   ]
  },
  {
   "cell_type": "code",
   "execution_count": null,
   "id": "d93eced8-233c-4e99-bf1b-8a5648e92f7d",
   "metadata": {},
   "outputs": [],
   "source": [
    "import plotly.graph_objects as go"
   ]
  },
  {
   "cell_type": "code",
   "execution_count": null,
   "id": "d324e353",
   "metadata": {},
   "outputs": [],
   "source": [
    "MARKER = '#0066FF'\n",
    "dfp= df_an.iloc[-250:]\n",
    "cp= CandlePlot(dfp, candles=True)\n",
    "df_temp= cp.df_plot[cp.df_plot.MORNING_STAR==True]\n",
    "\n",
    "cp.fig.add_trace(go.Candlestick(\n",
    "                x=df_temp.sTime,\n",
    "                open= df_temp['mid_o'],\n",
    "                high= df_temp['mid_h'],\n",
    "                low= df_temp['mid_l'],\n",
    "                close= df_temp['mid_c'],\n",
    "                line=dict(width=1), opacity=1,\n",
    "                increasing_fillcolor=MARKER,\n",
    "                decreasing_fillcolor=MARKER,\n",
    "                increasing_line_color=MARKER,\n",
    "                decreasing_line_color=MARKER\n",
    "\n",
    "          ))\n",
    "        \n",
    "\n",
    "cp.show_plot()"
   ]
  },
  {
   "cell_type": "code",
   "execution_count": null,
   "id": "9aa6202b-ad4f-4f86-a3f2-cacade1cd8ee",
   "metadata": {},
   "outputs": [],
   "source": []
  },
  {
   "cell_type": "code",
   "execution_count": null,
   "id": "1ac2b094-7c7d-4bc7-b7e9-b2425a9f59e4",
   "metadata": {},
   "outputs": [],
   "source": []
  },
  {
   "cell_type": "code",
   "execution_count": null,
   "id": "4ad5dfbb-8349-4772-ac36-07798172c517",
   "metadata": {},
   "outputs": [],
   "source": []
  },
  {
   "cell_type": "code",
   "execution_count": null,
   "id": "03ad0894-d48a-4c76-9f75-77264bd5f97d",
   "metadata": {},
   "outputs": [],
   "source": []
  },
  {
   "cell_type": "code",
   "execution_count": null,
   "id": "1b948e5c-e037-4d66-92ec-2f9567f7f9dd",
   "metadata": {},
   "outputs": [],
   "source": []
  },
  {
   "cell_type": "code",
   "execution_count": null,
   "id": "3866b432-cf2c-42ba-a221-00f8cb4b8622",
   "metadata": {},
   "outputs": [],
   "source": []
  }
 ],
 "metadata": {
  "kernelspec": {
   "display_name": "Python 3 (ipykernel)",
   "language": "python",
   "name": "python3"
  },
  "language_info": {
   "codemirror_mode": {
    "name": "ipython",
    "version": 3
   },
   "file_extension": ".py",
   "mimetype": "text/x-python",
   "name": "python",
   "nbconvert_exporter": "python",
   "pygments_lexer": "ipython3",
   "version": "3.10.12"
  }
 },
 "nbformat": 4,
 "nbformat_minor": 5
}
