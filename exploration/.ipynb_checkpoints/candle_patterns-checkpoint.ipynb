{
 "cells": [
  {
   "cell_type": "code",
   "execution_count": 1,
   "id": "fc5db9ed",
   "metadata": {},
   "outputs": [],
   "source": [
    "import sys\n",
    "sys.path.append(\"../\")\n",
    "from plotting import CandlePlot\n",
    "import pandas as pd"
   ]
  },
  {
   "cell_type": "code",
   "execution_count": 2,
   "id": "75786ec7-8791-461a-8349-00bccfeae15b",
   "metadata": {},
   "outputs": [],
   "source": [
    "from technicals.patterns import apply_patterns"
   ]
  },
  {
   "cell_type": "code",
   "execution_count": 3,
   "id": "baff09c2",
   "metadata": {},
   "outputs": [],
   "source": [
    "df = pd.read_pickle(\"../data/GBP_JPY_H1.pkl\")"
   ]
  },
  {
   "cell_type": "code",
   "execution_count": 4,
   "id": "d06deb37",
   "metadata": {},
   "outputs": [],
   "source": [
    "df_an = df[['time', 'mid_c', 'mid_o', 'mid_h', 'mid_l']].copy()"
   ]
  },
  {
   "cell_type": "code",
   "execution_count": 5,
   "id": "182e868a",
   "metadata": {},
   "outputs": [
    {
     "data": {
      "text/html": [
       "<div>\n",
       "<style scoped>\n",
       "    .dataframe tbody tr th:only-of-type {\n",
       "        vertical-align: middle;\n",
       "    }\n",
       "\n",
       "    .dataframe tbody tr th {\n",
       "        vertical-align: top;\n",
       "    }\n",
       "\n",
       "    .dataframe thead th {\n",
       "        text-align: right;\n",
       "    }\n",
       "</style>\n",
       "<table border=\"1\" class=\"dataframe\">\n",
       "  <thead>\n",
       "    <tr style=\"text-align: right;\">\n",
       "      <th></th>\n",
       "      <th>time</th>\n",
       "      <th>mid_c</th>\n",
       "      <th>mid_o</th>\n",
       "      <th>mid_h</th>\n",
       "      <th>mid_l</th>\n",
       "    </tr>\n",
       "  </thead>\n",
       "  <tbody>\n",
       "    <tr>\n",
       "      <th>3996</th>\n",
       "      <td>2024-06-14 16:00:00+00:00</td>\n",
       "      <td>199.580</td>\n",
       "      <td>199.472</td>\n",
       "      <td>199.634</td>\n",
       "      <td>199.382</td>\n",
       "    </tr>\n",
       "    <tr>\n",
       "      <th>3997</th>\n",
       "      <td>2024-06-14 17:00:00+00:00</td>\n",
       "      <td>199.550</td>\n",
       "      <td>199.581</td>\n",
       "      <td>199.671</td>\n",
       "      <td>199.463</td>\n",
       "    </tr>\n",
       "    <tr>\n",
       "      <th>3998</th>\n",
       "      <td>2024-06-14 18:00:00+00:00</td>\n",
       "      <td>199.444</td>\n",
       "      <td>199.550</td>\n",
       "      <td>199.572</td>\n",
       "      <td>199.435</td>\n",
       "    </tr>\n",
       "    <tr>\n",
       "      <th>3999</th>\n",
       "      <td>2024-06-14 19:00:00+00:00</td>\n",
       "      <td>199.621</td>\n",
       "      <td>199.444</td>\n",
       "      <td>199.622</td>\n",
       "      <td>199.443</td>\n",
       "    </tr>\n",
       "    <tr>\n",
       "      <th>4000</th>\n",
       "      <td>2024-06-14 20:00:00+00:00</td>\n",
       "      <td>199.684</td>\n",
       "      <td>199.620</td>\n",
       "      <td>199.724</td>\n",
       "      <td>199.562</td>\n",
       "    </tr>\n",
       "  </tbody>\n",
       "</table>\n",
       "</div>"
      ],
      "text/plain": [
       "                          time    mid_c    mid_o    mid_h    mid_l\n",
       "3996 2024-06-14 16:00:00+00:00  199.580  199.472  199.634  199.382\n",
       "3997 2024-06-14 17:00:00+00:00  199.550  199.581  199.671  199.463\n",
       "3998 2024-06-14 18:00:00+00:00  199.444  199.550  199.572  199.435\n",
       "3999 2024-06-14 19:00:00+00:00  199.621  199.444  199.622  199.443\n",
       "4000 2024-06-14 20:00:00+00:00  199.684  199.620  199.724  199.562"
      ]
     },
     "execution_count": 5,
     "metadata": {},
     "output_type": "execute_result"
    }
   ],
   "source": [
    "df_an.tail()"
   ]
  },
  {
   "cell_type": "code",
   "execution_count": 9,
   "id": "8bed6364",
   "metadata": {},
   "outputs": [],
   "source": [
    "#direction= df_an.mid_c - df_an.mid_o\n",
    "#body_size= abs(direction)\n",
    "#direction= [1 if x>=0 else -1 for x in direction]\n",
    "#full_range= df_an.mid_h - df_an.mid_l\n",
    "#body_perc= (body_size / full_range) * 100\n",
    "#body_lower= df_an[['mid_c', 'mid_o']].min(axis=1)\n",
    "#body_upper= df_an[['mid_c', 'mid_o']].max(axis=1)\n",
    "#body_bottom_perc= ((body_lower - df_an.mid_l) / full_range) * 100\n",
    "#body_top_perc= ((body_upper - df_an.mid_l) / full_range) * 100"
   ]
  },
  {
   "cell_type": "code",
   "execution_count": 10,
   "id": "4c0a9817",
   "metadata": {},
   "outputs": [],
   "source": [
    "#df_an['body_lower'] = body_lower\n",
    "#df_an['body_upper'] = body_upper\n",
    "#df_an['body_bottom_perc'] = body_bottom_perc\n",
    "#df_an['body_top_perc'] = body_top_perc\n",
    "#df_an['body_perc'] = body_perc"
   ]
  },
  {
   "cell_type": "code",
   "execution_count": 11,
   "id": "9370b29f-d28b-4b44-86ce-bc6a53e9c46d",
   "metadata": {},
   "outputs": [
    {
     "data": {
      "application/vnd.plotly.v1+json": {
       "config": {
        "plotlyServerURL": "https://plot.ly"
       },
       "data": [
        {
         "close": [
          199.927,
          200.009,
          199.892,
          199.918,
          199.888,
          199.91,
          199.852,
          200.106,
          200.146,
          200.264,
          200.238,
          200.274,
          200.316,
          200.058,
          200.182,
          200.062,
          200.238,
          200.176,
          200.123,
          199.944,
          199.782,
          199.986,
          200.147,
          200.332,
          200.045,
          200.136,
          200.158,
          200.191,
          200.188,
          200.186,
          200.161,
          200.154,
          200.195,
          200.287,
          200.299,
          200.319,
          200.46,
          200.357,
          200.526,
          200.687,
          200.678,
          200.77,
          200.758,
          200.716,
          199.958,
          200.067,
          200.155,
          200.14,
          200.18,
          200.638,
          200.714,
          200.586,
          200.484,
          200.629,
          200.649,
          200.622,
          200.52,
          200.766,
          200.733,
          200.707,
          200.745,
          200.785,
          201.136,
          201.268,
          200.936,
          200.796,
          200.672,
          200.75,
          200.816,
          200.363,
          200.086,
          199.912,
          200.256,
          200.274,
          200.49,
          200.388,
          200.362,
          200.42,
          200.392,
          200.449,
          200.638,
          200.767,
          201.26,
          201.371,
          201.531,
          201.157,
          200.726,
          200.363,
          199.612,
          199.438,
          199.536,
          199.56,
          199.174,
          199.356,
          199.488,
          199.58,
          199.55,
          199.444,
          199.621,
          199.684
         ],
         "decreasing": {
          "fillcolor": "#CC2E3C",
          "line": {
           "color": "#FF3A4C"
          }
         },
         "high": [
          199.962,
          200.029,
          200.05,
          199.955,
          199.956,
          199.928,
          199.948,
          200.165,
          200.15,
          200.264,
          200.316,
          200.346,
          200.358,
          200.401,
          200.206,
          200.366,
          200.248,
          200.396,
          200.224,
          200.136,
          200.102,
          200.05,
          200.24,
          200.344,
          200.334,
          200.158,
          200.192,
          200.204,
          200.23,
          200.21,
          200.219,
          200.25,
          200.246,
          200.291,
          200.346,
          200.336,
          200.462,
          200.516,
          200.574,
          200.716,
          200.706,
          200.78,
          200.908,
          200.95,
          200.724,
          200.392,
          200.193,
          200.211,
          200.232,
          200.661,
          200.752,
          200.806,
          200.544,
          200.632,
          200.698,
          200.749,
          200.668,
          200.794,
          200.817,
          200.778,
          200.826,
          200.978,
          201.197,
          201.289,
          201.318,
          200.958,
          200.974,
          200.886,
          201.029,
          200.878,
          200.384,
          200.084,
          200.278,
          200.333,
          200.524,
          200.539,
          200.404,
          200.436,
          200.498,
          200.508,
          200.678,
          200.791,
          201.46,
          201.388,
          201.616,
          201.619,
          201.356,
          200.88,
          200.398,
          199.646,
          200.022,
          199.661,
          199.739,
          199.501,
          199.612,
          199.634,
          199.671,
          199.572,
          199.622,
          199.724
         ],
         "increasing": {
          "fillcolor": "#24A06B",
          "line": {
           "color": "#2EC886"
          }
         },
         "line": {
          "width": 1
         },
         "low": [
          199.797,
          199.828,
          199.874,
          199.85,
          199.802,
          199.85,
          199.826,
          199.851,
          199.98,
          200.102,
          200.209,
          200.218,
          200.143,
          199.976,
          199.964,
          200.032,
          199.954,
          200.166,
          200.064,
          199.82,
          199.73,
          199.683,
          199.98,
          200.104,
          200.032,
          200.012,
          200.072,
          200.116,
          200.097,
          200.112,
          200.09,
          200.064,
          200.073,
          200.162,
          200.266,
          200.22,
          200.268,
          200.296,
          200.341,
          200.51,
          200.545,
          200.6,
          200.671,
          200.41,
          199.956,
          199.962,
          199.946,
          200.066,
          200.042,
          200.064,
          200.552,
          200.506,
          200.432,
          200.357,
          200.544,
          200.557,
          200.506,
          200.518,
          200.715,
          200.664,
          200.706,
          200.712,
          200.75,
          201.089,
          200.932,
          200.728,
          200.656,
          200.498,
          200.698,
          200.332,
          200.02,
          199.696,
          199.812,
          200.203,
          200.254,
          200.388,
          200.334,
          200.249,
          200.362,
          200.292,
          200.416,
          200.499,
          200.126,
          201.224,
          201.212,
          200.686,
          200.681,
          200.238,
          199.244,
          199.355,
          199.428,
          199.201,
          198.928,
          198.94,
          199.284,
          199.382,
          199.463,
          199.435,
          199.443,
          199.562
         ],
         "opacity": 1,
         "open": [
          199.834,
          199.926,
          200.008,
          199.889,
          199.893,
          199.876,
          199.909,
          199.854,
          200.103,
          200.146,
          200.265,
          200.238,
          200.278,
          200.328,
          200.059,
          200.183,
          200.061,
          200.237,
          200.179,
          200.12,
          199.946,
          199.782,
          199.984,
          200.148,
          200.332,
          200.046,
          200.136,
          200.158,
          200.164,
          200.186,
          200.186,
          200.156,
          200.153,
          200.194,
          200.285,
          200.298,
          200.32,
          200.472,
          200.36,
          200.527,
          200.686,
          200.678,
          200.77,
          200.758,
          200.716,
          199.966,
          200.066,
          200.156,
          200.146,
          200.18,
          200.639,
          200.716,
          200.528,
          200.48,
          200.626,
          200.646,
          200.622,
          200.519,
          200.762,
          200.735,
          200.706,
          200.743,
          200.785,
          201.136,
          201.272,
          200.938,
          200.797,
          200.672,
          200.753,
          200.817,
          200.361,
          200.084,
          199.914,
          200.256,
          200.272,
          200.494,
          200.404,
          200.354,
          200.42,
          200.39,
          200.45,
          200.635,
          200.768,
          201.261,
          201.372,
          201.54,
          201.156,
          200.725,
          200.362,
          199.61,
          199.434,
          199.54,
          199.566,
          199.175,
          199.358,
          199.472,
          199.581,
          199.55,
          199.444,
          199.62
         ],
         "type": "candlestick",
         "x": [
          "s24-06-10 17:00",
          "s24-06-10 18:00",
          "s24-06-10 19:00",
          "s24-06-10 20:00",
          "s24-06-10 21:00",
          "s24-06-10 22:00",
          "s24-06-10 23:00",
          "s24-06-11 00:00",
          "s24-06-11 01:00",
          "s24-06-11 02:00",
          "s24-06-11 03:00",
          "s24-06-11 04:00",
          "s24-06-11 05:00",
          "s24-06-11 06:00",
          "s24-06-11 07:00",
          "s24-06-11 08:00",
          "s24-06-11 09:00",
          "s24-06-11 10:00",
          "s24-06-11 11:00",
          "s24-06-11 12:00",
          "s24-06-11 13:00",
          "s24-06-11 14:00",
          "s24-06-11 15:00",
          "s24-06-11 16:00",
          "s24-06-11 17:00",
          "s24-06-11 18:00",
          "s24-06-11 19:00",
          "s24-06-11 20:00",
          "s24-06-11 21:00",
          "s24-06-11 22:00",
          "s24-06-11 23:00",
          "s24-06-12 00:00",
          "s24-06-12 01:00",
          "s24-06-12 02:00",
          "s24-06-12 03:00",
          "s24-06-12 04:00",
          "s24-06-12 05:00",
          "s24-06-12 06:00",
          "s24-06-12 07:00",
          "s24-06-12 08:00",
          "s24-06-12 09:00",
          "s24-06-12 10:00",
          "s24-06-12 11:00",
          "s24-06-12 12:00",
          "s24-06-12 13:00",
          "s24-06-12 14:00",
          "s24-06-12 15:00",
          "s24-06-12 16:00",
          "s24-06-12 17:00",
          "s24-06-12 18:00",
          "s24-06-12 19:00",
          "s24-06-12 20:00",
          "s24-06-12 21:00",
          "s24-06-12 22:00",
          "s24-06-12 23:00",
          "s24-06-13 00:00",
          "s24-06-13 01:00",
          "s24-06-13 02:00",
          "s24-06-13 03:00",
          "s24-06-13 04:00",
          "s24-06-13 05:00",
          "s24-06-13 06:00",
          "s24-06-13 07:00",
          "s24-06-13 08:00",
          "s24-06-13 09:00",
          "s24-06-13 10:00",
          "s24-06-13 11:00",
          "s24-06-13 12:00",
          "s24-06-13 13:00",
          "s24-06-13 14:00",
          "s24-06-13 15:00",
          "s24-06-13 16:00",
          "s24-06-13 17:00",
          "s24-06-13 18:00",
          "s24-06-13 19:00",
          "s24-06-13 20:00",
          "s24-06-13 21:00",
          "s24-06-13 22:00",
          "s24-06-13 23:00",
          "s24-06-14 00:00",
          "s24-06-14 01:00",
          "s24-06-14 02:00",
          "s24-06-14 03:00",
          "s24-06-14 04:00",
          "s24-06-14 05:00",
          "s24-06-14 06:00",
          "s24-06-14 07:00",
          "s24-06-14 08:00",
          "s24-06-14 09:00",
          "s24-06-14 10:00",
          "s24-06-14 11:00",
          "s24-06-14 12:00",
          "s24-06-14 13:00",
          "s24-06-14 14:00",
          "s24-06-14 15:00",
          "s24-06-14 16:00",
          "s24-06-14 17:00",
          "s24-06-14 18:00",
          "s24-06-14 19:00",
          "s24-06-14 20:00"
         ]
        }
       ],
       "layout": {
        "font": {
         "color": "#e1e1e1",
         "size": 8
        },
        "height": 300,
        "margin": {
         "b": 10,
         "l": 10,
         "r": 10,
         "t": 10
        },
        "paper_bgcolor": "#2c303c",
        "plot_bgcolor": "#2c303c",
        "template": {
         "data": {
          "bar": [
           {
            "error_x": {
             "color": "#2a3f5f"
            },
            "error_y": {
             "color": "#2a3f5f"
            },
            "marker": {
             "line": {
              "color": "#E5ECF6",
              "width": 0.5
             },
             "pattern": {
              "fillmode": "overlay",
              "size": 10,
              "solidity": 0.2
             }
            },
            "type": "bar"
           }
          ],
          "barpolar": [
           {
            "marker": {
             "line": {
              "color": "#E5ECF6",
              "width": 0.5
             },
             "pattern": {
              "fillmode": "overlay",
              "size": 10,
              "solidity": 0.2
             }
            },
            "type": "barpolar"
           }
          ],
          "carpet": [
           {
            "aaxis": {
             "endlinecolor": "#2a3f5f",
             "gridcolor": "white",
             "linecolor": "white",
             "minorgridcolor": "white",
             "startlinecolor": "#2a3f5f"
            },
            "baxis": {
             "endlinecolor": "#2a3f5f",
             "gridcolor": "white",
             "linecolor": "white",
             "minorgridcolor": "white",
             "startlinecolor": "#2a3f5f"
            },
            "type": "carpet"
           }
          ],
          "choropleth": [
           {
            "colorbar": {
             "outlinewidth": 0,
             "ticks": ""
            },
            "type": "choropleth"
           }
          ],
          "contour": [
           {
            "colorbar": {
             "outlinewidth": 0,
             "ticks": ""
            },
            "colorscale": [
             [
              0,
              "#0d0887"
             ],
             [
              0.1111111111111111,
              "#46039f"
             ],
             [
              0.2222222222222222,
              "#7201a8"
             ],
             [
              0.3333333333333333,
              "#9c179e"
             ],
             [
              0.4444444444444444,
              "#bd3786"
             ],
             [
              0.5555555555555556,
              "#d8576b"
             ],
             [
              0.6666666666666666,
              "#ed7953"
             ],
             [
              0.7777777777777778,
              "#fb9f3a"
             ],
             [
              0.8888888888888888,
              "#fdca26"
             ],
             [
              1,
              "#f0f921"
             ]
            ],
            "type": "contour"
           }
          ],
          "contourcarpet": [
           {
            "colorbar": {
             "outlinewidth": 0,
             "ticks": ""
            },
            "type": "contourcarpet"
           }
          ],
          "heatmap": [
           {
            "colorbar": {
             "outlinewidth": 0,
             "ticks": ""
            },
            "colorscale": [
             [
              0,
              "#0d0887"
             ],
             [
              0.1111111111111111,
              "#46039f"
             ],
             [
              0.2222222222222222,
              "#7201a8"
             ],
             [
              0.3333333333333333,
              "#9c179e"
             ],
             [
              0.4444444444444444,
              "#bd3786"
             ],
             [
              0.5555555555555556,
              "#d8576b"
             ],
             [
              0.6666666666666666,
              "#ed7953"
             ],
             [
              0.7777777777777778,
              "#fb9f3a"
             ],
             [
              0.8888888888888888,
              "#fdca26"
             ],
             [
              1,
              "#f0f921"
             ]
            ],
            "type": "heatmap"
           }
          ],
          "heatmapgl": [
           {
            "colorbar": {
             "outlinewidth": 0,
             "ticks": ""
            },
            "colorscale": [
             [
              0,
              "#0d0887"
             ],
             [
              0.1111111111111111,
              "#46039f"
             ],
             [
              0.2222222222222222,
              "#7201a8"
             ],
             [
              0.3333333333333333,
              "#9c179e"
             ],
             [
              0.4444444444444444,
              "#bd3786"
             ],
             [
              0.5555555555555556,
              "#d8576b"
             ],
             [
              0.6666666666666666,
              "#ed7953"
             ],
             [
              0.7777777777777778,
              "#fb9f3a"
             ],
             [
              0.8888888888888888,
              "#fdca26"
             ],
             [
              1,
              "#f0f921"
             ]
            ],
            "type": "heatmapgl"
           }
          ],
          "histogram": [
           {
            "marker": {
             "pattern": {
              "fillmode": "overlay",
              "size": 10,
              "solidity": 0.2
             }
            },
            "type": "histogram"
           }
          ],
          "histogram2d": [
           {
            "colorbar": {
             "outlinewidth": 0,
             "ticks": ""
            },
            "colorscale": [
             [
              0,
              "#0d0887"
             ],
             [
              0.1111111111111111,
              "#46039f"
             ],
             [
              0.2222222222222222,
              "#7201a8"
             ],
             [
              0.3333333333333333,
              "#9c179e"
             ],
             [
              0.4444444444444444,
              "#bd3786"
             ],
             [
              0.5555555555555556,
              "#d8576b"
             ],
             [
              0.6666666666666666,
              "#ed7953"
             ],
             [
              0.7777777777777778,
              "#fb9f3a"
             ],
             [
              0.8888888888888888,
              "#fdca26"
             ],
             [
              1,
              "#f0f921"
             ]
            ],
            "type": "histogram2d"
           }
          ],
          "histogram2dcontour": [
           {
            "colorbar": {
             "outlinewidth": 0,
             "ticks": ""
            },
            "colorscale": [
             [
              0,
              "#0d0887"
             ],
             [
              0.1111111111111111,
              "#46039f"
             ],
             [
              0.2222222222222222,
              "#7201a8"
             ],
             [
              0.3333333333333333,
              "#9c179e"
             ],
             [
              0.4444444444444444,
              "#bd3786"
             ],
             [
              0.5555555555555556,
              "#d8576b"
             ],
             [
              0.6666666666666666,
              "#ed7953"
             ],
             [
              0.7777777777777778,
              "#fb9f3a"
             ],
             [
              0.8888888888888888,
              "#fdca26"
             ],
             [
              1,
              "#f0f921"
             ]
            ],
            "type": "histogram2dcontour"
           }
          ],
          "mesh3d": [
           {
            "colorbar": {
             "outlinewidth": 0,
             "ticks": ""
            },
            "type": "mesh3d"
           }
          ],
          "parcoords": [
           {
            "line": {
             "colorbar": {
              "outlinewidth": 0,
              "ticks": ""
             }
            },
            "type": "parcoords"
           }
          ],
          "pie": [
           {
            "automargin": true,
            "type": "pie"
           }
          ],
          "scatter": [
           {
            "fillpattern": {
             "fillmode": "overlay",
             "size": 10,
             "solidity": 0.2
            },
            "type": "scatter"
           }
          ],
          "scatter3d": [
           {
            "line": {
             "colorbar": {
              "outlinewidth": 0,
              "ticks": ""
             }
            },
            "marker": {
             "colorbar": {
              "outlinewidth": 0,
              "ticks": ""
             }
            },
            "type": "scatter3d"
           }
          ],
          "scattercarpet": [
           {
            "marker": {
             "colorbar": {
              "outlinewidth": 0,
              "ticks": ""
             }
            },
            "type": "scattercarpet"
           }
          ],
          "scattergeo": [
           {
            "marker": {
             "colorbar": {
              "outlinewidth": 0,
              "ticks": ""
             }
            },
            "type": "scattergeo"
           }
          ],
          "scattergl": [
           {
            "marker": {
             "colorbar": {
              "outlinewidth": 0,
              "ticks": ""
             }
            },
            "type": "scattergl"
           }
          ],
          "scattermapbox": [
           {
            "marker": {
             "colorbar": {
              "outlinewidth": 0,
              "ticks": ""
             }
            },
            "type": "scattermapbox"
           }
          ],
          "scatterpolar": [
           {
            "marker": {
             "colorbar": {
              "outlinewidth": 0,
              "ticks": ""
             }
            },
            "type": "scatterpolar"
           }
          ],
          "scatterpolargl": [
           {
            "marker": {
             "colorbar": {
              "outlinewidth": 0,
              "ticks": ""
             }
            },
            "type": "scatterpolargl"
           }
          ],
          "scatterternary": [
           {
            "marker": {
             "colorbar": {
              "outlinewidth": 0,
              "ticks": ""
             }
            },
            "type": "scatterternary"
           }
          ],
          "surface": [
           {
            "colorbar": {
             "outlinewidth": 0,
             "ticks": ""
            },
            "colorscale": [
             [
              0,
              "#0d0887"
             ],
             [
              0.1111111111111111,
              "#46039f"
             ],
             [
              0.2222222222222222,
              "#7201a8"
             ],
             [
              0.3333333333333333,
              "#9c179e"
             ],
             [
              0.4444444444444444,
              "#bd3786"
             ],
             [
              0.5555555555555556,
              "#d8576b"
             ],
             [
              0.6666666666666666,
              "#ed7953"
             ],
             [
              0.7777777777777778,
              "#fb9f3a"
             ],
             [
              0.8888888888888888,
              "#fdca26"
             ],
             [
              1,
              "#f0f921"
             ]
            ],
            "type": "surface"
           }
          ],
          "table": [
           {
            "cells": {
             "fill": {
              "color": "#EBF0F8"
             },
             "line": {
              "color": "white"
             }
            },
            "header": {
             "fill": {
              "color": "#C8D4E3"
             },
             "line": {
              "color": "white"
             }
            },
            "type": "table"
           }
          ]
         },
         "layout": {
          "annotationdefaults": {
           "arrowcolor": "#2a3f5f",
           "arrowhead": 0,
           "arrowwidth": 1
          },
          "autotypenumbers": "strict",
          "coloraxis": {
           "colorbar": {
            "outlinewidth": 0,
            "ticks": ""
           }
          },
          "colorscale": {
           "diverging": [
            [
             0,
             "#8e0152"
            ],
            [
             0.1,
             "#c51b7d"
            ],
            [
             0.2,
             "#de77ae"
            ],
            [
             0.3,
             "#f1b6da"
            ],
            [
             0.4,
             "#fde0ef"
            ],
            [
             0.5,
             "#f7f7f7"
            ],
            [
             0.6,
             "#e6f5d0"
            ],
            [
             0.7,
             "#b8e186"
            ],
            [
             0.8,
             "#7fbc41"
            ],
            [
             0.9,
             "#4d9221"
            ],
            [
             1,
             "#276419"
            ]
           ],
           "sequential": [
            [
             0,
             "#0d0887"
            ],
            [
             0.1111111111111111,
             "#46039f"
            ],
            [
             0.2222222222222222,
             "#7201a8"
            ],
            [
             0.3333333333333333,
             "#9c179e"
            ],
            [
             0.4444444444444444,
             "#bd3786"
            ],
            [
             0.5555555555555556,
             "#d8576b"
            ],
            [
             0.6666666666666666,
             "#ed7953"
            ],
            [
             0.7777777777777778,
             "#fb9f3a"
            ],
            [
             0.8888888888888888,
             "#fdca26"
            ],
            [
             1,
             "#f0f921"
            ]
           ],
           "sequentialminus": [
            [
             0,
             "#0d0887"
            ],
            [
             0.1111111111111111,
             "#46039f"
            ],
            [
             0.2222222222222222,
             "#7201a8"
            ],
            [
             0.3333333333333333,
             "#9c179e"
            ],
            [
             0.4444444444444444,
             "#bd3786"
            ],
            [
             0.5555555555555556,
             "#d8576b"
            ],
            [
             0.6666666666666666,
             "#ed7953"
            ],
            [
             0.7777777777777778,
             "#fb9f3a"
            ],
            [
             0.8888888888888888,
             "#fdca26"
            ],
            [
             1,
             "#f0f921"
            ]
           ]
          },
          "colorway": [
           "#636efa",
           "#EF553B",
           "#00cc96",
           "#ab63fa",
           "#FFA15A",
           "#19d3f3",
           "#FF6692",
           "#B6E880",
           "#FF97FF",
           "#FECB52"
          ],
          "font": {
           "color": "#2a3f5f"
          },
          "geo": {
           "bgcolor": "white",
           "lakecolor": "white",
           "landcolor": "#E5ECF6",
           "showlakes": true,
           "showland": true,
           "subunitcolor": "white"
          },
          "hoverlabel": {
           "align": "left"
          },
          "hovermode": "closest",
          "mapbox": {
           "style": "light"
          },
          "paper_bgcolor": "white",
          "plot_bgcolor": "#E5ECF6",
          "polar": {
           "angularaxis": {
            "gridcolor": "white",
            "linecolor": "white",
            "ticks": ""
           },
           "bgcolor": "#E5ECF6",
           "radialaxis": {
            "gridcolor": "white",
            "linecolor": "white",
            "ticks": ""
           }
          },
          "scene": {
           "xaxis": {
            "backgroundcolor": "#E5ECF6",
            "gridcolor": "white",
            "gridwidth": 2,
            "linecolor": "white",
            "showbackground": true,
            "ticks": "",
            "zerolinecolor": "white"
           },
           "yaxis": {
            "backgroundcolor": "#E5ECF6",
            "gridcolor": "white",
            "gridwidth": 2,
            "linecolor": "white",
            "showbackground": true,
            "ticks": "",
            "zerolinecolor": "white"
           },
           "zaxis": {
            "backgroundcolor": "#E5ECF6",
            "gridcolor": "white",
            "gridwidth": 2,
            "linecolor": "white",
            "showbackground": true,
            "ticks": "",
            "zerolinecolor": "white"
           }
          },
          "shapedefaults": {
           "line": {
            "color": "#2a3f5f"
           }
          },
          "ternary": {
           "aaxis": {
            "gridcolor": "white",
            "linecolor": "white",
            "ticks": ""
           },
           "baxis": {
            "gridcolor": "white",
            "linecolor": "white",
            "ticks": ""
           },
           "bgcolor": "#E5ECF6",
           "caxis": {
            "gridcolor": "white",
            "linecolor": "white",
            "ticks": ""
           }
          },
          "title": {
           "x": 0.05
          },
          "xaxis": {
           "automargin": true,
           "gridcolor": "white",
           "linecolor": "white",
           "ticks": "",
           "title": {
            "standoff": 15
           },
           "zerolinecolor": "white",
           "zerolinewidth": 2
          },
          "yaxis": {
           "automargin": true,
           "gridcolor": "white",
           "linecolor": "white",
           "ticks": "",
           "title": {
            "standoff": 15
           },
           "zerolinecolor": "white",
           "zerolinewidth": 2
          }
         }
        },
        "width": 900,
        "xaxis": {
         "anchor": "y",
         "autorange": true,
         "domain": [
          0,
          0.94
         ],
         "gridcolor": "#1f292f",
         "nticks": 5,
         "range": [
          -0.5,
          99.5
         ],
         "rangeslider": {
          "visible": false,
          "yaxis": {}
         },
         "type": "category"
        },
        "yaxis": {
         "anchor": "x",
         "autorange": true,
         "domain": [
          0,
          1
         ],
         "gridcolor": "#1f292f",
         "range": [
          198.7785,
          201.7685
         ]
        },
        "yaxis2": {
         "anchor": "x",
         "gridcolor": "#1f292f",
         "overlaying": "y",
         "side": "right"
        }
       }
      },
      "image/png": "[encoded data removed]",
      "text/html": [
       "<div>                            <div id=\"b652a0a5-36b0-4fad-aabf-77375a8d34e8\" class=\"plotly-graph-div\" style=\"height:300px; width:900px;\"></div>            <script type=\"text/javascript\">                require([\"plotly\"], function(Plotly) {                    window.PLOTLYENV=window.PLOTLYENV || {};                                    if (document.getElementById(\"b652a0a5-36b0-4fad-aabf-77375a8d34e8\")) {                    Plotly.newPlot(                        \"b652a0a5-36b0-4fad-aabf-77375a8d34e8\",                        [{\"close\":[199.927,200.009,199.892,199.918,199.888,199.91,199.852,200.106,200.146,200.264,200.238,200.274,200.316,200.058,200.182,200.062,200.238,200.176,200.123,199.944,199.782,199.986,200.147,200.332,200.045,200.136,200.158,200.191,200.188,200.186,200.161,200.154,200.195,200.287,200.299,200.319,200.46,200.357,200.526,200.687,200.678,200.77,200.758,200.716,199.958,200.067,200.155,200.14,200.18,200.638,200.714,200.586,200.484,200.629,200.649,200.622,200.52,200.766,200.733,200.707,200.745,200.785,201.136,201.268,200.936,200.796,200.672,200.75,200.816,200.363,200.086,199.912,200.256,200.274,200.49,200.388,200.362,200.42,200.392,200.449,200.638,200.767,201.26,201.371,201.531,201.157,200.726,200.363,199.612,199.438,199.536,199.56,199.174,199.356,199.488,199.58,199.55,199.444,199.621,199.684],\"decreasing\":{\"fillcolor\":\"#CC2E3C\",\"line\":{\"color\":\"#FF3A4C\"}},\"high\":[199.962,200.029,200.05,199.955,199.956,199.928,199.948,200.165,200.15,200.264,200.316,200.346,200.358,200.401,200.206,200.366,200.248,200.396,200.224,200.136,200.102,200.05,200.24,200.344,200.334,200.158,200.192,200.204,200.23,200.21,200.219,200.25,200.246,200.291,200.346,200.336,200.462,200.516,200.574,200.716,200.706,200.78,200.908,200.95,200.724,200.392,200.193,200.211,200.232,200.661,200.752,200.806,200.544,200.632,200.698,200.749,200.668,200.794,200.817,200.778,200.826,200.978,201.197,201.289,201.318,200.958,200.974,200.886,201.029,200.878,200.384,200.084,200.278,200.333,200.524,200.539,200.404,200.436,200.498,200.508,200.678,200.791,201.46,201.388,201.616,201.619,201.356,200.88,200.398,199.646,200.022,199.661,199.739,199.501,199.612,199.634,199.671,199.572,199.622,199.724],\"increasing\":{\"fillcolor\":\"#24A06B\",\"line\":{\"color\":\"#2EC886\"}},\"line\":{\"width\":1},\"low\":[199.797,199.828,199.874,199.85,199.802,199.85,199.826,199.851,199.98,200.102,200.209,200.218,200.143,199.976,199.964,200.032,199.954,200.166,200.064,199.82,199.73,199.683,199.98,200.104,200.032,200.012,200.072,200.116,200.097,200.112,200.09,200.064,200.073,200.162,200.266,200.22,200.268,200.296,200.341,200.51,200.545,200.6,200.671,200.41,199.956,199.962,199.946,200.066,200.042,200.064,200.552,200.506,200.432,200.357,200.544,200.557,200.506,200.518,200.715,200.664,200.706,200.712,200.75,201.089,200.932,200.728,200.656,200.498,200.698,200.332,200.02,199.696,199.812,200.203,200.254,200.388,200.334,200.249,200.362,200.292,200.416,200.499,200.126,201.224,201.212,200.686,200.681,200.238,199.244,199.355,199.428,199.201,198.928,198.94,199.284,199.382,199.463,199.435,199.443,199.562],\"opacity\":1,\"open\":[199.834,199.926,200.008,199.889,199.893,199.876,199.909,199.854,200.103,200.146,200.265,200.238,200.278,200.328,200.059,200.183,200.061,200.237,200.179,200.12,199.946,199.782,199.984,200.148,200.332,200.046,200.136,200.158,200.164,200.186,200.186,200.156,200.153,200.194,200.285,200.298,200.32,200.472,200.36,200.527,200.686,200.678,200.77,200.758,200.716,199.966,200.066,200.156,200.146,200.18,200.639,200.716,200.528,200.48,200.626,200.646,200.622,200.519,200.762,200.735,200.706,200.743,200.785,201.136,201.272,200.938,200.797,200.672,200.753,200.817,200.361,200.084,199.914,200.256,200.272,200.494,200.404,200.354,200.42,200.39,200.45,200.635,200.768,201.261,201.372,201.54,201.156,200.725,200.362,199.61,199.434,199.54,199.566,199.175,199.358,199.472,199.581,199.55,199.444,199.62],\"x\":[\"s24-06-10 17:00\",\"s24-06-10 18:00\",\"s24-06-10 19:00\",\"s24-06-10 20:00\",\"s24-06-10 21:00\",\"s24-06-10 22:00\",\"s24-06-10 23:00\",\"s24-06-11 00:00\",\"s24-06-11 01:00\",\"s24-06-11 02:00\",\"s24-06-11 03:00\",\"s24-06-11 04:00\",\"s24-06-11 05:00\",\"s24-06-11 06:00\",\"s24-06-11 07:00\",\"s24-06-11 08:00\",\"s24-06-11 09:00\",\"s24-06-11 10:00\",\"s24-06-11 11:00\",\"s24-06-11 12:00\",\"s24-06-11 13:00\",\"s24-06-11 14:00\",\"s24-06-11 15:00\",\"s24-06-11 16:00\",\"s24-06-11 17:00\",\"s24-06-11 18:00\",\"s24-06-11 19:00\",\"s24-06-11 20:00\",\"s24-06-11 21:00\",\"s24-06-11 22:00\",\"s24-06-11 23:00\",\"s24-06-12 00:00\",\"s24-06-12 01:00\",\"s24-06-12 02:00\",\"s24-06-12 03:00\",\"s24-06-12 04:00\",\"s24-06-12 05:00\",\"s24-06-12 06:00\",\"s24-06-12 07:00\",\"s24-06-12 08:00\",\"s24-06-12 09:00\",\"s24-06-12 10:00\",\"s24-06-12 11:00\",\"s24-06-12 12:00\",\"s24-06-12 13:00\",\"s24-06-12 14:00\",\"s24-06-12 15:00\",\"s24-06-12 16:00\",\"s24-06-12 17:00\",\"s24-06-12 18:00\",\"s24-06-12 19:00\",\"s24-06-12 20:00\",\"s24-06-12 21:00\",\"s24-06-12 22:00\",\"s24-06-12 23:00\",\"s24-06-13 00:00\",\"s24-06-13 01:00\",\"s24-06-13 02:00\",\"s24-06-13 03:00\",\"s24-06-13 04:00\",\"s24-06-13 05:00\",\"s24-06-13 06:00\",\"s24-06-13 07:00\",\"s24-06-13 08:00\",\"s24-06-13 09:00\",\"s24-06-13 10:00\",\"s24-06-13 11:00\",\"s24-06-13 12:00\",\"s24-06-13 13:00\",\"s24-06-13 14:00\",\"s24-06-13 15:00\",\"s24-06-13 16:00\",\"s24-06-13 17:00\",\"s24-06-13 18:00\",\"s24-06-13 19:00\",\"s24-06-13 20:00\",\"s24-06-13 21:00\",\"s24-06-13 22:00\",\"s24-06-13 23:00\",\"s24-06-14 00:00\",\"s24-06-14 01:00\",\"s24-06-14 02:00\",\"s24-06-14 03:00\",\"s24-06-14 04:00\",\"s24-06-14 05:00\",\"s24-06-14 06:00\",\"s24-06-14 07:00\",\"s24-06-14 08:00\",\"s24-06-14 09:00\",\"s24-06-14 10:00\",\"s24-06-14 11:00\",\"s24-06-14 12:00\",\"s24-06-14 13:00\",\"s24-06-14 14:00\",\"s24-06-14 15:00\",\"s24-06-14 16:00\",\"s24-06-14 17:00\",\"s24-06-14 18:00\",\"s24-06-14 19:00\",\"s24-06-14 20:00\"],\"type\":\"candlestick\"}],                        {\"template\":{\"data\":{\"histogram2dcontour\":[{\"type\":\"histogram2dcontour\",\"colorbar\":{\"outlinewidth\":0,\"ticks\":\"\"},\"colorscale\":[[0.0,\"#0d0887\"],[0.1111111111111111,\"#46039f\"],[0.2222222222222222,\"#7201a8\"],[0.3333333333333333,\"#9c179e\"],[0.4444444444444444,\"#bd3786\"],[0.5555555555555556,\"#d8576b\"],[0.6666666666666666,\"#ed7953\"],[0.7777777777777778,\"#fb9f3a\"],[0.8888888888888888,\"#fdca26\"],[1.0,\"#f0f921\"]]}],\"choropleth\":[{\"type\":\"choropleth\",\"colorbar\":{\"outlinewidth\":0,\"ticks\":\"\"}}],\"histogram2d\":[{\"type\":\"histogram2d\",\"colorbar\":{\"outlinewidth\":0,\"ticks\":\"\"},\"colorscale\":[[0.0,\"#0d0887\"],[0.1111111111111111,\"#46039f\"],[0.2222222222222222,\"#7201a8\"],[0.3333333333333333,\"#9c179e\"],[0.4444444444444444,\"#bd3786\"],[0.5555555555555556,\"#d8576b\"],[0.6666666666666666,\"#ed7953\"],[0.7777777777777778,\"#fb9f3a\"],[0.8888888888888888,\"#fdca26\"],[1.0,\"#f0f921\"]]}],\"heatmap\":[{\"type\":\"heatmap\",\"colorbar\":{\"outlinewidth\":0,\"ticks\":\"\"},\"colorscale\":[[0.0,\"#0d0887\"],[0.1111111111111111,\"#46039f\"],[0.2222222222222222,\"#7201a8\"],[0.3333333333333333,\"#9c179e\"],[0.4444444444444444,\"#bd3786\"],[0.5555555555555556,\"#d8576b\"],[0.6666666666666666,\"#ed7953\"],[0.7777777777777778,\"#fb9f3a\"],[0.8888888888888888,\"#fdca26\"],[1.0,\"#f0f921\"]]}],\"heatmapgl\":[{\"type\":\"heatmapgl\",\"colorbar\":{\"outlinewidth\":0,\"ticks\":\"\"},\"colorscale\":[[0.0,\"#0d0887\"],[0.1111111111111111,\"#46039f\"],[0.2222222222222222,\"#7201a8\"],[0.3333333333333333,\"#9c179e\"],[0.4444444444444444,\"#bd3786\"],[0.5555555555555556,\"#d8576b\"],[0.6666666666666666,\"#ed7953\"],[0.7777777777777778,\"#fb9f3a\"],[0.8888888888888888,\"#fdca26\"],[1.0,\"#f0f921\"]]}],\"contourcarpet\":[{\"type\":\"contourcarpet\",\"colorbar\":{\"outlinewidth\":0,\"ticks\":\"\"}}],\"contour\":[{\"type\":\"contour\",\"colorbar\":{\"outlinewidth\":0,\"ticks\":\"\"},\"colorscale\":[[0.0,\"#0d0887\"],[0.1111111111111111,\"#46039f\"],[0.2222222222222222,\"#7201a8\"],[0.3333333333333333,\"#9c179e\"],[0.4444444444444444,\"#bd3786\"],[0.5555555555555556,\"#d8576b\"],[0.6666666666666666,\"#ed7953\"],[0.7777777777777778,\"#fb9f3a\"],[0.8888888888888888,\"#fdca26\"],[1.0,\"#f0f921\"]]}],\"surface\":[{\"type\":\"surface\",\"colorbar\":{\"outlinewidth\":0,\"ticks\":\"\"},\"colorscale\":[[0.0,\"#0d0887\"],[0.1111111111111111,\"#46039f\"],[0.2222222222222222,\"#7201a8\"],[0.3333333333333333,\"#9c179e\"],[0.4444444444444444,\"#bd3786\"],[0.5555555555555556,\"#d8576b\"],[0.6666666666666666,\"#ed7953\"],[0.7777777777777778,\"#fb9f3a\"],[0.8888888888888888,\"#fdca26\"],[1.0,\"#f0f921\"]]}],\"mesh3d\":[{\"type\":\"mesh3d\",\"colorbar\":{\"outlinewidth\":0,\"ticks\":\"\"}}],\"scatter\":[{\"fillpattern\":{\"fillmode\":\"overlay\",\"size\":10,\"solidity\":0.2},\"type\":\"scatter\"}],\"parcoords\":[{\"type\":\"parcoords\",\"line\":{\"colorbar\":{\"outlinewidth\":0,\"ticks\":\"\"}}}],\"scatterpolargl\":[{\"type\":\"scatterpolargl\",\"marker\":{\"colorbar\":{\"outlinewidth\":0,\"ticks\":\"\"}}}],\"bar\":[{\"error_x\":{\"color\":\"#2a3f5f\"},\"error_y\":{\"color\":\"#2a3f5f\"},\"marker\":{\"line\":{\"color\":\"#E5ECF6\",\"width\":0.5},\"pattern\":{\"fillmode\":\"overlay\",\"size\":10,\"solidity\":0.2}},\"type\":\"bar\"}],\"scattergeo\":[{\"type\":\"scattergeo\",\"marker\":{\"colorbar\":{\"outlinewidth\":0,\"ticks\":\"\"}}}],\"scatterpolar\":[{\"type\":\"scatterpolar\",\"marker\":{\"colorbar\":{\"outlinewidth\":0,\"ticks\":\"\"}}}],\"histogram\":[{\"marker\":{\"pattern\":{\"fillmode\":\"overlay\",\"size\":10,\"solidity\":0.2}},\"type\":\"histogram\"}],\"scattergl\":[{\"type\":\"scattergl\",\"marker\":{\"colorbar\":{\"outlinewidth\":0,\"ticks\":\"\"}}}],\"scatter3d\":[{\"type\":\"scatter3d\",\"line\":{\"colorbar\":{\"outlinewidth\":0,\"ticks\":\"\"}},\"marker\":{\"colorbar\":{\"outlinewidth\":0,\"ticks\":\"\"}}}],\"scattermapbox\":[{\"type\":\"scattermapbox\",\"marker\":{\"colorbar\":{\"outlinewidth\":0,\"ticks\":\"\"}}}],\"scatterternary\":[{\"type\":\"scatterternary\",\"marker\":{\"colorbar\":{\"outlinewidth\":0,\"ticks\":\"\"}}}],\"scattercarpet\":[{\"type\":\"scattercarpet\",\"marker\":{\"colorbar\":{\"outlinewidth\":0,\"ticks\":\"\"}}}],\"carpet\":[{\"aaxis\":{\"endlinecolor\":\"#2a3f5f\",\"gridcolor\":\"white\",\"linecolor\":\"white\",\"minorgridcolor\":\"white\",\"startlinecolor\":\"#2a3f5f\"},\"baxis\":{\"endlinecolor\":\"#2a3f5f\",\"gridcolor\":\"white\",\"linecolor\":\"white\",\"minorgridcolor\":\"white\",\"startlinecolor\":\"#2a3f5f\"},\"type\":\"carpet\"}],\"table\":[{\"cells\":{\"fill\":{\"color\":\"#EBF0F8\"},\"line\":{\"color\":\"white\"}},\"header\":{\"fill\":{\"color\":\"#C8D4E3\"},\"line\":{\"color\":\"white\"}},\"type\":\"table\"}],\"barpolar\":[{\"marker\":{\"line\":{\"color\":\"#E5ECF6\",\"width\":0.5},\"pattern\":{\"fillmode\":\"overlay\",\"size\":10,\"solidity\":0.2}},\"type\":\"barpolar\"}],\"pie\":[{\"automargin\":true,\"type\":\"pie\"}]},\"layout\":{\"autotypenumbers\":\"strict\",\"colorway\":[\"#636efa\",\"#EF553B\",\"#00cc96\",\"#ab63fa\",\"#FFA15A\",\"#19d3f3\",\"#FF6692\",\"#B6E880\",\"#FF97FF\",\"#FECB52\"],\"font\":{\"color\":\"#2a3f5f\"},\"hovermode\":\"closest\",\"hoverlabel\":{\"align\":\"left\"},\"paper_bgcolor\":\"white\",\"plot_bgcolor\":\"#E5ECF6\",\"polar\":{\"bgcolor\":\"#E5ECF6\",\"angularaxis\":{\"gridcolor\":\"white\",\"linecolor\":\"white\",\"ticks\":\"\"},\"radialaxis\":{\"gridcolor\":\"white\",\"linecolor\":\"white\",\"ticks\":\"\"}},\"ternary\":{\"bgcolor\":\"#E5ECF6\",\"aaxis\":{\"gridcolor\":\"white\",\"linecolor\":\"white\",\"ticks\":\"\"},\"baxis\":{\"gridcolor\":\"white\",\"linecolor\":\"white\",\"ticks\":\"\"},\"caxis\":{\"gridcolor\":\"white\",\"linecolor\":\"white\",\"ticks\":\"\"}},\"coloraxis\":{\"colorbar\":{\"outlinewidth\":0,\"ticks\":\"\"}},\"colorscale\":{\"sequential\":[[0.0,\"#0d0887\"],[0.1111111111111111,\"#46039f\"],[0.2222222222222222,\"#7201a8\"],[0.3333333333333333,\"#9c179e\"],[0.4444444444444444,\"#bd3786\"],[0.5555555555555556,\"#d8576b\"],[0.6666666666666666,\"#ed7953\"],[0.7777777777777778,\"#fb9f3a\"],[0.8888888888888888,\"#fdca26\"],[1.0,\"#f0f921\"]],\"sequentialminus\":[[0.0,\"#0d0887\"],[0.1111111111111111,\"#46039f\"],[0.2222222222222222,\"#7201a8\"],[0.3333333333333333,\"#9c179e\"],[0.4444444444444444,\"#bd3786\"],[0.5555555555555556,\"#d8576b\"],[0.6666666666666666,\"#ed7953\"],[0.7777777777777778,\"#fb9f3a\"],[0.8888888888888888,\"#fdca26\"],[1.0,\"#f0f921\"]],\"diverging\":[[0,\"#8e0152\"],[0.1,\"#c51b7d\"],[0.2,\"#de77ae\"],[0.3,\"#f1b6da\"],[0.4,\"#fde0ef\"],[0.5,\"#f7f7f7\"],[0.6,\"#e6f5d0\"],[0.7,\"#b8e186\"],[0.8,\"#7fbc41\"],[0.9,\"#4d9221\"],[1,\"#276419\"]]},\"xaxis\":{\"gridcolor\":\"white\",\"linecolor\":\"white\",\"ticks\":\"\",\"title\":{\"standoff\":15},\"zerolinecolor\":\"white\",\"automargin\":true,\"zerolinewidth\":2},\"yaxis\":{\"gridcolor\":\"white\",\"linecolor\":\"white\",\"ticks\":\"\",\"title\":{\"standoff\":15},\"zerolinecolor\":\"white\",\"automargin\":true,\"zerolinewidth\":2},\"scene\":{\"xaxis\":{\"backgroundcolor\":\"#E5ECF6\",\"gridcolor\":\"white\",\"linecolor\":\"white\",\"showbackground\":true,\"ticks\":\"\",\"zerolinecolor\":\"white\",\"gridwidth\":2},\"yaxis\":{\"backgroundcolor\":\"#E5ECF6\",\"gridcolor\":\"white\",\"linecolor\":\"white\",\"showbackground\":true,\"ticks\":\"\",\"zerolinecolor\":\"white\",\"gridwidth\":2},\"zaxis\":{\"backgroundcolor\":\"#E5ECF6\",\"gridcolor\":\"white\",\"linecolor\":\"white\",\"showbackground\":true,\"ticks\":\"\",\"zerolinecolor\":\"white\",\"gridwidth\":2}},\"shapedefaults\":{\"line\":{\"color\":\"#2a3f5f\"}},\"annotationdefaults\":{\"arrowcolor\":\"#2a3f5f\",\"arrowhead\":0,\"arrowwidth\":1},\"geo\":{\"bgcolor\":\"white\",\"landcolor\":\"#E5ECF6\",\"subunitcolor\":\"white\",\"showland\":true,\"showlakes\":true,\"lakecolor\":\"white\"},\"title\":{\"x\":0.05},\"mapbox\":{\"style\":\"light\"}}},\"xaxis\":{\"anchor\":\"y\",\"domain\":[0.0,0.94],\"rangeslider\":{\"visible\":false},\"gridcolor\":\"#1f292f\",\"nticks\":5},\"yaxis\":{\"anchor\":\"x\",\"domain\":[0.0,1.0],\"gridcolor\":\"#1f292f\"},\"yaxis2\":{\"anchor\":\"x\",\"overlaying\":\"y\",\"side\":\"right\",\"gridcolor\":\"#1f292f\"},\"margin\":{\"l\":10,\"r\":10,\"b\":10,\"t\":10},\"font\":{\"size\":8,\"color\":\"#e1e1e1\"},\"width\":900,\"height\":300,\"paper_bgcolor\":\"#2c303c\",\"plot_bgcolor\":\"#2c303c\"},                        {\"responsive\": true}                    ).then(function(){\n",
       "                            \n",
       "var gd = document.getElementById('b652a0a5-36b0-4fad-aabf-77375a8d34e8');\n",
       "var x = new MutationObserver(function (mutations, observer) {{\n",
       "        var display = window.getComputedStyle(gd).display;\n",
       "        if (!display || display === 'none') {{\n",
       "            console.log([gd, 'removed!']);\n",
       "            Plotly.purge(gd);\n",
       "            observer.disconnect();\n",
       "        }}\n",
       "}});\n",
       "\n",
       "// Listen for the removal of the full notebook cells\n",
       "var notebookContainer = gd.closest('#notebook-container');\n",
       "if (notebookContainer) {{\n",
       "    x.observe(notebookContainer, {childList: true});\n",
       "}}\n",
       "\n",
       "// Listen for the clearing of the current output cell\n",
       "var outputEl = gd.closest('.output');\n",
       "if (outputEl) {{\n",
       "    x.observe(outputEl, {childList: true});\n",
       "}}\n",
       "\n",
       "                        })                };                });            </script>        </div>"
      ]
     },
     "metadata": {},
     "output_type": "display_data"
    }
   ],
   "source": [
    "dfp = df_an.iloc[-100:]\n",
    "cp = CandlePlot(dfp)\n",
    "cp.show_plot(line_traces=[], height=300)"
   ]
  },
  {
   "cell_type": "code",
   "execution_count": 12,
   "id": "87bd0f4f-7fd3-4bb7-a709-5299a4615ba2",
   "metadata": {},
   "outputs": [],
   "source": [
    "df_an= apply_patterns(df_an)"
   ]
  },
  {
   "cell_type": "code",
   "execution_count": null,
   "id": "7764e413-f67c-4420-80cb-2e5eed5c9bed",
   "metadata": {},
   "outputs": [],
   "source": [
    "df_an.describe()"
   ]
  },
  {
   "cell_type": "code",
   "execution_count": null,
   "id": "753e6a03",
   "metadata": {},
   "outputs": [],
   "source": [
    "HANGING_MAN_BODY= 15.0\n",
    "HANGING_MAN_HEIGHT= 75.0\n",
    "SHOOTING_STAR_HEIGHT= 25.0\n",
    "SPINNING_TOP_MIN= 40.0\n",
    "SPINNING_TOP_MAX= 60.0\n",
    "MARUBOZU=98.0\n",
    "ENGULFING_FACTOR = 1.1\n",
    "\n",
    "apply_marubozu = lambda x: x.body_perc > MARUBOZU\n",
    "\n",
    "def apply_hanging_man(row):\n",
    "    if row.body_bottom_perc > HANGING_MAN_HEIGHT:\n",
    "        if row.body_perc < HANGING_MAN_BODY:\n",
    "            return True\n",
    "    return False\n",
    "\n",
    "def apply_shooting_star(row):\n",
    "    if row.body_top_perc > SHOOTING_STAR_HEIGHT:\n",
    "        if row.body_perc < HANGING_MAN_BODY:\n",
    "            return True\n",
    "    return False\n",
    "\n",
    "def apply_spinning_top(row):\n",
    "    if row.body_top_perc < SPINNING_TOP_MAX:\n",
    "        if row.body_bottom_perc > SPINNING_TOP_MIN:\n",
    "            if row.body_perc < HANGING_MAN_BODY:\n",
    "                return True\n",
    "    return False\n",
    "\n",
    "def apply_engulfing(row):\n",
    "    if row.direction != row.direction_prev:\n",
    "        if row.body_size > row.body_size_prev * ENGULFING_FACTOR:\n",
    "            return True\n",
    "    return False\n",
    "\n",
    "TWEEZER_BODY = 15.0\n",
    "TWEEZER_HL = 0.01\n",
    "TWEEZER_TOP_BODY = 40.0\n",
    "TWEEZER_BOTTOM_BODY = 60.0\n",
    "\n",
    "def apply_tweezer_top(row):\n",
    "    if abs(row.body_size_change) < TWEEZER_BODY:\n",
    "        if row.direction == -1 and row.direction != row.direction_prev:\n",
    "            if abs(row.low_change) < TWEEZER_HL and abs(row.high_change) < TWEEZER_HL:\n",
    "                if row.body_top_perc < TWEEZER_TOP_BODY:\n",
    "                    return True\n",
    "    return False\n",
    "\n",
    "def apply_tweezer_bottom(row):\n",
    "    if abs(row.body_size_change) < TWEEZER_BODY:\n",
    "        if row.direction == 1 and row.direction != row.direction_prev:\n",
    "            if abs(row.low_change) < TWEEZER_HL and abs(row.high_change) < TWEEZER_HL:\n",
    "                if row.body_bottom_perc > TWEEZER_BOTTOM_BODY:\n",
    "                    return True\n",
    "    return False\n",
    "\n",
    "MORNING_STAR_PREV2_BODY = 90.0\n",
    "MORNING_STAR_PREV_BODY = 10.0\n",
    "\n",
    "def apply_morning_star(row, direction=1):\n",
    "    if row.body_perc_prev_2 > MORNING_STAR_PREV2_BODY:\n",
    "        if row.body_perc_prev < MORNING_STAR_PREV_BODY:\n",
    "            if row.direction == direction and row.direction_prev_2 != direction:\n",
    "                if direction ==1:\n",
    "                    if row['mid_c'] > row.mid_point_prev_2:\n",
    "                        return True\n",
    "                else:\n",
    "                    if row['mid_c'] < row.mid_point_prev_2:\n",
    "                        return True\n",
    "    return False\n"
   ]
  },
  {
   "cell_type": "code",
   "execution_count": null,
   "id": "1deba3c2",
   "metadata": {},
   "outputs": [],
   "source": [
    "df_an['body_size_prev'] = df_an.body_size.shift(1)\n",
    "df_an['direction_prev'] = df_an.direction.shift(1)\n",
    "df_an['direction_prev_2'] = df_an.direction.shift(2)\n",
    "df_an['body_perc_prev'] = df_an.body_perc.shift(1)\n",
    "df_an['body_perc_prev_2'] = df_an.body_perc.shift(2)\n",
    "df_an['HANGING_MAN'] = df_an.apply(apply_hanging_man, axis=1)\n",
    "df_an['SHOOTING_STAR'] = df_an.apply(apply_shooting_star, axis=1)\n",
    "df_an['SPINNING_TOP'] = df_an.apply(apply_spinning_top, axis=1)\n",
    "df_an['MARUBOZU'] = df_an.apply(apply_marubozu, axis=1)\n",
    "df_an['ENGULFING'] = df_an.apply(apply_engulfing, axis=1)\n",
    "df_an['TWEEZER_TOP'] = df_an.apply(apply_tweezer_top, axis=1)\n",
    "df_an['TWEEZER_BOTTOM'] = df_an.apply(apply_tweezer_bottom, axis=1)\n",
    "df_an['MORNING_STAR'] = df_an.apply(apply_morning_star, axis=1)\n",
    "df_an['EVENING_STAR'] = df_an.apply(apply_morning_star, axis=1, direction=-1)"
   ]
  },
  {
   "cell_type": "code",
   "execution_count": null,
   "id": "ce333e26-f189-48d1-a470-978160a70838",
   "metadata": {},
   "outputs": [],
   "source": [
    "df_an[df_an['MORNING_STAR'] == True]"
   ]
  },
  {
   "cell_type": "code",
   "execution_count": null,
   "id": "d93eced8-233c-4e99-bf1b-8a5648e92f7d",
   "metadata": {},
   "outputs": [],
   "source": [
    "import plotly.graph_objects as go"
   ]
  },
  {
   "cell_type": "code",
   "execution_count": null,
   "id": "d324e353",
   "metadata": {},
   "outputs": [],
   "source": [
    "MARKER = '#0066FF'\n",
    "dfp= df_an.iloc[-250:]\n",
    "cp= CandlePlot(dfp, candles=True)\n",
    "df_temp= cp.df_plot[cp.df_plot.MORNING_STAR==True]\n",
    "\n",
    "cp.fig.add_trace(go.Candlestick(\n",
    "                x=df_temp.sTime,\n",
    "                open= df_temp['mid_o'],\n",
    "                high= df_temp['mid_h'],\n",
    "                low= df_temp['mid_l'],\n",
    "                close= df_temp['mid_c'],\n",
    "                line=dict(width=1), opacity=1,\n",
    "                increasing_fillcolor=MARKER,\n",
    "                decreasing_fillcolor=MARKER,\n",
    "                increasing_line_color=MARKER,\n",
    "                decreasing_line_color=MARKER\n",
    "\n",
    "          ))\n",
    "        \n",
    "\n",
    "cp.show_plot()"
   ]
  },
  {
   "cell_type": "code",
   "execution_count": null,
   "id": "9aa6202b-ad4f-4f86-a3f2-cacade1cd8ee",
   "metadata": {},
   "outputs": [],
   "source": []
  },
  {
   "cell_type": "code",
   "execution_count": null,
   "id": "1ac2b094-7c7d-4bc7-b7e9-b2425a9f59e4",
   "metadata": {},
   "outputs": [],
   "source": []
  },
  {
   "cell_type": "code",
   "execution_count": null,
   "id": "4ad5dfbb-8349-4772-ac36-07798172c517",
   "metadata": {},
   "outputs": [],
   "source": []
  },
  {
   "cell_type": "code",
   "execution_count": null,
   "id": "03ad0894-d48a-4c76-9f75-77264bd5f97d",
   "metadata": {},
   "outputs": [],
   "source": []
  },
  {
   "cell_type": "code",
   "execution_count": null,
   "id": "1b948e5c-e037-4d66-92ec-2f9567f7f9dd",
   "metadata": {},
   "outputs": [],
   "source": []
  },
  {
   "cell_type": "code",
   "execution_count": null,
   "id": "3866b432-cf2c-42ba-a221-00f8cb4b8622",
   "metadata": {},
   "outputs": [],
   "source": []
  }
 ],
 "metadata": {
  "kernelspec": {
   "display_name": "Python 3 (ipykernel)",
   "language": "python",
   "name": "python3"
  },
  "language_info": {
   "codemirror_mode": {
    "name": "ipython",
    "version": 3
   },
   "file_extension": ".py",
   "mimetype": "text/x-python",
   "name": "python",
   "nbconvert_exporter": "python",
   "pygments_lexer": "ipython3",
   "version": "3.10.12"
  }
 },
 "nbformat": 4,
 "nbformat_minor": 5
}
