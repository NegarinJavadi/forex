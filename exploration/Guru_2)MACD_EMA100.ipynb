{
 "cells": [
  {
   "cell_type": "code",
   "execution_count": 1,
   "id": "f2676eec-f8f5-4193-9290-8cbc97472eff",
   "metadata": {},
   "outputs": [],
   "source": [
    "import sys\n",
    "sys.path.append(\"../\")"
   ]
  },
  {
   "cell_type": "code",
   "execution_count": 2,
   "id": "6f1ace57-bc11-4f24-aa1a-60acab13dad7",
   "metadata": {},
   "outputs": [],
   "source": [
    "import pandas as pd\n",
    "import datetime as dt\n",
    "from technicals.indicators import MACD\n",
    "from simulation.guru_tester import GuruTester"
   ]
  },
  {
   "cell_type": "code",
   "execution_count": 3,
   "id": "9c8dec8d-2515-44f5-a20a-1fda9fad9fc2",
   "metadata": {},
   "outputs": [],
   "source": [
    "BUY = 1\n",
    "SELL = -1\n",
    "NONE = 0\n",
    "\n",
    "def apply_signal(row):\n",
    "    if row.direction == BUY and row['mid-l'] > row.EMA_100:\n",
    "        return BUY\n",
    "    if row.direction == SELL and row['mid-h'] < row.EMA_100:\n",
    "        return SELL\n",
    "    return NONE"
   ]
  },
  {
   "cell_type": "code",
   "execution_count": 5,
   "id": "e49f7be3-52a1-4b86-b7a0-3ed96b4cc228",
   "metadata": {},
   "outputs": [],
   "source": [
    "pair = \"EUR_USD\"\n",
    "df_an = pd.read_pickle(f\"../data/{pair}_H1.pkl\")\n",
    "df_m5 = pd.read_pickle(f\"../data/{pair}_M5.pkl\")\n",
    "df_an.reset_index(drop=True, inplace=True)\n",
    "df_m5.reset_index(drop=True, inplace=True)"
   ]
  },
  {
   "cell_type": "code",
   "execution_count": 6,
   "id": "afe11061-1d78-4b55-94ad-9b67546f0d29",
   "metadata": {},
   "outputs": [],
   "source": [
    "df_an = MACD(df_an)\n",
    "df_an['EMA_100']=df_an['mid-c'].ewm(span=100, min_periods=100).mean()\n",
    "df_an.dropna(inplace=True)\n",
    "df_an.reset_index(drop=True, inplace=True)"
   ]
  },
  {
   "cell_type": "code",
   "execution_count": 8,
   "id": "733c791f-6386-4600-961f-6f368ecbb929",
   "metadata": {},
   "outputs": [],
   "source": [
    "def apply_cross(row):\n",
    "    if row.macd_delta > 0 and row.macd_delta_prev < 0 :\n",
    "        return BUY\n",
    "    if row.macd_delta < 0 and row.macd_delta_prev > 0 :\n",
    "        return SELL\n",
    "    return NONE"
   ]
  },
  {
   "cell_type": "code",
   "execution_count": 9,
   "id": "23102475-56bb-4902-bd19-0f0aadfe21e9",
   "metadata": {},
   "outputs": [],
   "source": [
    "df_an['macd_delta'] = df_an.MACD - df_an.SIGNAL\n",
    "df_an['macd_delta_prev'] = df_an.macd_delta.shift(1)\n",
    "df_an['direction'] = df_an.apply(apply_cross, axis=1)"
   ]
  },
  {
   "cell_type": "code",
   "execution_count": 11,
   "id": "17156fd7-7a74-4f99-9662-0da9f2228f8c",
   "metadata": {},
   "outputs": [
    {
     "data": {
      "text/plain": [
       "direction\n",
       " 0    34175\n",
       " 1     1473\n",
       "-1     1472\n",
       "Name: count, dtype: int64"
      ]
     },
     "execution_count": 11,
     "metadata": {},
     "output_type": "execute_result"
    }
   ],
   "source": [
    "df_an.direction.value_counts()"
   ]
  },
  {
   "cell_type": "code",
   "execution_count": 13,
   "id": "526dd22c-f888-4583-a24a-5c0be5837536",
   "metadata": {},
   "outputs": [
    {
     "data": {
      "text/html": [
       "<div>\n",
       "<style scoped>\n",
       "    .dataframe tbody tr th:only-of-type {\n",
       "        vertical-align: middle;\n",
       "    }\n",
       "\n",
       "    .dataframe tbody tr th {\n",
       "        vertical-align: top;\n",
       "    }\n",
       "\n",
       "    .dataframe thead th {\n",
       "        text-align: right;\n",
       "    }\n",
       "</style>\n",
       "<table border=\"1\" class=\"dataframe\">\n",
       "  <thead>\n",
       "    <tr style=\"text-align: right;\">\n",
       "      <th></th>\n",
       "      <th>volume</th>\n",
       "      <th>time</th>\n",
       "      <th>mid-o</th>\n",
       "      <th>mid-h</th>\n",
       "      <th>mid-l</th>\n",
       "      <th>mid-c</th>\n",
       "      <th>bid-o</th>\n",
       "      <th>bid-h</th>\n",
       "      <th>bid-l</th>\n",
       "      <th>bid-c</th>\n",
       "      <th>...</th>\n",
       "      <th>ask-h</th>\n",
       "      <th>ask-l</th>\n",
       "      <th>ask-c</th>\n",
       "      <th>MACD</th>\n",
       "      <th>SIGNAL</th>\n",
       "      <th>HIST</th>\n",
       "      <th>EMA_100</th>\n",
       "      <th>macd_delta</th>\n",
       "      <th>macd_delta_prev</th>\n",
       "      <th>direction</th>\n",
       "    </tr>\n",
       "  </thead>\n",
       "  <tbody>\n",
       "    <tr>\n",
       "      <th>0</th>\n",
       "      <td>450</td>\n",
       "      <td>2016-01-13 03:00:00+00:00</td>\n",
       "      <td>1.08290</td>\n",
       "      <td>1.08324</td>\n",
       "      <td>1.08247</td>\n",
       "      <td>1.08250</td>\n",
       "      <td>1.08282</td>\n",
       "      <td>1.08316</td>\n",
       "      <td>1.08240</td>\n",
       "      <td>1.08243</td>\n",
       "      <td>...</td>\n",
       "      <td>1.08331</td>\n",
       "      <td>1.08254</td>\n",
       "      <td>1.08258</td>\n",
       "      <td>-0.001062</td>\n",
       "      <td>-0.000931</td>\n",
       "      <td>-0.000131</td>\n",
       "      <td>1.086813</td>\n",
       "      <td>-0.000131</td>\n",
       "      <td>NaN</td>\n",
       "      <td>0</td>\n",
       "    </tr>\n",
       "    <tr>\n",
       "      <th>1</th>\n",
       "      <td>239</td>\n",
       "      <td>2016-01-13 04:00:00+00:00</td>\n",
       "      <td>1.08247</td>\n",
       "      <td>1.08314</td>\n",
       "      <td>1.08243</td>\n",
       "      <td>1.08280</td>\n",
       "      <td>1.08239</td>\n",
       "      <td>1.08307</td>\n",
       "      <td>1.08235</td>\n",
       "      <td>1.08272</td>\n",
       "      <td>...</td>\n",
       "      <td>1.08321</td>\n",
       "      <td>1.08251</td>\n",
       "      <td>1.08287</td>\n",
       "      <td>-0.001075</td>\n",
       "      <td>-0.000960</td>\n",
       "      <td>-0.000115</td>\n",
       "      <td>1.086722</td>\n",
       "      <td>-0.000115</td>\n",
       "      <td>-0.000131</td>\n",
       "      <td>0</td>\n",
       "    </tr>\n",
       "    <tr>\n",
       "      <th>2</th>\n",
       "      <td>518</td>\n",
       "      <td>2016-01-13 05:00:00+00:00</td>\n",
       "      <td>1.08279</td>\n",
       "      <td>1.08352</td>\n",
       "      <td>1.08272</td>\n",
       "      <td>1.08294</td>\n",
       "      <td>1.08272</td>\n",
       "      <td>1.08344</td>\n",
       "      <td>1.08266</td>\n",
       "      <td>1.08287</td>\n",
       "      <td>...</td>\n",
       "      <td>1.08360</td>\n",
       "      <td>1.08279</td>\n",
       "      <td>1.08301</td>\n",
       "      <td>-0.001062</td>\n",
       "      <td>-0.000981</td>\n",
       "      <td>-0.000082</td>\n",
       "      <td>1.086635</td>\n",
       "      <td>-0.000082</td>\n",
       "      <td>-0.000115</td>\n",
       "      <td>0</td>\n",
       "    </tr>\n",
       "    <tr>\n",
       "      <th>3</th>\n",
       "      <td>355</td>\n",
       "      <td>2016-01-13 06:00:00+00:00</td>\n",
       "      <td>1.08290</td>\n",
       "      <td>1.08379</td>\n",
       "      <td>1.08290</td>\n",
       "      <td>1.08332</td>\n",
       "      <td>1.08283</td>\n",
       "      <td>1.08373</td>\n",
       "      <td>1.08282</td>\n",
       "      <td>1.08324</td>\n",
       "      <td>...</td>\n",
       "      <td>1.08385</td>\n",
       "      <td>1.08297</td>\n",
       "      <td>1.08341</td>\n",
       "      <td>-0.001009</td>\n",
       "      <td>-0.000986</td>\n",
       "      <td>-0.000023</td>\n",
       "      <td>1.086560</td>\n",
       "      <td>-0.000023</td>\n",
       "      <td>-0.000082</td>\n",
       "      <td>0</td>\n",
       "    </tr>\n",
       "    <tr>\n",
       "      <th>4</th>\n",
       "      <td>1647</td>\n",
       "      <td>2016-01-13 07:00:00+00:00</td>\n",
       "      <td>1.08332</td>\n",
       "      <td>1.08366</td>\n",
       "      <td>1.08134</td>\n",
       "      <td>1.08162</td>\n",
       "      <td>1.08324</td>\n",
       "      <td>1.08358</td>\n",
       "      <td>1.08126</td>\n",
       "      <td>1.08155</td>\n",
       "      <td>...</td>\n",
       "      <td>1.08375</td>\n",
       "      <td>1.08142</td>\n",
       "      <td>1.08169</td>\n",
       "      <td>-0.001092</td>\n",
       "      <td>-0.001007</td>\n",
       "      <td>-0.000085</td>\n",
       "      <td>1.086448</td>\n",
       "      <td>-0.000085</td>\n",
       "      <td>-0.000023</td>\n",
       "      <td>0</td>\n",
       "    </tr>\n",
       "  </tbody>\n",
       "</table>\n",
       "<p>5 rows × 21 columns</p>\n",
       "</div>"
      ],
      "text/plain": [
       "   volume                      time    mid-o    mid-h    mid-l    mid-c  \\\n",
       "0     450 2016-01-13 03:00:00+00:00  1.08290  1.08324  1.08247  1.08250   \n",
       "1     239 2016-01-13 04:00:00+00:00  1.08247  1.08314  1.08243  1.08280   \n",
       "2     518 2016-01-13 05:00:00+00:00  1.08279  1.08352  1.08272  1.08294   \n",
       "3     355 2016-01-13 06:00:00+00:00  1.08290  1.08379  1.08290  1.08332   \n",
       "4    1647 2016-01-13 07:00:00+00:00  1.08332  1.08366  1.08134  1.08162   \n",
       "\n",
       "     bid-o    bid-h    bid-l    bid-c  ...    ask-h    ask-l    ask-c  \\\n",
       "0  1.08282  1.08316  1.08240  1.08243  ...  1.08331  1.08254  1.08258   \n",
       "1  1.08239  1.08307  1.08235  1.08272  ...  1.08321  1.08251  1.08287   \n",
       "2  1.08272  1.08344  1.08266  1.08287  ...  1.08360  1.08279  1.08301   \n",
       "3  1.08283  1.08373  1.08282  1.08324  ...  1.08385  1.08297  1.08341   \n",
       "4  1.08324  1.08358  1.08126  1.08155  ...  1.08375  1.08142  1.08169   \n",
       "\n",
       "       MACD    SIGNAL      HIST   EMA_100  macd_delta  macd_delta_prev  \\\n",
       "0 -0.001062 -0.000931 -0.000131  1.086813   -0.000131              NaN   \n",
       "1 -0.001075 -0.000960 -0.000115  1.086722   -0.000115        -0.000131   \n",
       "2 -0.001062 -0.000981 -0.000082  1.086635   -0.000082        -0.000115   \n",
       "3 -0.001009 -0.000986 -0.000023  1.086560   -0.000023        -0.000082   \n",
       "4 -0.001092 -0.001007 -0.000085  1.086448   -0.000085        -0.000023   \n",
       "\n",
       "   direction  \n",
       "0          0  \n",
       "1          0  \n",
       "2          0  \n",
       "3          0  \n",
       "4          0  \n",
       "\n",
       "[5 rows x 21 columns]"
      ]
     },
     "execution_count": 13,
     "metadata": {},
     "output_type": "execute_result"
    }
   ],
   "source": [
    "df_an.head()"
   ]
  },
  {
   "cell_type": "code",
   "execution_count": 14,
   "id": "60c49465-8d75-4967-befe-ea5084fb695b",
   "metadata": {},
   "outputs": [],
   "source": [
    "def run_pair(pair, time_d=1):\n",
    "    df_an = pd.read_pickle(f\"../data/{pair}_H{time_d}.pkl\")\n",
    "    df_m5 = pd.read_pickle(f\"../data/{pair}_M5.pkl\")\n",
    "    df_an.reset_index(drop=True, inplace=True)\n",
    "    df_m5.reset_index(drop=True, inplace=True)\n",
    "    df_an=MACD(df_an)\n",
    "    df_an['EMA_100']=df_an['mid-c'].ewm(span=100, min_periods=100).mean()\n",
    "\n",
    "    df_an['macd_delta'] = df_an.MACD - df_an.SIGNAL\n",
    "    df_an['macd_delta_prev'] = df_an.macd_delta.shift(1)\n",
    "    df_an['direction'] = df_an.apply(apply_cross, axis=1)\n",
    "    \n",
    "    our_cols=['time', 'mid-o', 'mid-h', 'mid-l', 'mid-c',\n",
    "              'bid-o', 'bid-h','bid-l', 'bid-c', \n",
    "              'ask-o', 'ask-h', 'ask-l', 'ask-c',\n",
    "              'direction','EMA_100']\n",
    "    df_slim = df_an[our_cols].copy()\n",
    "    df_slim.dropna(inplace=True)\n",
    "    \n",
    "    df_slim.reset_index(drop=True, inplace=True)\n",
    "    gt = GuruTester(\n",
    "        df_slim,\n",
    "        apply_signal,\n",
    "        df_m5,\n",
    "        use_spread=True,\n",
    "        time_d=time_d\n",
    "    )\n",
    "\n",
    "    gt.run_test()\n",
    "    return gt.df_results"
   ]
  },
  {
   "cell_type": "code",
   "execution_count": 15,
   "id": "a66ef356-41d6-4ad7-89f9-0fe210d2bb7a",
   "metadata": {},
   "outputs": [
    {
     "name": "stdout",
     "output_type": "stream",
     "text": [
      "prepare_data...\n",
      "run_test...\n",
      "Result: -554.5\n",
      "prepare_data...\n",
      "run_test...\n",
      "Result: -53.0\n",
      "prepare_data...\n",
      "run_test...\n",
      "Result: 22.0\n",
      "prepare_data...\n",
      "run_test...\n",
      "Result: -124.5\n"
     ]
    }
   ],
   "source": [
    "res = []\n",
    "for p in [\"AUD_NZD\", \"EUR_USD\", \"GBP_JPY\", \"USD_CAD\"]:\n",
    "    res.append(dict(pair=p, res=run_pair(p, time_d=1)))"
   ]
  },
  {
   "cell_type": "code",
   "execution_count": 16,
   "id": "461c726b-e8de-46df-86cc-2db2c6c437eb",
   "metadata": {},
   "outputs": [
    {
     "name": "stdout",
     "output_type": "stream",
     "text": [
      "AUD_NZD -554.5\n",
      "EUR_USD -53.0\n",
      "GBP_JPY 22.0\n",
      "USD_CAD -124.5\n"
     ]
    }
   ],
   "source": [
    "for r in res:\n",
    "    print(r['pair'], r['res'].result.sum())"
   ]
  },
  {
   "cell_type": "code",
   "execution_count": 17,
   "id": "1377e1a3-38db-4e55-90cc-aecc1b3747fc",
   "metadata": {},
   "outputs": [
    {
     "name": "stdout",
     "output_type": "stream",
     "text": [
      "prepare_data...\n",
      "run_test...\n",
      "Result: -56.0\n",
      "prepare_data...\n",
      "run_test...\n",
      "Result: 12.0\n",
      "prepare_data...\n",
      "run_test...\n",
      "Result: 26.5\n",
      "prepare_data...\n",
      "run_test...\n",
      "Result: -39.0\n",
      "AUD_NZD -56.0\n",
      "EUR_USD 12.0\n",
      "GBP_JPY 26.5\n",
      "USD_CAD -39.0\n"
     ]
    }
   ],
   "source": [
    "res = []\n",
    "for p in [\"AUD_NZD\", \"EUR_USD\", \"GBP_JPY\", \"USD_CAD\"]:\n",
    "    res.append(dict(pair=p, res=run_pair(p, time_d=4)))\n",
    "for r in res:\n",
    "    print(r['pair'], r['res'].result.sum())"
   ]
  },
  {
   "cell_type": "code",
   "execution_count": null,
   "id": "7218e551-057e-48fa-9795-da1dc5298d04",
   "metadata": {},
   "outputs": [],
   "source": []
  },
  {
   "cell_type": "code",
   "execution_count": null,
   "id": "f54b29ce-f5f9-4fbb-bf76-0024626534a2",
   "metadata": {},
   "outputs": [],
   "source": []
  },
  {
   "cell_type": "code",
   "execution_count": null,
   "id": "12e17af2-5e05-4682-b844-a37e4c5a0602",
   "metadata": {},
   "outputs": [],
   "source": []
  },
  {
   "cell_type": "code",
   "execution_count": null,
   "id": "5dc29994-27e4-485b-87cb-8e5d7af0d37a",
   "metadata": {},
   "outputs": [],
   "source": []
  },
  {
   "cell_type": "code",
   "execution_count": null,
   "id": "693e74db-6ca8-4f32-a354-d06ed82b9acd",
   "metadata": {},
   "outputs": [],
   "source": []
  },
  {
   "cell_type": "code",
   "execution_count": null,
   "id": "5f1a4d96-e097-4892-983c-5c8485da8a32",
   "metadata": {},
   "outputs": [],
   "source": []
  }
 ],
 "metadata": {
  "kernelspec": {
   "display_name": "Python 3 (ipykernel)",
   "language": "python",
   "name": "python3"
  },
  "language_info": {
   "codemirror_mode": {
    "name": "ipython",
    "version": 3
   },
   "file_extension": ".py",
   "mimetype": "text/x-python",
   "name": "python",
   "nbconvert_exporter": "python",
   "pygments_lexer": "ipython3",
   "version": "3.10.12"
  }
 },
 "nbformat": 4,
 "nbformat_minor": 5
}
