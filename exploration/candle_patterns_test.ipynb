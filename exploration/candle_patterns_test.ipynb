{
 "cells": [
  {
   "cell_type": "code",
   "execution_count": null,
   "id": "fc5db9ed",
   "metadata": {},
   "outputs": [],
   "source": [
    "import sys\n",
    "sys.path.append(\"../\")\n",
    "from plotting import CandlePlot\n",
    "import pandas as pd"
   ]
  },
  {
   "cell_type": "code",
   "execution_count": null,
   "id": "75786ec7-8791-461a-8349-00bccfeae15b",
   "metadata": {},
   "outputs": [],
   "source": [
    "from technicals.patterns import apply_patterns"
   ]
  },
  {
   "cell_type": "code",
   "execution_count": null,
   "id": "baff09c2",
   "metadata": {},
   "outputs": [],
   "source": [
    "df = pd.read_pickle(\"../data/GBP_JPY_H1.pkl\")"
   ]
  },
  {
   "cell_type": "code",
   "execution_count": null,
   "id": "d06deb37",
   "metadata": {},
   "outputs": [],
   "source": [
    "df_an = df[['time', 'mid_c', 'mid_o', 'mid_h', 'mid_l']].copy()"
   ]
  },
  {
   "cell_type": "code",
   "execution_count": null,
   "id": "6620b7b4-f71d-4b39-a137-1ab8c41849df",
   "metadata": {},
   "outputs": [],
   "source": [
    "df_an.tail()"
   ]
  },
  {
   "cell_type": "code",
   "execution_count": null,
   "id": "87bd0f4f-7fd3-4bb7-a709-5299a4615ba2",
   "metadata": {},
   "outputs": [],
   "source": [
    "df_an= apply_patterns(df_an)"
   ]
  },
  {
   "cell_type": "code",
   "execution_count": null,
   "id": "182e868a",
   "metadata": {},
   "outputs": [],
   "source": [
    "df_an.tail()"
   ]
  },
  {
   "cell_type": "code",
   "execution_count": null,
   "id": "d93eced8-233c-4e99-bf1b-8a5648e92f7d",
   "metadata": {},
   "outputs": [],
   "source": [
    "import plotly.graph_objects as go"
   ]
  },
  {
   "cell_type": "code",
   "execution_count": null,
   "id": "d324e353",
   "metadata": {},
   "outputs": [],
   "source": [
    "MARKER = '#0066FF'\n",
    "dfp= df_an.iloc[-200:]\n",
    "cp= CandlePlot(dfp, candles=True)\n",
    "df_temp= cp.df_plot[cp.df_plot.MARUBOZU==True]\n",
    "cp.fig.add_trace(go.Candlestick(\n",
    "    x=df_temp.sTime,\n",
    "    open= df_temp['mid_o'],\n",
    "    high= df_temp['mid_h'],\n",
    "    low= df_temp['mid_l'],\n",
    "    close= df_temp['mid_c'],\n",
    "    line=dict(width=1), opacity=1,\n",
    "    increasing_fillcolor=MARKER,\n",
    "    decreasing_fillcolor=MARKER,\n",
    "    increasing_line_color=MARKER,\n",
    "    decreasing_line_color=MARKER\n",
    "\n",
    "    ))\n",
    "        \n",
    "\n",
    "cp.show_plot()"
   ]
  },
  {
   "cell_type": "code",
   "execution_count": null,
   "id": "9aa6202b-ad4f-4f86-a3f2-cacade1cd8ee",
   "metadata": {},
   "outputs": [],
   "source": []
  },
  {
   "cell_type": "code",
   "execution_count": null,
   "id": "1ac2b094-7c7d-4bc7-b7e9-b2425a9f59e4",
   "metadata": {},
   "outputs": [],
   "source": []
  },
  {
   "cell_type": "code",
   "execution_count": null,
   "id": "4ad5dfbb-8349-4772-ac36-07798172c517",
   "metadata": {},
   "outputs": [],
   "source": []
  },
  {
   "cell_type": "code",
   "execution_count": null,
   "id": "03ad0894-d48a-4c76-9f75-77264bd5f97d",
   "metadata": {},
   "outputs": [],
   "source": []
  },
  {
   "cell_type": "code",
   "execution_count": null,
   "id": "1b948e5c-e037-4d66-92ec-2f9567f7f9dd",
   "metadata": {},
   "outputs": [],
   "source": []
  },
  {
   "cell_type": "code",
   "execution_count": null,
   "id": "3866b432-cf2c-42ba-a221-00f8cb4b8622",
   "metadata": {},
   "outputs": [],
   "source": []
  }
 ],
 "metadata": {
  "kernelspec": {
   "display_name": "Python 3 (ipykernel)",
   "language": "python",
   "name": "python3"
  },
  "language_info": {
   "codemirror_mode": {
    "name": "ipython",
    "version": 3
   },
   "file_extension": ".py",
   "mimetype": "text/x-python",
   "name": "python",
   "nbconvert_exporter": "python",
   "pygments_lexer": "ipython3",
   "version": "3.10.12"
  }
 },
 "nbformat": 4,
 "nbformat_minor": 5
}
