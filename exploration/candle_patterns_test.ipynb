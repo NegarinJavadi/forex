{
 "cells": [
  {
   "cell_type": "code",
   "execution_count": 1,
   "id": "fc5db9ed",
   "metadata": {},
   "outputs": [],
   "source": [
    "import sys\n",
    "sys.path.append(\"../\")\n",
    "from plotting import CandlePlot\n",
    "import pandas as pd"
   ]
  },
  {
   "cell_type": "code",
   "execution_count": 2,
   "id": "75786ec7-8791-461a-8349-00bccfeae15b",
   "metadata": {},
   "outputs": [],
   "source": [
    "from technicals.patterns import apply_patterns"
   ]
  },
  {
   "cell_type": "code",
   "execution_count": 3,
   "id": "baff09c2",
   "metadata": {},
   "outputs": [],
   "source": [
    "df = pd.read_pickle(\"../data/GBP_JPY_H1.pkl\")"
   ]
  },
  {
   "cell_type": "code",
   "execution_count": 4,
   "id": "d06deb37",
   "metadata": {},
   "outputs": [],
   "source": [
    "df_an = df[['time', 'mid_c', 'mid_o', 'mid_h', 'mid_l']].copy()"
   ]
  },
  {
   "cell_type": "code",
   "execution_count": 5,
   "id": "6620b7b4-f71d-4b39-a137-1ab8c41849df",
   "metadata": {},
   "outputs": [
    {
     "data": {
      "text/html": [
       "<div>\n",
       "<style scoped>\n",
       "    .dataframe tbody tr th:only-of-type {\n",
       "        vertical-align: middle;\n",
       "    }\n",
       "\n",
       "    .dataframe tbody tr th {\n",
       "        vertical-align: top;\n",
       "    }\n",
       "\n",
       "    .dataframe thead th {\n",
       "        text-align: right;\n",
       "    }\n",
       "</style>\n",
       "<table border=\"1\" class=\"dataframe\">\n",
       "  <thead>\n",
       "    <tr style=\"text-align: right;\">\n",
       "      <th></th>\n",
       "      <th>time</th>\n",
       "      <th>mid_c</th>\n",
       "      <th>mid_o</th>\n",
       "      <th>mid_h</th>\n",
       "      <th>mid_l</th>\n",
       "    </tr>\n",
       "  </thead>\n",
       "  <tbody>\n",
       "    <tr>\n",
       "      <th>3996</th>\n",
       "      <td>2024-06-14 16:00:00+00:00</td>\n",
       "      <td>199.580</td>\n",
       "      <td>199.472</td>\n",
       "      <td>199.634</td>\n",
       "      <td>199.382</td>\n",
       "    </tr>\n",
       "    <tr>\n",
       "      <th>3997</th>\n",
       "      <td>2024-06-14 17:00:00+00:00</td>\n",
       "      <td>199.550</td>\n",
       "      <td>199.581</td>\n",
       "      <td>199.671</td>\n",
       "      <td>199.463</td>\n",
       "    </tr>\n",
       "    <tr>\n",
       "      <th>3998</th>\n",
       "      <td>2024-06-14 18:00:00+00:00</td>\n",
       "      <td>199.444</td>\n",
       "      <td>199.550</td>\n",
       "      <td>199.572</td>\n",
       "      <td>199.435</td>\n",
       "    </tr>\n",
       "    <tr>\n",
       "      <th>3999</th>\n",
       "      <td>2024-06-14 19:00:00+00:00</td>\n",
       "      <td>199.621</td>\n",
       "      <td>199.444</td>\n",
       "      <td>199.622</td>\n",
       "      <td>199.443</td>\n",
       "    </tr>\n",
       "    <tr>\n",
       "      <th>4000</th>\n",
       "      <td>2024-06-14 20:00:00+00:00</td>\n",
       "      <td>199.684</td>\n",
       "      <td>199.620</td>\n",
       "      <td>199.724</td>\n",
       "      <td>199.562</td>\n",
       "    </tr>\n",
       "  </tbody>\n",
       "</table>\n",
       "</div>"
      ],
      "text/plain": [
       "                          time    mid_c    mid_o    mid_h    mid_l\n",
       "3996 2024-06-14 16:00:00+00:00  199.580  199.472  199.634  199.382\n",
       "3997 2024-06-14 17:00:00+00:00  199.550  199.581  199.671  199.463\n",
       "3998 2024-06-14 18:00:00+00:00  199.444  199.550  199.572  199.435\n",
       "3999 2024-06-14 19:00:00+00:00  199.621  199.444  199.622  199.443\n",
       "4000 2024-06-14 20:00:00+00:00  199.684  199.620  199.724  199.562"
      ]
     },
     "execution_count": 5,
     "metadata": {},
     "output_type": "execute_result"
    }
   ],
   "source": [
    "df_an.tail()"
   ]
  },
  {
   "cell_type": "code",
   "execution_count": 6,
   "id": "87bd0f4f-7fd3-4bb7-a709-5299a4615ba2",
   "metadata": {},
   "outputs": [],
   "source": [
    "df_an= apply_patterns(df_an)"
   ]
  },
  {
   "cell_type": "code",
   "execution_count": 7,
   "id": "182e868a",
   "metadata": {},
   "outputs": [
    {
     "data": {
      "text/html": [
       "<div>\n",
       "<style scoped>\n",
       "    .dataframe tbody tr th:only-of-type {\n",
       "        vertical-align: middle;\n",
       "    }\n",
       "\n",
       "    .dataframe tbody tr th {\n",
       "        vertical-align: top;\n",
       "    }\n",
       "\n",
       "    .dataframe thead th {\n",
       "        text-align: right;\n",
       "    }\n",
       "</style>\n",
       "<table border=\"1\" class=\"dataframe\">\n",
       "  <thead>\n",
       "    <tr style=\"text-align: right;\">\n",
       "      <th></th>\n",
       "      <th>time</th>\n",
       "      <th>mid_c</th>\n",
       "      <th>mid_o</th>\n",
       "      <th>mid_h</th>\n",
       "      <th>mid_l</th>\n",
       "      <th>body_lower</th>\n",
       "      <th>body_upper</th>\n",
       "      <th>body_bottom_perc</th>\n",
       "      <th>body_top_perc</th>\n",
       "      <th>body_perc</th>\n",
       "      <th>...</th>\n",
       "      <th>body_perc_prev_2</th>\n",
       "      <th>HANGING_MAN</th>\n",
       "      <th>SHOOTING_STAR</th>\n",
       "      <th>SPINNING_TOP</th>\n",
       "      <th>MARUBOZU</th>\n",
       "      <th>ENGULFING</th>\n",
       "      <th>TWEEZER_TOP</th>\n",
       "      <th>TWEEZER_BOTTOM</th>\n",
       "      <th>MORNING_STAR</th>\n",
       "      <th>EVENING_STAR</th>\n",
       "    </tr>\n",
       "  </thead>\n",
       "  <tbody>\n",
       "    <tr>\n",
       "      <th>3996</th>\n",
       "      <td>2024-06-14 16:00:00+00:00</td>\n",
       "      <td>199.580</td>\n",
       "      <td>199.472</td>\n",
       "      <td>199.634</td>\n",
       "      <td>199.382</td>\n",
       "      <td>199.472</td>\n",
       "      <td>199.580</td>\n",
       "      <td>35.714286</td>\n",
       "      <td>78.571429</td>\n",
       "      <td>42.857143</td>\n",
       "      <td>...</td>\n",
       "      <td>32.263815</td>\n",
       "      <td>False</td>\n",
       "      <td>False</td>\n",
       "      <td>False</td>\n",
       "      <td>False</td>\n",
       "      <td>False</td>\n",
       "      <td>False</td>\n",
       "      <td>False</td>\n",
       "      <td>False</td>\n",
       "      <td>False</td>\n",
       "    </tr>\n",
       "    <tr>\n",
       "      <th>3997</th>\n",
       "      <td>2024-06-14 17:00:00+00:00</td>\n",
       "      <td>199.550</td>\n",
       "      <td>199.581</td>\n",
       "      <td>199.671</td>\n",
       "      <td>199.463</td>\n",
       "      <td>199.550</td>\n",
       "      <td>199.581</td>\n",
       "      <td>41.826923</td>\n",
       "      <td>56.730769</td>\n",
       "      <td>14.903846</td>\n",
       "      <td>...</td>\n",
       "      <td>39.634146</td>\n",
       "      <td>False</td>\n",
       "      <td>False</td>\n",
       "      <td>True</td>\n",
       "      <td>False</td>\n",
       "      <td>False</td>\n",
       "      <td>False</td>\n",
       "      <td>False</td>\n",
       "      <td>False</td>\n",
       "      <td>False</td>\n",
       "    </tr>\n",
       "    <tr>\n",
       "      <th>3998</th>\n",
       "      <td>2024-06-14 18:00:00+00:00</td>\n",
       "      <td>199.444</td>\n",
       "      <td>199.550</td>\n",
       "      <td>199.572</td>\n",
       "      <td>199.435</td>\n",
       "      <td>199.444</td>\n",
       "      <td>199.550</td>\n",
       "      <td>6.569343</td>\n",
       "      <td>83.941606</td>\n",
       "      <td>77.372263</td>\n",
       "      <td>...</td>\n",
       "      <td>42.857143</td>\n",
       "      <td>False</td>\n",
       "      <td>False</td>\n",
       "      <td>False</td>\n",
       "      <td>False</td>\n",
       "      <td>False</td>\n",
       "      <td>False</td>\n",
       "      <td>False</td>\n",
       "      <td>False</td>\n",
       "      <td>False</td>\n",
       "    </tr>\n",
       "    <tr>\n",
       "      <th>3999</th>\n",
       "      <td>2024-06-14 19:00:00+00:00</td>\n",
       "      <td>199.621</td>\n",
       "      <td>199.444</td>\n",
       "      <td>199.622</td>\n",
       "      <td>199.443</td>\n",
       "      <td>199.444</td>\n",
       "      <td>199.621</td>\n",
       "      <td>0.558659</td>\n",
       "      <td>99.441341</td>\n",
       "      <td>98.882682</td>\n",
       "      <td>...</td>\n",
       "      <td>14.903846</td>\n",
       "      <td>False</td>\n",
       "      <td>False</td>\n",
       "      <td>False</td>\n",
       "      <td>True</td>\n",
       "      <td>True</td>\n",
       "      <td>False</td>\n",
       "      <td>False</td>\n",
       "      <td>False</td>\n",
       "      <td>False</td>\n",
       "    </tr>\n",
       "    <tr>\n",
       "      <th>4000</th>\n",
       "      <td>2024-06-14 20:00:00+00:00</td>\n",
       "      <td>199.684</td>\n",
       "      <td>199.620</td>\n",
       "      <td>199.724</td>\n",
       "      <td>199.562</td>\n",
       "      <td>199.620</td>\n",
       "      <td>199.684</td>\n",
       "      <td>35.802469</td>\n",
       "      <td>75.308642</td>\n",
       "      <td>39.506173</td>\n",
       "      <td>...</td>\n",
       "      <td>77.372263</td>\n",
       "      <td>False</td>\n",
       "      <td>False</td>\n",
       "      <td>False</td>\n",
       "      <td>False</td>\n",
       "      <td>False</td>\n",
       "      <td>False</td>\n",
       "      <td>False</td>\n",
       "      <td>False</td>\n",
       "      <td>False</td>\n",
       "    </tr>\n",
       "  </tbody>\n",
       "</table>\n",
       "<p>5 rows × 31 columns</p>\n",
       "</div>"
      ],
      "text/plain": [
       "                          time    mid_c    mid_o    mid_h    mid_l  \\\n",
       "3996 2024-06-14 16:00:00+00:00  199.580  199.472  199.634  199.382   \n",
       "3997 2024-06-14 17:00:00+00:00  199.550  199.581  199.671  199.463   \n",
       "3998 2024-06-14 18:00:00+00:00  199.444  199.550  199.572  199.435   \n",
       "3999 2024-06-14 19:00:00+00:00  199.621  199.444  199.622  199.443   \n",
       "4000 2024-06-14 20:00:00+00:00  199.684  199.620  199.724  199.562   \n",
       "\n",
       "      body_lower  body_upper  body_bottom_perc  body_top_perc  body_perc  ...  \\\n",
       "3996     199.472     199.580         35.714286      78.571429  42.857143  ...   \n",
       "3997     199.550     199.581         41.826923      56.730769  14.903846  ...   \n",
       "3998     199.444     199.550          6.569343      83.941606  77.372263  ...   \n",
       "3999     199.444     199.621          0.558659      99.441341  98.882682  ...   \n",
       "4000     199.620     199.684         35.802469      75.308642  39.506173  ...   \n",
       "\n",
       "      body_perc_prev_2  HANGING_MAN  SHOOTING_STAR  SPINNING_TOP  MARUBOZU  \\\n",
       "3996         32.263815        False          False         False     False   \n",
       "3997         39.634146        False          False          True     False   \n",
       "3998         42.857143        False          False         False     False   \n",
       "3999         14.903846        False          False         False      True   \n",
       "4000         77.372263        False          False         False     False   \n",
       "\n",
       "      ENGULFING  TWEEZER_TOP  TWEEZER_BOTTOM  MORNING_STAR  EVENING_STAR  \n",
       "3996      False        False           False         False         False  \n",
       "3997      False        False           False         False         False  \n",
       "3998      False        False           False         False         False  \n",
       "3999       True        False           False         False         False  \n",
       "4000      False        False           False         False         False  \n",
       "\n",
       "[5 rows x 31 columns]"
      ]
     },
     "execution_count": 7,
     "metadata": {},
     "output_type": "execute_result"
    }
   ],
   "source": [
    "df_an.tail()"
   ]
  },
  {
   "cell_type": "code",
   "execution_count": 8,
   "id": "d93eced8-233c-4e99-bf1b-8a5648e92f7d",
   "metadata": {},
   "outputs": [],
   "source": [
    "import plotly.graph_objects as go"
   ]
  },
  {
   "cell_type": "code",
   "execution_count": 10,
   "id": "b73cb6a6-8989-4d3b-b8d2-5e6df3d81dcc",
   "metadata": {},
   "outputs": [
    {
     "data": {
      "text/html": [
       "<div>\n",
       "<style scoped>\n",
       "    .dataframe tbody tr th:only-of-type {\n",
       "        vertical-align: middle;\n",
       "    }\n",
       "\n",
       "    .dataframe tbody tr th {\n",
       "        vertical-align: top;\n",
       "    }\n",
       "\n",
       "    .dataframe thead th {\n",
       "        text-align: right;\n",
       "    }\n",
       "</style>\n",
       "<table border=\"1\" class=\"dataframe\">\n",
       "  <thead>\n",
       "    <tr style=\"text-align: right;\">\n",
       "      <th></th>\n",
       "      <th>time</th>\n",
       "      <th>mid_c</th>\n",
       "      <th>mid_o</th>\n",
       "      <th>mid_h</th>\n",
       "      <th>mid_l</th>\n",
       "      <th>body_lower</th>\n",
       "      <th>body_upper</th>\n",
       "      <th>body_bottom_perc</th>\n",
       "      <th>body_top_perc</th>\n",
       "      <th>body_perc</th>\n",
       "      <th>...</th>\n",
       "      <th>body_perc_prev_2</th>\n",
       "      <th>HANGING_MAN</th>\n",
       "      <th>SHOOTING_STAR</th>\n",
       "      <th>SPINNING_TOP</th>\n",
       "      <th>MARUBOZU</th>\n",
       "      <th>ENGULFING</th>\n",
       "      <th>TWEEZER_TOP</th>\n",
       "      <th>TWEEZER_BOTTOM</th>\n",
       "      <th>MORNING_STAR</th>\n",
       "      <th>EVENING_STAR</th>\n",
       "    </tr>\n",
       "  </thead>\n",
       "  <tbody>\n",
       "    <tr>\n",
       "      <th>524</th>\n",
       "      <td>2023-11-22 23:00:00+00:00</td>\n",
       "      <td>186.669</td>\n",
       "      <td>186.836</td>\n",
       "      <td>186.836</td>\n",
       "      <td>186.668</td>\n",
       "      <td>186.669</td>\n",
       "      <td>186.836</td>\n",
       "      <td>0.595238</td>\n",
       "      <td>100.000000</td>\n",
       "      <td>99.404762</td>\n",
       "      <td>...</td>\n",
       "      <td>80.165289</td>\n",
       "      <td>False</td>\n",
       "      <td>False</td>\n",
       "      <td>False</td>\n",
       "      <td>True</td>\n",
       "      <td>True</td>\n",
       "      <td>False</td>\n",
       "      <td>False</td>\n",
       "      <td>False</td>\n",
       "      <td>False</td>\n",
       "    </tr>\n",
       "    <tr>\n",
       "      <th>548</th>\n",
       "      <td>2023-11-23 23:00:00+00:00</td>\n",
       "      <td>187.546</td>\n",
       "      <td>187.349</td>\n",
       "      <td>187.548</td>\n",
       "      <td>187.349</td>\n",
       "      <td>187.349</td>\n",
       "      <td>187.546</td>\n",
       "      <td>0.000000</td>\n",
       "      <td>98.994975</td>\n",
       "      <td>98.994975</td>\n",
       "      <td>...</td>\n",
       "      <td>28.169014</td>\n",
       "      <td>False</td>\n",
       "      <td>False</td>\n",
       "      <td>False</td>\n",
       "      <td>True</td>\n",
       "      <td>True</td>\n",
       "      <td>False</td>\n",
       "      <td>False</td>\n",
       "      <td>False</td>\n",
       "      <td>False</td>\n",
       "    </tr>\n",
       "    <tr>\n",
       "      <th>552</th>\n",
       "      <td>2023-11-24 03:00:00+00:00</td>\n",
       "      <td>187.418</td>\n",
       "      <td>187.301</td>\n",
       "      <td>187.418</td>\n",
       "      <td>187.301</td>\n",
       "      <td>187.301</td>\n",
       "      <td>187.418</td>\n",
       "      <td>0.000000</td>\n",
       "      <td>100.000000</td>\n",
       "      <td>100.000000</td>\n",
       "      <td>...</td>\n",
       "      <td>48.717949</td>\n",
       "      <td>False</td>\n",
       "      <td>False</td>\n",
       "      <td>False</td>\n",
       "      <td>True</td>\n",
       "      <td>True</td>\n",
       "      <td>False</td>\n",
       "      <td>False</td>\n",
       "      <td>False</td>\n",
       "      <td>False</td>\n",
       "    </tr>\n",
       "    <tr>\n",
       "      <th>836</th>\n",
       "      <td>2023-12-11 23:00:00+00:00</td>\n",
       "      <td>183.346</td>\n",
       "      <td>183.528</td>\n",
       "      <td>183.528</td>\n",
       "      <td>183.346</td>\n",
       "      <td>183.346</td>\n",
       "      <td>183.528</td>\n",
       "      <td>0.000000</td>\n",
       "      <td>100.000000</td>\n",
       "      <td>100.000000</td>\n",
       "      <td>...</td>\n",
       "      <td>45.255474</td>\n",
       "      <td>False</td>\n",
       "      <td>False</td>\n",
       "      <td>False</td>\n",
       "      <td>True</td>\n",
       "      <td>True</td>\n",
       "      <td>False</td>\n",
       "      <td>False</td>\n",
       "      <td>False</td>\n",
       "      <td>False</td>\n",
       "    </tr>\n",
       "    <tr>\n",
       "      <th>964</th>\n",
       "      <td>2023-12-19 07:00:00+00:00</td>\n",
       "      <td>182.625</td>\n",
       "      <td>181.832</td>\n",
       "      <td>182.638</td>\n",
       "      <td>181.829</td>\n",
       "      <td>181.832</td>\n",
       "      <td>182.625</td>\n",
       "      <td>0.370828</td>\n",
       "      <td>98.393078</td>\n",
       "      <td>98.022250</td>\n",
       "      <td>...</td>\n",
       "      <td>18.584071</td>\n",
       "      <td>False</td>\n",
       "      <td>False</td>\n",
       "      <td>False</td>\n",
       "      <td>True</td>\n",
       "      <td>False</td>\n",
       "      <td>False</td>\n",
       "      <td>False</td>\n",
       "      <td>False</td>\n",
       "      <td>False</td>\n",
       "    </tr>\n",
       "    <tr>\n",
       "      <th>1726</th>\n",
       "      <td>2024-02-05 01:00:00+00:00</td>\n",
       "      <td>187.124</td>\n",
       "      <td>187.493</td>\n",
       "      <td>187.495</td>\n",
       "      <td>187.120</td>\n",
       "      <td>187.124</td>\n",
       "      <td>187.493</td>\n",
       "      <td>1.066667</td>\n",
       "      <td>99.466667</td>\n",
       "      <td>98.400000</td>\n",
       "      <td>...</td>\n",
       "      <td>43.648208</td>\n",
       "      <td>False</td>\n",
       "      <td>False</td>\n",
       "      <td>False</td>\n",
       "      <td>True</td>\n",
       "      <td>True</td>\n",
       "      <td>False</td>\n",
       "      <td>False</td>\n",
       "      <td>False</td>\n",
       "      <td>False</td>\n",
       "    </tr>\n",
       "    <tr>\n",
       "      <th>2182</th>\n",
       "      <td>2024-03-01 01:00:00+00:00</td>\n",
       "      <td>189.968</td>\n",
       "      <td>189.670</td>\n",
       "      <td>189.972</td>\n",
       "      <td>189.670</td>\n",
       "      <td>189.670</td>\n",
       "      <td>189.968</td>\n",
       "      <td>0.000000</td>\n",
       "      <td>98.675497</td>\n",
       "      <td>98.675497</td>\n",
       "      <td>...</td>\n",
       "      <td>52.416357</td>\n",
       "      <td>False</td>\n",
       "      <td>False</td>\n",
       "      <td>False</td>\n",
       "      <td>True</td>\n",
       "      <td>False</td>\n",
       "      <td>False</td>\n",
       "      <td>False</td>\n",
       "      <td>False</td>\n",
       "      <td>False</td>\n",
       "    </tr>\n",
       "    <tr>\n",
       "      <th>2261</th>\n",
       "      <td>2024-03-06 08:00:00+00:00</td>\n",
       "      <td>190.565</td>\n",
       "      <td>190.064</td>\n",
       "      <td>190.568</td>\n",
       "      <td>190.064</td>\n",
       "      <td>190.064</td>\n",
       "      <td>190.565</td>\n",
       "      <td>0.000000</td>\n",
       "      <td>99.404762</td>\n",
       "      <td>99.404762</td>\n",
       "      <td>...</td>\n",
       "      <td>57.031250</td>\n",
       "      <td>False</td>\n",
       "      <td>False</td>\n",
       "      <td>False</td>\n",
       "      <td>True</td>\n",
       "      <td>True</td>\n",
       "      <td>False</td>\n",
       "      <td>False</td>\n",
       "      <td>False</td>\n",
       "      <td>False</td>\n",
       "    </tr>\n",
       "    <tr>\n",
       "      <th>2352</th>\n",
       "      <td>2024-03-12 02:00:00+00:00</td>\n",
       "      <td>189.014</td>\n",
       "      <td>188.388</td>\n",
       "      <td>189.015</td>\n",
       "      <td>188.378</td>\n",
       "      <td>188.388</td>\n",
       "      <td>189.014</td>\n",
       "      <td>1.569859</td>\n",
       "      <td>99.843014</td>\n",
       "      <td>98.273155</td>\n",
       "      <td>...</td>\n",
       "      <td>50.877193</td>\n",
       "      <td>False</td>\n",
       "      <td>False</td>\n",
       "      <td>False</td>\n",
       "      <td>True</td>\n",
       "      <td>False</td>\n",
       "      <td>False</td>\n",
       "      <td>False</td>\n",
       "      <td>False</td>\n",
       "      <td>False</td>\n",
       "    </tr>\n",
       "    <tr>\n",
       "      <th>2497</th>\n",
       "      <td>2024-03-20 03:00:00+00:00</td>\n",
       "      <td>192.531</td>\n",
       "      <td>192.377</td>\n",
       "      <td>192.531</td>\n",
       "      <td>192.374</td>\n",
       "      <td>192.377</td>\n",
       "      <td>192.531</td>\n",
       "      <td>1.910828</td>\n",
       "      <td>100.000000</td>\n",
       "      <td>98.089172</td>\n",
       "      <td>...</td>\n",
       "      <td>5.384615</td>\n",
       "      <td>False</td>\n",
       "      <td>False</td>\n",
       "      <td>False</td>\n",
       "      <td>True</td>\n",
       "      <td>False</td>\n",
       "      <td>False</td>\n",
       "      <td>False</td>\n",
       "      <td>False</td>\n",
       "      <td>False</td>\n",
       "    </tr>\n",
       "    <tr>\n",
       "      <th>2513</th>\n",
       "      <td>2024-03-20 19:00:00+00:00</td>\n",
       "      <td>193.300</td>\n",
       "      <td>192.703</td>\n",
       "      <td>193.300</td>\n",
       "      <td>192.696</td>\n",
       "      <td>192.703</td>\n",
       "      <td>193.300</td>\n",
       "      <td>1.158940</td>\n",
       "      <td>100.000000</td>\n",
       "      <td>98.841060</td>\n",
       "      <td>...</td>\n",
       "      <td>5.789474</td>\n",
       "      <td>False</td>\n",
       "      <td>False</td>\n",
       "      <td>False</td>\n",
       "      <td>True</td>\n",
       "      <td>True</td>\n",
       "      <td>False</td>\n",
       "      <td>False</td>\n",
       "      <td>False</td>\n",
       "      <td>False</td>\n",
       "    </tr>\n",
       "    <tr>\n",
       "      <th>2903</th>\n",
       "      <td>2024-04-12 01:00:00+00:00</td>\n",
       "      <td>192.249</td>\n",
       "      <td>192.061</td>\n",
       "      <td>192.251</td>\n",
       "      <td>192.061</td>\n",
       "      <td>192.061</td>\n",
       "      <td>192.249</td>\n",
       "      <td>0.000000</td>\n",
       "      <td>98.947368</td>\n",
       "      <td>98.947368</td>\n",
       "      <td>...</td>\n",
       "      <td>48.148148</td>\n",
       "      <td>False</td>\n",
       "      <td>False</td>\n",
       "      <td>False</td>\n",
       "      <td>True</td>\n",
       "      <td>False</td>\n",
       "      <td>False</td>\n",
       "      <td>False</td>\n",
       "      <td>False</td>\n",
       "      <td>False</td>\n",
       "    </tr>\n",
       "    <tr>\n",
       "      <th>2912</th>\n",
       "      <td>2024-04-12 10:00:00+00:00</td>\n",
       "      <td>191.132</td>\n",
       "      <td>191.597</td>\n",
       "      <td>191.598</td>\n",
       "      <td>191.125</td>\n",
       "      <td>191.132</td>\n",
       "      <td>191.597</td>\n",
       "      <td>1.479915</td>\n",
       "      <td>99.788584</td>\n",
       "      <td>98.308668</td>\n",
       "      <td>...</td>\n",
       "      <td>61.627907</td>\n",
       "      <td>False</td>\n",
       "      <td>False</td>\n",
       "      <td>False</td>\n",
       "      <td>True</td>\n",
       "      <td>False</td>\n",
       "      <td>False</td>\n",
       "      <td>False</td>\n",
       "      <td>False</td>\n",
       "      <td>False</td>\n",
       "    </tr>\n",
       "    <tr>\n",
       "      <th>2959</th>\n",
       "      <td>2024-04-16 09:00:00+00:00</td>\n",
       "      <td>192.463</td>\n",
       "      <td>192.156</td>\n",
       "      <td>192.464</td>\n",
       "      <td>192.156</td>\n",
       "      <td>192.156</td>\n",
       "      <td>192.463</td>\n",
       "      <td>0.000000</td>\n",
       "      <td>99.675325</td>\n",
       "      <td>99.675325</td>\n",
       "      <td>...</td>\n",
       "      <td>16.117216</td>\n",
       "      <td>False</td>\n",
       "      <td>False</td>\n",
       "      <td>False</td>\n",
       "      <td>True</td>\n",
       "      <td>False</td>\n",
       "      <td>False</td>\n",
       "      <td>False</td>\n",
       "      <td>False</td>\n",
       "      <td>False</td>\n",
       "    </tr>\n",
       "    <tr>\n",
       "      <th>3222</th>\n",
       "      <td>2024-05-01 08:00:00+00:00</td>\n",
       "      <td>197.414</td>\n",
       "      <td>197.116</td>\n",
       "      <td>197.415</td>\n",
       "      <td>197.113</td>\n",
       "      <td>197.116</td>\n",
       "      <td>197.414</td>\n",
       "      <td>0.993377</td>\n",
       "      <td>99.668874</td>\n",
       "      <td>98.675497</td>\n",
       "      <td>...</td>\n",
       "      <td>37.869822</td>\n",
       "      <td>False</td>\n",
       "      <td>False</td>\n",
       "      <td>False</td>\n",
       "      <td>True</td>\n",
       "      <td>False</td>\n",
       "      <td>False</td>\n",
       "      <td>False</td>\n",
       "      <td>False</td>\n",
       "      <td>False</td>\n",
       "    </tr>\n",
       "    <tr>\n",
       "      <th>3284</th>\n",
       "      <td>2024-05-05 22:00:00+00:00</td>\n",
       "      <td>192.295</td>\n",
       "      <td>191.753</td>\n",
       "      <td>192.306</td>\n",
       "      <td>191.753</td>\n",
       "      <td>191.753</td>\n",
       "      <td>192.295</td>\n",
       "      <td>0.000000</td>\n",
       "      <td>98.010850</td>\n",
       "      <td>98.010850</td>\n",
       "      <td>...</td>\n",
       "      <td>58.108108</td>\n",
       "      <td>False</td>\n",
       "      <td>False</td>\n",
       "      <td>False</td>\n",
       "      <td>True</td>\n",
       "      <td>True</td>\n",
       "      <td>False</td>\n",
       "      <td>False</td>\n",
       "      <td>False</td>\n",
       "      <td>False</td>\n",
       "    </tr>\n",
       "    <tr>\n",
       "      <th>3354</th>\n",
       "      <td>2024-05-08 20:00:00+00:00</td>\n",
       "      <td>194.378</td>\n",
       "      <td>194.493</td>\n",
       "      <td>194.494</td>\n",
       "      <td>194.378</td>\n",
       "      <td>194.378</td>\n",
       "      <td>194.493</td>\n",
       "      <td>0.000000</td>\n",
       "      <td>99.137931</td>\n",
       "      <td>99.137931</td>\n",
       "      <td>...</td>\n",
       "      <td>48.000000</td>\n",
       "      <td>False</td>\n",
       "      <td>False</td>\n",
       "      <td>False</td>\n",
       "      <td>True</td>\n",
       "      <td>True</td>\n",
       "      <td>False</td>\n",
       "      <td>False</td>\n",
       "      <td>False</td>\n",
       "      <td>False</td>\n",
       "    </tr>\n",
       "    <tr>\n",
       "      <th>3945</th>\n",
       "      <td>2024-06-12 13:00:00+00:00</td>\n",
       "      <td>199.958</td>\n",
       "      <td>200.716</td>\n",
       "      <td>200.724</td>\n",
       "      <td>199.956</td>\n",
       "      <td>199.958</td>\n",
       "      <td>200.716</td>\n",
       "      <td>0.260417</td>\n",
       "      <td>98.958333</td>\n",
       "      <td>98.697917</td>\n",
       "      <td>...</td>\n",
       "      <td>5.063291</td>\n",
       "      <td>False</td>\n",
       "      <td>False</td>\n",
       "      <td>False</td>\n",
       "      <td>True</td>\n",
       "      <td>False</td>\n",
       "      <td>False</td>\n",
       "      <td>False</td>\n",
       "      <td>False</td>\n",
       "      <td>False</td>\n",
       "    </tr>\n",
       "    <tr>\n",
       "      <th>3999</th>\n",
       "      <td>2024-06-14 19:00:00+00:00</td>\n",
       "      <td>199.621</td>\n",
       "      <td>199.444</td>\n",
       "      <td>199.622</td>\n",
       "      <td>199.443</td>\n",
       "      <td>199.444</td>\n",
       "      <td>199.621</td>\n",
       "      <td>0.558659</td>\n",
       "      <td>99.441341</td>\n",
       "      <td>98.882682</td>\n",
       "      <td>...</td>\n",
       "      <td>14.903846</td>\n",
       "      <td>False</td>\n",
       "      <td>False</td>\n",
       "      <td>False</td>\n",
       "      <td>True</td>\n",
       "      <td>True</td>\n",
       "      <td>False</td>\n",
       "      <td>False</td>\n",
       "      <td>False</td>\n",
       "      <td>False</td>\n",
       "    </tr>\n",
       "  </tbody>\n",
       "</table>\n",
       "<p>19 rows × 31 columns</p>\n",
       "</div>"
      ],
      "text/plain": [
       "                          time    mid_c    mid_o    mid_h    mid_l  \\\n",
       "524  2023-11-22 23:00:00+00:00  186.669  186.836  186.836  186.668   \n",
       "548  2023-11-23 23:00:00+00:00  187.546  187.349  187.548  187.349   \n",
       "552  2023-11-24 03:00:00+00:00  187.418  187.301  187.418  187.301   \n",
       "836  2023-12-11 23:00:00+00:00  183.346  183.528  183.528  183.346   \n",
       "964  2023-12-19 07:00:00+00:00  182.625  181.832  182.638  181.829   \n",
       "1726 2024-02-05 01:00:00+00:00  187.124  187.493  187.495  187.120   \n",
       "2182 2024-03-01 01:00:00+00:00  189.968  189.670  189.972  189.670   \n",
       "2261 2024-03-06 08:00:00+00:00  190.565  190.064  190.568  190.064   \n",
       "2352 2024-03-12 02:00:00+00:00  189.014  188.388  189.015  188.378   \n",
       "2497 2024-03-20 03:00:00+00:00  192.531  192.377  192.531  192.374   \n",
       "2513 2024-03-20 19:00:00+00:00  193.300  192.703  193.300  192.696   \n",
       "2903 2024-04-12 01:00:00+00:00  192.249  192.061  192.251  192.061   \n",
       "2912 2024-04-12 10:00:00+00:00  191.132  191.597  191.598  191.125   \n",
       "2959 2024-04-16 09:00:00+00:00  192.463  192.156  192.464  192.156   \n",
       "3222 2024-05-01 08:00:00+00:00  197.414  197.116  197.415  197.113   \n",
       "3284 2024-05-05 22:00:00+00:00  192.295  191.753  192.306  191.753   \n",
       "3354 2024-05-08 20:00:00+00:00  194.378  194.493  194.494  194.378   \n",
       "3945 2024-06-12 13:00:00+00:00  199.958  200.716  200.724  199.956   \n",
       "3999 2024-06-14 19:00:00+00:00  199.621  199.444  199.622  199.443   \n",
       "\n",
       "      body_lower  body_upper  body_bottom_perc  body_top_perc   body_perc  \\\n",
       "524      186.669     186.836          0.595238     100.000000   99.404762   \n",
       "548      187.349     187.546          0.000000      98.994975   98.994975   \n",
       "552      187.301     187.418          0.000000     100.000000  100.000000   \n",
       "836      183.346     183.528          0.000000     100.000000  100.000000   \n",
       "964      181.832     182.625          0.370828      98.393078   98.022250   \n",
       "1726     187.124     187.493          1.066667      99.466667   98.400000   \n",
       "2182     189.670     189.968          0.000000      98.675497   98.675497   \n",
       "2261     190.064     190.565          0.000000      99.404762   99.404762   \n",
       "2352     188.388     189.014          1.569859      99.843014   98.273155   \n",
       "2497     192.377     192.531          1.910828     100.000000   98.089172   \n",
       "2513     192.703     193.300          1.158940     100.000000   98.841060   \n",
       "2903     192.061     192.249          0.000000      98.947368   98.947368   \n",
       "2912     191.132     191.597          1.479915      99.788584   98.308668   \n",
       "2959     192.156     192.463          0.000000      99.675325   99.675325   \n",
       "3222     197.116     197.414          0.993377      99.668874   98.675497   \n",
       "3284     191.753     192.295          0.000000      98.010850   98.010850   \n",
       "3354     194.378     194.493          0.000000      99.137931   99.137931   \n",
       "3945     199.958     200.716          0.260417      98.958333   98.697917   \n",
       "3999     199.444     199.621          0.558659      99.441341   98.882682   \n",
       "\n",
       "      ...  body_perc_prev_2  HANGING_MAN  SHOOTING_STAR  SPINNING_TOP  \\\n",
       "524   ...         80.165289        False          False         False   \n",
       "548   ...         28.169014        False          False         False   \n",
       "552   ...         48.717949        False          False         False   \n",
       "836   ...         45.255474        False          False         False   \n",
       "964   ...         18.584071        False          False         False   \n",
       "1726  ...         43.648208        False          False         False   \n",
       "2182  ...         52.416357        False          False         False   \n",
       "2261  ...         57.031250        False          False         False   \n",
       "2352  ...         50.877193        False          False         False   \n",
       "2497  ...          5.384615        False          False         False   \n",
       "2513  ...          5.789474        False          False         False   \n",
       "2903  ...         48.148148        False          False         False   \n",
       "2912  ...         61.627907        False          False         False   \n",
       "2959  ...         16.117216        False          False         False   \n",
       "3222  ...         37.869822        False          False         False   \n",
       "3284  ...         58.108108        False          False         False   \n",
       "3354  ...         48.000000        False          False         False   \n",
       "3945  ...          5.063291        False          False         False   \n",
       "3999  ...         14.903846        False          False         False   \n",
       "\n",
       "      MARUBOZU  ENGULFING  TWEEZER_TOP  TWEEZER_BOTTOM  MORNING_STAR  \\\n",
       "524       True       True        False           False         False   \n",
       "548       True       True        False           False         False   \n",
       "552       True       True        False           False         False   \n",
       "836       True       True        False           False         False   \n",
       "964       True      False        False           False         False   \n",
       "1726      True       True        False           False         False   \n",
       "2182      True      False        False           False         False   \n",
       "2261      True       True        False           False         False   \n",
       "2352      True      False        False           False         False   \n",
       "2497      True      False        False           False         False   \n",
       "2513      True       True        False           False         False   \n",
       "2903      True      False        False           False         False   \n",
       "2912      True      False        False           False         False   \n",
       "2959      True      False        False           False         False   \n",
       "3222      True      False        False           False         False   \n",
       "3284      True       True        False           False         False   \n",
       "3354      True       True        False           False         False   \n",
       "3945      True      False        False           False         False   \n",
       "3999      True       True        False           False         False   \n",
       "\n",
       "      EVENING_STAR  \n",
       "524          False  \n",
       "548          False  \n",
       "552          False  \n",
       "836          False  \n",
       "964          False  \n",
       "1726         False  \n",
       "2182         False  \n",
       "2261         False  \n",
       "2352         False  \n",
       "2497         False  \n",
       "2513         False  \n",
       "2903         False  \n",
       "2912         False  \n",
       "2959         False  \n",
       "3222         False  \n",
       "3284         False  \n",
       "3354         False  \n",
       "3945         False  \n",
       "3999         False  \n",
       "\n",
       "[19 rows x 31 columns]"
      ]
     },
     "execution_count": 10,
     "metadata": {},
     "output_type": "execute_result"
    }
   ],
   "source": [
    "df_an[df_an.MARUBOZU==True]"
   ]
  },
  {
   "cell_type": "code",
   "execution_count": 11,
   "id": "d324e353",
   "metadata": {},
   "outputs": [
    {
     "data": {
      "application/vnd.plotly.v1+json": {
       "config": {
        "plotlyServerURL": "https://plot.ly"
       },
       "data": [
        {
         "close": [
          197.748,
          197.939,
          197.971,
          197.918,
          197.756,
          197.741,
          197.672,
          197.797,
          197.758,
          197.78,
          198.126,
          198.312,
          198.526,
          198.652,
          198.582,
          198.744,
          198.784,
          199.092,
          199.434,
          199.608,
          199.364,
          199.326,
          199.533,
          199.683,
          199.288,
          199.446,
          199.474,
          199.492,
          199.552,
          199.688,
          199.666,
          199.626,
          199.562,
          199.388,
          199.47,
          199.269,
          199.352,
          199.274,
          199.109,
          199.266,
          199.457,
          199.728,
          199.91,
          199.687,
          199.408,
          199.426,
          199.469,
          199.708,
          199.613,
          199.292,
          199.403,
          199.092,
          199.28,
          199.182,
          199.024,
          199.05,
          199.064,
          199.078,
          199.156,
          199.212,
          199.134,
          199.282,
          199.19,
          198.999,
          198.822,
          198.785,
          198.946,
          198.683,
          198.96,
          199.014,
          199.273,
          199.703,
          199.744,
          199.582,
          199.264,
          199.342,
          199.297,
          199.307,
          199.399,
          199.403,
          199.506,
          199.657,
          199.608,
          199.566,
          199.656,
          199.695,
          199.809,
          199.806,
          199.77,
          199.696,
          199.754,
          199.458,
          199.228,
          199.112,
          199.468,
          199.561,
          199.398,
          199.532,
          199.794,
          199.834,
          199.927,
          200.009,
          199.892,
          199.918,
          199.888,
          199.91,
          199.852,
          200.106,
          200.146,
          200.264,
          200.238,
          200.274,
          200.316,
          200.058,
          200.182,
          200.062,
          200.238,
          200.176,
          200.123,
          199.944,
          199.782,
          199.986,
          200.147,
          200.332,
          200.045,
          200.136,
          200.158,
          200.191,
          200.188,
          200.186,
          200.161,
          200.154,
          200.195,
          200.287,
          200.299,
          200.319,
          200.46,
          200.357,
          200.526,
          200.687,
          200.678,
          200.77,
          200.758,
          200.716,
          199.958,
          200.067,
          200.155,
          200.14,
          200.18,
          200.638,
          200.714,
          200.586,
          200.484,
          200.629,
          200.649,
          200.622,
          200.52,
          200.766,
          200.733,
          200.707,
          200.745,
          200.785,
          201.136,
          201.268,
          200.936,
          200.796,
          200.672,
          200.75,
          200.816,
          200.363,
          200.086,
          199.912,
          200.256,
          200.274,
          200.49,
          200.388,
          200.362,
          200.42,
          200.392,
          200.449,
          200.638,
          200.767,
          201.26,
          201.371,
          201.531,
          201.157,
          200.726,
          200.363,
          199.612,
          199.438,
          199.536,
          199.56,
          199.174,
          199.356,
          199.488,
          199.58,
          199.55,
          199.444,
          199.621,
          199.684
         ],
         "decreasing": {
          "fillcolor": "#CC2E3C",
          "line": {
           "color": "#FF3A4C"
          }
         },
         "high": [
          198.11,
          198.158,
          198.156,
          198.038,
          197.964,
          197.9,
          197.78,
          197.818,
          197.89,
          197.781,
          198.186,
          198.486,
          198.528,
          198.687,
          198.791,
          198.782,
          198.846,
          199.124,
          199.531,
          199.638,
          199.624,
          199.45,
          199.548,
          199.736,
          199.752,
          199.694,
          199.504,
          199.574,
          199.569,
          199.73,
          199.752,
          199.712,
          199.601,
          199.646,
          199.576,
          199.488,
          199.406,
          199.374,
          199.31,
          199.548,
          199.527,
          199.77,
          199.926,
          199.94,
          199.792,
          199.546,
          199.538,
          199.728,
          199.806,
          199.761,
          199.539,
          199.456,
          199.287,
          199.292,
          199.266,
          199.14,
          199.216,
          199.082,
          199.18,
          199.304,
          199.376,
          199.334,
          199.291,
          199.196,
          199.142,
          198.906,
          198.968,
          199.012,
          199.028,
          199.072,
          199.289,
          199.814,
          199.754,
          199.816,
          199.582,
          199.362,
          199.37,
          199.351,
          199.434,
          199.448,
          199.73,
          199.767,
          199.722,
          199.704,
          199.736,
          199.732,
          199.931,
          199.84,
          199.817,
          199.798,
          199.768,
          199.81,
          199.472,
          199.244,
          199.561,
          199.811,
          199.566,
          199.58,
          199.808,
          199.894,
          199.962,
          200.029,
          200.05,
          199.955,
          199.956,
          199.928,
          199.948,
          200.165,
          200.15,
          200.264,
          200.316,
          200.346,
          200.358,
          200.401,
          200.206,
          200.366,
          200.248,
          200.396,
          200.224,
          200.136,
          200.102,
          200.05,
          200.24,
          200.344,
          200.334,
          200.158,
          200.192,
          200.204,
          200.23,
          200.21,
          200.219,
          200.25,
          200.246,
          200.291,
          200.346,
          200.336,
          200.462,
          200.516,
          200.574,
          200.716,
          200.706,
          200.78,
          200.908,
          200.95,
          200.724,
          200.392,
          200.193,
          200.211,
          200.232,
          200.661,
          200.752,
          200.806,
          200.544,
          200.632,
          200.698,
          200.749,
          200.668,
          200.794,
          200.817,
          200.778,
          200.826,
          200.978,
          201.197,
          201.289,
          201.318,
          200.958,
          200.974,
          200.886,
          201.029,
          200.878,
          200.384,
          200.084,
          200.278,
          200.333,
          200.524,
          200.539,
          200.404,
          200.436,
          200.498,
          200.508,
          200.678,
          200.791,
          201.46,
          201.388,
          201.616,
          201.619,
          201.356,
          200.88,
          200.398,
          199.646,
          200.022,
          199.661,
          199.739,
          199.501,
          199.612,
          199.634,
          199.671,
          199.572,
          199.622,
          199.724
         ],
         "increasing": {
          "fillcolor": "#24A06B",
          "line": {
           "color": "#2EC886"
          }
         },
         "line": {
          "width": 1
         },
         "low": [
          197.706,
          197.543,
          197.832,
          197.875,
          197.715,
          197.734,
          197.663,
          197.668,
          197.694,
          197.678,
          197.754,
          198.1,
          198.282,
          198.524,
          198.446,
          198.528,
          198.644,
          198.758,
          199.057,
          199.357,
          199.348,
          199.214,
          199.259,
          199.406,
          199.164,
          199.257,
          199.302,
          199.37,
          199.425,
          199.524,
          199.631,
          199.618,
          199.501,
          199.348,
          199.314,
          199.205,
          198.972,
          199.049,
          199.104,
          199.105,
          199.236,
          199.306,
          199.644,
          199.536,
          199.311,
          199.317,
          199.41,
          199.382,
          199.236,
          199.238,
          199.274,
          199.064,
          199.08,
          199.089,
          198.832,
          199.004,
          199.002,
          199.014,
          199.036,
          198.992,
          199.104,
          199.12,
          199.154,
          198.91,
          198.742,
          198.399,
          198.471,
          198.576,
          198.645,
          198.916,
          198.89,
          199.009,
          199.402,
          199.444,
          199.07,
          199.136,
          199.162,
          199.15,
          199.214,
          199.328,
          199.374,
          199.4,
          199.578,
          199.482,
          199.496,
          199.615,
          199.684,
          199.673,
          199.646,
          199.622,
          199.48,
          199.388,
          199.155,
          198.935,
          199.091,
          199.436,
          199.322,
          199.316,
          199.513,
          199.793,
          199.797,
          199.828,
          199.874,
          199.85,
          199.802,
          199.85,
          199.826,
          199.851,
          199.98,
          200.102,
          200.209,
          200.218,
          200.143,
          199.976,
          199.964,
          200.032,
          199.954,
          200.166,
          200.064,
          199.82,
          199.73,
          199.683,
          199.98,
          200.104,
          200.032,
          200.012,
          200.072,
          200.116,
          200.097,
          200.112,
          200.09,
          200.064,
          200.073,
          200.162,
          200.266,
          200.22,
          200.268,
          200.296,
          200.341,
          200.51,
          200.545,
          200.6,
          200.671,
          200.41,
          199.956,
          199.962,
          199.946,
          200.066,
          200.042,
          200.064,
          200.552,
          200.506,
          200.432,
          200.357,
          200.544,
          200.557,
          200.506,
          200.518,
          200.715,
          200.664,
          200.706,
          200.712,
          200.75,
          201.089,
          200.932,
          200.728,
          200.656,
          200.498,
          200.698,
          200.332,
          200.02,
          199.696,
          199.812,
          200.203,
          200.254,
          200.388,
          200.334,
          200.249,
          200.362,
          200.292,
          200.416,
          200.499,
          200.126,
          201.224,
          201.212,
          200.686,
          200.681,
          200.238,
          199.244,
          199.355,
          199.428,
          199.201,
          198.928,
          198.94,
          199.284,
          199.382,
          199.463,
          199.435,
          199.443,
          199.562
         ],
         "opacity": 1,
         "open": [
          198.012,
          197.742,
          197.938,
          197.974,
          197.914,
          197.756,
          197.742,
          197.676,
          197.768,
          197.748,
          197.778,
          198.126,
          198.313,
          198.526,
          198.65,
          198.585,
          198.744,
          198.783,
          199.092,
          199.436,
          199.604,
          199.362,
          199.326,
          199.536,
          199.682,
          199.279,
          199.448,
          199.472,
          199.493,
          199.553,
          199.686,
          199.665,
          199.591,
          199.554,
          199.386,
          199.468,
          199.271,
          199.352,
          199.273,
          199.112,
          199.264,
          199.457,
          199.732,
          199.912,
          199.686,
          199.408,
          199.424,
          199.467,
          199.708,
          199.614,
          199.288,
          199.402,
          199.096,
          199.28,
          199.182,
          199.028,
          199.031,
          199.07,
          199.088,
          199.154,
          199.212,
          199.135,
          199.282,
          199.189,
          198.994,
          198.827,
          198.78,
          198.944,
          198.684,
          198.96,
          199.012,
          199.272,
          199.704,
          199.744,
          199.582,
          199.26,
          199.344,
          199.296,
          199.308,
          199.4,
          199.532,
          199.506,
          199.669,
          199.609,
          199.56,
          199.648,
          199.698,
          199.808,
          199.804,
          199.762,
          199.698,
          199.754,
          199.458,
          199.229,
          199.11,
          199.472,
          199.562,
          199.396,
          199.532,
          199.794,
          199.834,
          199.926,
          200.008,
          199.889,
          199.893,
          199.876,
          199.909,
          199.854,
          200.103,
          200.146,
          200.265,
          200.238,
          200.278,
          200.328,
          200.059,
          200.183,
          200.061,
          200.237,
          200.179,
          200.12,
          199.946,
          199.782,
          199.984,
          200.148,
          200.332,
          200.046,
          200.136,
          200.158,
          200.164,
          200.186,
          200.186,
          200.156,
          200.153,
          200.194,
          200.285,
          200.298,
          200.32,
          200.472,
          200.36,
          200.527,
          200.686,
          200.678,
          200.77,
          200.758,
          200.716,
          199.966,
          200.066,
          200.156,
          200.146,
          200.18,
          200.639,
          200.716,
          200.528,
          200.48,
          200.626,
          200.646,
          200.622,
          200.519,
          200.762,
          200.735,
          200.706,
          200.743,
          200.785,
          201.136,
          201.272,
          200.938,
          200.797,
          200.672,
          200.753,
          200.817,
          200.361,
          200.084,
          199.914,
          200.256,
          200.272,
          200.494,
          200.404,
          200.354,
          200.42,
          200.39,
          200.45,
          200.635,
          200.768,
          201.261,
          201.372,
          201.54,
          201.156,
          200.725,
          200.362,
          199.61,
          199.434,
          199.54,
          199.566,
          199.175,
          199.358,
          199.472,
          199.581,
          199.55,
          199.444,
          199.62
         ],
         "type": "candlestick",
         "x": [
          "s24-06-04 13:00",
          "s24-06-04 14:00",
          "s24-06-04 15:00",
          "s24-06-04 16:00",
          "s24-06-04 17:00",
          "s24-06-04 18:00",
          "s24-06-04 19:00",
          "s24-06-04 20:00",
          "s24-06-04 21:00",
          "s24-06-04 22:00",
          "s24-06-04 23:00",
          "s24-06-05 00:00",
          "s24-06-05 01:00",
          "s24-06-05 02:00",
          "s24-06-05 03:00",
          "s24-06-05 04:00",
          "s24-06-05 05:00",
          "s24-06-05 06:00",
          "s24-06-05 07:00",
          "s24-06-05 08:00",
          "s24-06-05 09:00",
          "s24-06-05 10:00",
          "s24-06-05 11:00",
          "s24-06-05 12:00",
          "s24-06-05 13:00",
          "s24-06-05 14:00",
          "s24-06-05 15:00",
          "s24-06-05 16:00",
          "s24-06-05 17:00",
          "s24-06-05 18:00",
          "s24-06-05 19:00",
          "s24-06-05 20:00",
          "s24-06-05 21:00",
          "s24-06-05 22:00",
          "s24-06-05 23:00",
          "s24-06-06 00:00",
          "s24-06-06 01:00",
          "s24-06-06 02:00",
          "s24-06-06 03:00",
          "s24-06-06 04:00",
          "s24-06-06 05:00",
          "s24-06-06 06:00",
          "s24-06-06 07:00",
          "s24-06-06 08:00",
          "s24-06-06 09:00",
          "s24-06-06 10:00",
          "s24-06-06 11:00",
          "s24-06-06 12:00",
          "s24-06-06 13:00",
          "s24-06-06 14:00",
          "s24-06-06 15:00",
          "s24-06-06 16:00",
          "s24-06-06 17:00",
          "s24-06-06 18:00",
          "s24-06-06 19:00",
          "s24-06-06 20:00",
          "s24-06-06 21:00",
          "s24-06-06 22:00",
          "s24-06-06 23:00",
          "s24-06-07 00:00",
          "s24-06-07 01:00",
          "s24-06-07 02:00",
          "s24-06-07 03:00",
          "s24-06-07 04:00",
          "s24-06-07 05:00",
          "s24-06-07 06:00",
          "s24-06-07 07:00",
          "s24-06-07 08:00",
          "s24-06-07 09:00",
          "s24-06-07 10:00",
          "s24-06-07 11:00",
          "s24-06-07 12:00",
          "s24-06-07 13:00",
          "s24-06-07 14:00",
          "s24-06-07 15:00",
          "s24-06-07 16:00",
          "s24-06-07 17:00",
          "s24-06-07 18:00",
          "s24-06-07 19:00",
          "s24-06-07 20:00",
          "s24-06-09 21:00",
          "s24-06-09 22:00",
          "s24-06-09 23:00",
          "s24-06-10 00:00",
          "s24-06-10 01:00",
          "s24-06-10 02:00",
          "s24-06-10 03:00",
          "s24-06-10 04:00",
          "s24-06-10 05:00",
          "s24-06-10 06:00",
          "s24-06-10 07:00",
          "s24-06-10 08:00",
          "s24-06-10 09:00",
          "s24-06-10 10:00",
          "s24-06-10 11:00",
          "s24-06-10 12:00",
          "s24-06-10 13:00",
          "s24-06-10 14:00",
          "s24-06-10 15:00",
          "s24-06-10 16:00",
          "s24-06-10 17:00",
          "s24-06-10 18:00",
          "s24-06-10 19:00",
          "s24-06-10 20:00",
          "s24-06-10 21:00",
          "s24-06-10 22:00",
          "s24-06-10 23:00",
          "s24-06-11 00:00",
          "s24-06-11 01:00",
          "s24-06-11 02:00",
          "s24-06-11 03:00",
          "s24-06-11 04:00",
          "s24-06-11 05:00",
          "s24-06-11 06:00",
          "s24-06-11 07:00",
          "s24-06-11 08:00",
          "s24-06-11 09:00",
          "s24-06-11 10:00",
          "s24-06-11 11:00",
          "s24-06-11 12:00",
          "s24-06-11 13:00",
          "s24-06-11 14:00",
          "s24-06-11 15:00",
          "s24-06-11 16:00",
          "s24-06-11 17:00",
          "s24-06-11 18:00",
          "s24-06-11 19:00",
          "s24-06-11 20:00",
          "s24-06-11 21:00",
          "s24-06-11 22:00",
          "s24-06-11 23:00",
          "s24-06-12 00:00",
          "s24-06-12 01:00",
          "s24-06-12 02:00",
          "s24-06-12 03:00",
          "s24-06-12 04:00",
          "s24-06-12 05:00",
          "s24-06-12 06:00",
          "s24-06-12 07:00",
          "s24-06-12 08:00",
          "s24-06-12 09:00",
          "s24-06-12 10:00",
          "s24-06-12 11:00",
          "s24-06-12 12:00",
          "s24-06-12 13:00",
          "s24-06-12 14:00",
          "s24-06-12 15:00",
          "s24-06-12 16:00",
          "s24-06-12 17:00",
          "s24-06-12 18:00",
          "s24-06-12 19:00",
          "s24-06-12 20:00",
          "s24-06-12 21:00",
          "s24-06-12 22:00",
          "s24-06-12 23:00",
          "s24-06-13 00:00",
          "s24-06-13 01:00",
          "s24-06-13 02:00",
          "s24-06-13 03:00",
          "s24-06-13 04:00",
          "s24-06-13 05:00",
          "s24-06-13 06:00",
          "s24-06-13 07:00",
          "s24-06-13 08:00",
          "s24-06-13 09:00",
          "s24-06-13 10:00",
          "s24-06-13 11:00",
          "s24-06-13 12:00",
          "s24-06-13 13:00",
          "s24-06-13 14:00",
          "s24-06-13 15:00",
          "s24-06-13 16:00",
          "s24-06-13 17:00",
          "s24-06-13 18:00",
          "s24-06-13 19:00",
          "s24-06-13 20:00",
          "s24-06-13 21:00",
          "s24-06-13 22:00",
          "s24-06-13 23:00",
          "s24-06-14 00:00",
          "s24-06-14 01:00",
          "s24-06-14 02:00",
          "s24-06-14 03:00",
          "s24-06-14 04:00",
          "s24-06-14 05:00",
          "s24-06-14 06:00",
          "s24-06-14 07:00",
          "s24-06-14 08:00",
          "s24-06-14 09:00",
          "s24-06-14 10:00",
          "s24-06-14 11:00",
          "s24-06-14 12:00",
          "s24-06-14 13:00",
          "s24-06-14 14:00",
          "s24-06-14 15:00",
          "s24-06-14 16:00",
          "s24-06-14 17:00",
          "s24-06-14 18:00",
          "s24-06-14 19:00",
          "s24-06-14 20:00"
         ]
        },
        {
         "close": [
          199.958,
          199.621
         ],
         "decreasing": {
          "fillcolor": "#0066FF",
          "line": {
           "color": "#0066FF"
          }
         },
         "high": [
          200.724,
          199.622
         ],
         "increasing": {
          "fillcolor": "#0066FF",
          "line": {
           "color": "#0066FF"
          }
         },
         "line": {
          "width": 1
         },
         "low": [
          199.956,
          199.443
         ],
         "opacity": 1,
         "open": [
          200.716,
          199.444
         ],
         "type": "candlestick",
         "x": [
          "s24-06-12 13:00",
          "s24-06-14 19:00"
         ]
        }
       ],
       "layout": {
        "font": {
         "color": "#e1e1e1",
         "size": 8
        },
        "height": 400,
        "margin": {
         "b": 10,
         "l": 10,
         "r": 10,
         "t": 10
        },
        "paper_bgcolor": "#2c303c",
        "plot_bgcolor": "#2c303c",
        "template": {
         "data": {
          "bar": [
           {
            "error_x": {
             "color": "#2a3f5f"
            },
            "error_y": {
             "color": "#2a3f5f"
            },
            "marker": {
             "line": {
              "color": "#E5ECF6",
              "width": 0.5
             },
             "pattern": {
              "fillmode": "overlay",
              "size": 10,
              "solidity": 0.2
             }
            },
            "type": "bar"
           }
          ],
          "barpolar": [
           {
            "marker": {
             "line": {
              "color": "#E5ECF6",
              "width": 0.5
             },
             "pattern": {
              "fillmode": "overlay",
              "size": 10,
              "solidity": 0.2
             }
            },
            "type": "barpolar"
           }
          ],
          "carpet": [
           {
            "aaxis": {
             "endlinecolor": "#2a3f5f",
             "gridcolor": "white",
             "linecolor": "white",
             "minorgridcolor": "white",
             "startlinecolor": "#2a3f5f"
            },
            "baxis": {
             "endlinecolor": "#2a3f5f",
             "gridcolor": "white",
             "linecolor": "white",
             "minorgridcolor": "white",
             "startlinecolor": "#2a3f5f"
            },
            "type": "carpet"
           }
          ],
          "choropleth": [
           {
            "colorbar": {
             "outlinewidth": 0,
             "ticks": ""
            },
            "type": "choropleth"
           }
          ],
          "contour": [
           {
            "colorbar": {
             "outlinewidth": 0,
             "ticks": ""
            },
            "colorscale": [
             [
              0,
              "#0d0887"
             ],
             [
              0.1111111111111111,
              "#46039f"
             ],
             [
              0.2222222222222222,
              "#7201a8"
             ],
             [
              0.3333333333333333,
              "#9c179e"
             ],
             [
              0.4444444444444444,
              "#bd3786"
             ],
             [
              0.5555555555555556,
              "#d8576b"
             ],
             [
              0.6666666666666666,
              "#ed7953"
             ],
             [
              0.7777777777777778,
              "#fb9f3a"
             ],
             [
              0.8888888888888888,
              "#fdca26"
             ],
             [
              1,
              "#f0f921"
             ]
            ],
            "type": "contour"
           }
          ],
          "contourcarpet": [
           {
            "colorbar": {
             "outlinewidth": 0,
             "ticks": ""
            },
            "type": "contourcarpet"
           }
          ],
          "heatmap": [
           {
            "colorbar": {
             "outlinewidth": 0,
             "ticks": ""
            },
            "colorscale": [
             [
              0,
              "#0d0887"
             ],
             [
              0.1111111111111111,
              "#46039f"
             ],
             [
              0.2222222222222222,
              "#7201a8"
             ],
             [
              0.3333333333333333,
              "#9c179e"
             ],
             [
              0.4444444444444444,
              "#bd3786"
             ],
             [
              0.5555555555555556,
              "#d8576b"
             ],
             [
              0.6666666666666666,
              "#ed7953"
             ],
             [
              0.7777777777777778,
              "#fb9f3a"
             ],
             [
              0.8888888888888888,
              "#fdca26"
             ],
             [
              1,
              "#f0f921"
             ]
            ],
            "type": "heatmap"
           }
          ],
          "heatmapgl": [
           {
            "colorbar": {
             "outlinewidth": 0,
             "ticks": ""
            },
            "colorscale": [
             [
              0,
              "#0d0887"
             ],
             [
              0.1111111111111111,
              "#46039f"
             ],
             [
              0.2222222222222222,
              "#7201a8"
             ],
             [
              0.3333333333333333,
              "#9c179e"
             ],
             [
              0.4444444444444444,
              "#bd3786"
             ],
             [
              0.5555555555555556,
              "#d8576b"
             ],
             [
              0.6666666666666666,
              "#ed7953"
             ],
             [
              0.7777777777777778,
              "#fb9f3a"
             ],
             [
              0.8888888888888888,
              "#fdca26"
             ],
             [
              1,
              "#f0f921"
             ]
            ],
            "type": "heatmapgl"
           }
          ],
          "histogram": [
           {
            "marker": {
             "pattern": {
              "fillmode": "overlay",
              "size": 10,
              "solidity": 0.2
             }
            },
            "type": "histogram"
           }
          ],
          "histogram2d": [
           {
            "colorbar": {
             "outlinewidth": 0,
             "ticks": ""
            },
            "colorscale": [
             [
              0,
              "#0d0887"
             ],
             [
              0.1111111111111111,
              "#46039f"
             ],
             [
              0.2222222222222222,
              "#7201a8"
             ],
             [
              0.3333333333333333,
              "#9c179e"
             ],
             [
              0.4444444444444444,
              "#bd3786"
             ],
             [
              0.5555555555555556,
              "#d8576b"
             ],
             [
              0.6666666666666666,
              "#ed7953"
             ],
             [
              0.7777777777777778,
              "#fb9f3a"
             ],
             [
              0.8888888888888888,
              "#fdca26"
             ],
             [
              1,
              "#f0f921"
             ]
            ],
            "type": "histogram2d"
           }
          ],
          "histogram2dcontour": [
           {
            "colorbar": {
             "outlinewidth": 0,
             "ticks": ""
            },
            "colorscale": [
             [
              0,
              "#0d0887"
             ],
             [
              0.1111111111111111,
              "#46039f"
             ],
             [
              0.2222222222222222,
              "#7201a8"
             ],
             [
              0.3333333333333333,
              "#9c179e"
             ],
             [
              0.4444444444444444,
              "#bd3786"
             ],
             [
              0.5555555555555556,
              "#d8576b"
             ],
             [
              0.6666666666666666,
              "#ed7953"
             ],
             [
              0.7777777777777778,
              "#fb9f3a"
             ],
             [
              0.8888888888888888,
              "#fdca26"
             ],
             [
              1,
              "#f0f921"
             ]
            ],
            "type": "histogram2dcontour"
           }
          ],
          "mesh3d": [
           {
            "colorbar": {
             "outlinewidth": 0,
             "ticks": ""
            },
            "type": "mesh3d"
           }
          ],
          "parcoords": [
           {
            "line": {
             "colorbar": {
              "outlinewidth": 0,
              "ticks": ""
             }
            },
            "type": "parcoords"
           }
          ],
          "pie": [
           {
            "automargin": true,
            "type": "pie"
           }
          ],
          "scatter": [
           {
            "fillpattern": {
             "fillmode": "overlay",
             "size": 10,
             "solidity": 0.2
            },
            "type": "scatter"
           }
          ],
          "scatter3d": [
           {
            "line": {
             "colorbar": {
              "outlinewidth": 0,
              "ticks": ""
             }
            },
            "marker": {
             "colorbar": {
              "outlinewidth": 0,
              "ticks": ""
             }
            },
            "type": "scatter3d"
           }
          ],
          "scattercarpet": [
           {
            "marker": {
             "colorbar": {
              "outlinewidth": 0,
              "ticks": ""
             }
            },
            "type": "scattercarpet"
           }
          ],
          "scattergeo": [
           {
            "marker": {
             "colorbar": {
              "outlinewidth": 0,
              "ticks": ""
             }
            },
            "type": "scattergeo"
           }
          ],
          "scattergl": [
           {
            "marker": {
             "colorbar": {
              "outlinewidth": 0,
              "ticks": ""
             }
            },
            "type": "scattergl"
           }
          ],
          "scattermapbox": [
           {
            "marker": {
             "colorbar": {
              "outlinewidth": 0,
              "ticks": ""
             }
            },
            "type": "scattermapbox"
           }
          ],
          "scatterpolar": [
           {
            "marker": {
             "colorbar": {
              "outlinewidth": 0,
              "ticks": ""
             }
            },
            "type": "scatterpolar"
           }
          ],
          "scatterpolargl": [
           {
            "marker": {
             "colorbar": {
              "outlinewidth": 0,
              "ticks": ""
             }
            },
            "type": "scatterpolargl"
           }
          ],
          "scatterternary": [
           {
            "marker": {
             "colorbar": {
              "outlinewidth": 0,
              "ticks": ""
             }
            },
            "type": "scatterternary"
           }
          ],
          "surface": [
           {
            "colorbar": {
             "outlinewidth": 0,
             "ticks": ""
            },
            "colorscale": [
             [
              0,
              "#0d0887"
             ],
             [
              0.1111111111111111,
              "#46039f"
             ],
             [
              0.2222222222222222,
              "#7201a8"
             ],
             [
              0.3333333333333333,
              "#9c179e"
             ],
             [
              0.4444444444444444,
              "#bd3786"
             ],
             [
              0.5555555555555556,
              "#d8576b"
             ],
             [
              0.6666666666666666,
              "#ed7953"
             ],
             [
              0.7777777777777778,
              "#fb9f3a"
             ],
             [
              0.8888888888888888,
              "#fdca26"
             ],
             [
              1,
              "#f0f921"
             ]
            ],
            "type": "surface"
           }
          ],
          "table": [
           {
            "cells": {
             "fill": {
              "color": "#EBF0F8"
             },
             "line": {
              "color": "white"
             }
            },
            "header": {
             "fill": {
              "color": "#C8D4E3"
             },
             "line": {
              "color": "white"
             }
            },
            "type": "table"
           }
          ]
         },
         "layout": {
          "annotationdefaults": {
           "arrowcolor": "#2a3f5f",
           "arrowhead": 0,
           "arrowwidth": 1
          },
          "autotypenumbers": "strict",
          "coloraxis": {
           "colorbar": {
            "outlinewidth": 0,
            "ticks": ""
           }
          },
          "colorscale": {
           "diverging": [
            [
             0,
             "#8e0152"
            ],
            [
             0.1,
             "#c51b7d"
            ],
            [
             0.2,
             "#de77ae"
            ],
            [
             0.3,
             "#f1b6da"
            ],
            [
             0.4,
             "#fde0ef"
            ],
            [
             0.5,
             "#f7f7f7"
            ],
            [
             0.6,
             "#e6f5d0"
            ],
            [
             0.7,
             "#b8e186"
            ],
            [
             0.8,
             "#7fbc41"
            ],
            [
             0.9,
             "#4d9221"
            ],
            [
             1,
             "#276419"
            ]
           ],
           "sequential": [
            [
             0,
             "#0d0887"
            ],
            [
             0.1111111111111111,
             "#46039f"
            ],
            [
             0.2222222222222222,
             "#7201a8"
            ],
            [
             0.3333333333333333,
             "#9c179e"
            ],
            [
             0.4444444444444444,
             "#bd3786"
            ],
            [
             0.5555555555555556,
             "#d8576b"
            ],
            [
             0.6666666666666666,
             "#ed7953"
            ],
            [
             0.7777777777777778,
             "#fb9f3a"
            ],
            [
             0.8888888888888888,
             "#fdca26"
            ],
            [
             1,
             "#f0f921"
            ]
           ],
           "sequentialminus": [
            [
             0,
             "#0d0887"
            ],
            [
             0.1111111111111111,
             "#46039f"
            ],
            [
             0.2222222222222222,
             "#7201a8"
            ],
            [
             0.3333333333333333,
             "#9c179e"
            ],
            [
             0.4444444444444444,
             "#bd3786"
            ],
            [
             0.5555555555555556,
             "#d8576b"
            ],
            [
             0.6666666666666666,
             "#ed7953"
            ],
            [
             0.7777777777777778,
             "#fb9f3a"
            ],
            [
             0.8888888888888888,
             "#fdca26"
            ],
            [
             1,
             "#f0f921"
            ]
           ]
          },
          "colorway": [
           "#636efa",
           "#EF553B",
           "#00cc96",
           "#ab63fa",
           "#FFA15A",
           "#19d3f3",
           "#FF6692",
           "#B6E880",
           "#FF97FF",
           "#FECB52"
          ],
          "font": {
           "color": "#2a3f5f"
          },
          "geo": {
           "bgcolor": "white",
           "lakecolor": "white",
           "landcolor": "#E5ECF6",
           "showlakes": true,
           "showland": true,
           "subunitcolor": "white"
          },
          "hoverlabel": {
           "align": "left"
          },
          "hovermode": "closest",
          "mapbox": {
           "style": "light"
          },
          "paper_bgcolor": "white",
          "plot_bgcolor": "#E5ECF6",
          "polar": {
           "angularaxis": {
            "gridcolor": "white",
            "linecolor": "white",
            "ticks": ""
           },
           "bgcolor": "#E5ECF6",
           "radialaxis": {
            "gridcolor": "white",
            "linecolor": "white",
            "ticks": ""
           }
          },
          "scene": {
           "xaxis": {
            "backgroundcolor": "#E5ECF6",
            "gridcolor": "white",
            "gridwidth": 2,
            "linecolor": "white",
            "showbackground": true,
            "ticks": "",
            "zerolinecolor": "white"
           },
           "yaxis": {
            "backgroundcolor": "#E5ECF6",
            "gridcolor": "white",
            "gridwidth": 2,
            "linecolor": "white",
            "showbackground": true,
            "ticks": "",
            "zerolinecolor": "white"
           },
           "zaxis": {
            "backgroundcolor": "#E5ECF6",
            "gridcolor": "white",
            "gridwidth": 2,
            "linecolor": "white",
            "showbackground": true,
            "ticks": "",
            "zerolinecolor": "white"
           }
          },
          "shapedefaults": {
           "line": {
            "color": "#2a3f5f"
           }
          },
          "ternary": {
           "aaxis": {
            "gridcolor": "white",
            "linecolor": "white",
            "ticks": ""
           },
           "baxis": {
            "gridcolor": "white",
            "linecolor": "white",
            "ticks": ""
           },
           "bgcolor": "#E5ECF6",
           "caxis": {
            "gridcolor": "white",
            "linecolor": "white",
            "ticks": ""
           }
          },
          "title": {
           "x": 0.05
          },
          "xaxis": {
           "automargin": true,
           "gridcolor": "white",
           "linecolor": "white",
           "ticks": "",
           "title": {
            "standoff": 15
           },
           "zerolinecolor": "white",
           "zerolinewidth": 2
          },
          "yaxis": {
           "automargin": true,
           "gridcolor": "white",
           "linecolor": "white",
           "ticks": "",
           "title": {
            "standoff": 15
           },
           "zerolinecolor": "white",
           "zerolinewidth": 2
          }
         }
        },
        "width": 900,
        "xaxis": {
         "anchor": "y",
         "autorange": true,
         "domain": [
          0,
          0.94
         ],
         "gridcolor": "#1f292f",
         "nticks": 5,
         "range": [
          -0.5,
          199.5
         ],
         "rangeslider": {
          "visible": false,
          "yaxis": {}
         },
         "type": "category"
        },
        "yaxis": {
         "anchor": "x",
         "autorange": true,
         "domain": [
          0,
          1
         ],
         "gridcolor": "#1f292f",
         "range": [
          197.31655555555557,
          201.84544444444444
         ]
        },
        "yaxis2": {
         "anchor": "x",
         "gridcolor": "#1f292f",
         "overlaying": "y",
         "side": "right"
        }
       }
      },
      "image/png": "[encoded data removed]",
      "text/html": [
       "<div>                            <div id=\"876d56f5-35b8-436c-8e61-152c9a282f1d\" class=\"plotly-graph-div\" style=\"height:400px; width:900px;\"></div>            <script type=\"text/javascript\">                require([\"plotly\"], function(Plotly) {                    window.PLOTLYENV=window.PLOTLYENV || {};                                    if (document.getElementById(\"876d56f5-35b8-436c-8e61-152c9a282f1d\")) {                    Plotly.newPlot(                        \"876d56f5-35b8-436c-8e61-152c9a282f1d\",                        [{\"close\":[197.748,197.939,197.971,197.918,197.756,197.741,197.672,197.797,197.758,197.78,198.126,198.312,198.526,198.652,198.582,198.744,198.784,199.092,199.434,199.608,199.364,199.326,199.533,199.683,199.288,199.446,199.474,199.492,199.552,199.688,199.666,199.626,199.562,199.388,199.47,199.269,199.352,199.274,199.109,199.266,199.457,199.728,199.91,199.687,199.408,199.426,199.469,199.708,199.613,199.292,199.403,199.092,199.28,199.182,199.024,199.05,199.064,199.078,199.156,199.212,199.134,199.282,199.19,198.999,198.822,198.785,198.946,198.683,198.96,199.014,199.273,199.703,199.744,199.582,199.264,199.342,199.297,199.307,199.399,199.403,199.506,199.657,199.608,199.566,199.656,199.695,199.809,199.806,199.77,199.696,199.754,199.458,199.228,199.112,199.468,199.561,199.398,199.532,199.794,199.834,199.927,200.009,199.892,199.918,199.888,199.91,199.852,200.106,200.146,200.264,200.238,200.274,200.316,200.058,200.182,200.062,200.238,200.176,200.123,199.944,199.782,199.986,200.147,200.332,200.045,200.136,200.158,200.191,200.188,200.186,200.161,200.154,200.195,200.287,200.299,200.319,200.46,200.357,200.526,200.687,200.678,200.77,200.758,200.716,199.958,200.067,200.155,200.14,200.18,200.638,200.714,200.586,200.484,200.629,200.649,200.622,200.52,200.766,200.733,200.707,200.745,200.785,201.136,201.268,200.936,200.796,200.672,200.75,200.816,200.363,200.086,199.912,200.256,200.274,200.49,200.388,200.362,200.42,200.392,200.449,200.638,200.767,201.26,201.371,201.531,201.157,200.726,200.363,199.612,199.438,199.536,199.56,199.174,199.356,199.488,199.58,199.55,199.444,199.621,199.684],\"decreasing\":{\"fillcolor\":\"#CC2E3C\",\"line\":{\"color\":\"#FF3A4C\"}},\"high\":[198.11,198.158,198.156,198.038,197.964,197.9,197.78,197.818,197.89,197.781,198.186,198.486,198.528,198.687,198.791,198.782,198.846,199.124,199.531,199.638,199.624,199.45,199.548,199.736,199.752,199.694,199.504,199.574,199.569,199.73,199.752,199.712,199.601,199.646,199.576,199.488,199.406,199.374,199.31,199.548,199.527,199.77,199.926,199.94,199.792,199.546,199.538,199.728,199.806,199.761,199.539,199.456,199.287,199.292,199.266,199.14,199.216,199.082,199.18,199.304,199.376,199.334,199.291,199.196,199.142,198.906,198.968,199.012,199.028,199.072,199.289,199.814,199.754,199.816,199.582,199.362,199.37,199.351,199.434,199.448,199.73,199.767,199.722,199.704,199.736,199.732,199.931,199.84,199.817,199.798,199.768,199.81,199.472,199.244,199.561,199.811,199.566,199.58,199.808,199.894,199.962,200.029,200.05,199.955,199.956,199.928,199.948,200.165,200.15,200.264,200.316,200.346,200.358,200.401,200.206,200.366,200.248,200.396,200.224,200.136,200.102,200.05,200.24,200.344,200.334,200.158,200.192,200.204,200.23,200.21,200.219,200.25,200.246,200.291,200.346,200.336,200.462,200.516,200.574,200.716,200.706,200.78,200.908,200.95,200.724,200.392,200.193,200.211,200.232,200.661,200.752,200.806,200.544,200.632,200.698,200.749,200.668,200.794,200.817,200.778,200.826,200.978,201.197,201.289,201.318,200.958,200.974,200.886,201.029,200.878,200.384,200.084,200.278,200.333,200.524,200.539,200.404,200.436,200.498,200.508,200.678,200.791,201.46,201.388,201.616,201.619,201.356,200.88,200.398,199.646,200.022,199.661,199.739,199.501,199.612,199.634,199.671,199.572,199.622,199.724],\"increasing\":{\"fillcolor\":\"#24A06B\",\"line\":{\"color\":\"#2EC886\"}},\"line\":{\"width\":1},\"low\":[197.706,197.543,197.832,197.875,197.715,197.734,197.663,197.668,197.694,197.678,197.754,198.1,198.282,198.524,198.446,198.528,198.644,198.758,199.057,199.357,199.348,199.214,199.259,199.406,199.164,199.257,199.302,199.37,199.425,199.524,199.631,199.618,199.501,199.348,199.314,199.205,198.972,199.049,199.104,199.105,199.236,199.306,199.644,199.536,199.311,199.317,199.41,199.382,199.236,199.238,199.274,199.064,199.08,199.089,198.832,199.004,199.002,199.014,199.036,198.992,199.104,199.12,199.154,198.91,198.742,198.399,198.471,198.576,198.645,198.916,198.89,199.009,199.402,199.444,199.07,199.136,199.162,199.15,199.214,199.328,199.374,199.4,199.578,199.482,199.496,199.615,199.684,199.673,199.646,199.622,199.48,199.388,199.155,198.935,199.091,199.436,199.322,199.316,199.513,199.793,199.797,199.828,199.874,199.85,199.802,199.85,199.826,199.851,199.98,200.102,200.209,200.218,200.143,199.976,199.964,200.032,199.954,200.166,200.064,199.82,199.73,199.683,199.98,200.104,200.032,200.012,200.072,200.116,200.097,200.112,200.09,200.064,200.073,200.162,200.266,200.22,200.268,200.296,200.341,200.51,200.545,200.6,200.671,200.41,199.956,199.962,199.946,200.066,200.042,200.064,200.552,200.506,200.432,200.357,200.544,200.557,200.506,200.518,200.715,200.664,200.706,200.712,200.75,201.089,200.932,200.728,200.656,200.498,200.698,200.332,200.02,199.696,199.812,200.203,200.254,200.388,200.334,200.249,200.362,200.292,200.416,200.499,200.126,201.224,201.212,200.686,200.681,200.238,199.244,199.355,199.428,199.201,198.928,198.94,199.284,199.382,199.463,199.435,199.443,199.562],\"opacity\":1,\"open\":[198.012,197.742,197.938,197.974,197.914,197.756,197.742,197.676,197.768,197.748,197.778,198.126,198.313,198.526,198.65,198.585,198.744,198.783,199.092,199.436,199.604,199.362,199.326,199.536,199.682,199.279,199.448,199.472,199.493,199.553,199.686,199.665,199.591,199.554,199.386,199.468,199.271,199.352,199.273,199.112,199.264,199.457,199.732,199.912,199.686,199.408,199.424,199.467,199.708,199.614,199.288,199.402,199.096,199.28,199.182,199.028,199.031,199.07,199.088,199.154,199.212,199.135,199.282,199.189,198.994,198.827,198.78,198.944,198.684,198.96,199.012,199.272,199.704,199.744,199.582,199.26,199.344,199.296,199.308,199.4,199.532,199.506,199.669,199.609,199.56,199.648,199.698,199.808,199.804,199.762,199.698,199.754,199.458,199.229,199.11,199.472,199.562,199.396,199.532,199.794,199.834,199.926,200.008,199.889,199.893,199.876,199.909,199.854,200.103,200.146,200.265,200.238,200.278,200.328,200.059,200.183,200.061,200.237,200.179,200.12,199.946,199.782,199.984,200.148,200.332,200.046,200.136,200.158,200.164,200.186,200.186,200.156,200.153,200.194,200.285,200.298,200.32,200.472,200.36,200.527,200.686,200.678,200.77,200.758,200.716,199.966,200.066,200.156,200.146,200.18,200.639,200.716,200.528,200.48,200.626,200.646,200.622,200.519,200.762,200.735,200.706,200.743,200.785,201.136,201.272,200.938,200.797,200.672,200.753,200.817,200.361,200.084,199.914,200.256,200.272,200.494,200.404,200.354,200.42,200.39,200.45,200.635,200.768,201.261,201.372,201.54,201.156,200.725,200.362,199.61,199.434,199.54,199.566,199.175,199.358,199.472,199.581,199.55,199.444,199.62],\"x\":[\"s24-06-04 13:00\",\"s24-06-04 14:00\",\"s24-06-04 15:00\",\"s24-06-04 16:00\",\"s24-06-04 17:00\",\"s24-06-04 18:00\",\"s24-06-04 19:00\",\"s24-06-04 20:00\",\"s24-06-04 21:00\",\"s24-06-04 22:00\",\"s24-06-04 23:00\",\"s24-06-05 00:00\",\"s24-06-05 01:00\",\"s24-06-05 02:00\",\"s24-06-05 03:00\",\"s24-06-05 04:00\",\"s24-06-05 05:00\",\"s24-06-05 06:00\",\"s24-06-05 07:00\",\"s24-06-05 08:00\",\"s24-06-05 09:00\",\"s24-06-05 10:00\",\"s24-06-05 11:00\",\"s24-06-05 12:00\",\"s24-06-05 13:00\",\"s24-06-05 14:00\",\"s24-06-05 15:00\",\"s24-06-05 16:00\",\"s24-06-05 17:00\",\"s24-06-05 18:00\",\"s24-06-05 19:00\",\"s24-06-05 20:00\",\"s24-06-05 21:00\",\"s24-06-05 22:00\",\"s24-06-05 23:00\",\"s24-06-06 00:00\",\"s24-06-06 01:00\",\"s24-06-06 02:00\",\"s24-06-06 03:00\",\"s24-06-06 04:00\",\"s24-06-06 05:00\",\"s24-06-06 06:00\",\"s24-06-06 07:00\",\"s24-06-06 08:00\",\"s24-06-06 09:00\",\"s24-06-06 10:00\",\"s24-06-06 11:00\",\"s24-06-06 12:00\",\"s24-06-06 13:00\",\"s24-06-06 14:00\",\"s24-06-06 15:00\",\"s24-06-06 16:00\",\"s24-06-06 17:00\",\"s24-06-06 18:00\",\"s24-06-06 19:00\",\"s24-06-06 20:00\",\"s24-06-06 21:00\",\"s24-06-06 22:00\",\"s24-06-06 23:00\",\"s24-06-07 00:00\",\"s24-06-07 01:00\",\"s24-06-07 02:00\",\"s24-06-07 03:00\",\"s24-06-07 04:00\",\"s24-06-07 05:00\",\"s24-06-07 06:00\",\"s24-06-07 07:00\",\"s24-06-07 08:00\",\"s24-06-07 09:00\",\"s24-06-07 10:00\",\"s24-06-07 11:00\",\"s24-06-07 12:00\",\"s24-06-07 13:00\",\"s24-06-07 14:00\",\"s24-06-07 15:00\",\"s24-06-07 16:00\",\"s24-06-07 17:00\",\"s24-06-07 18:00\",\"s24-06-07 19:00\",\"s24-06-07 20:00\",\"s24-06-09 21:00\",\"s24-06-09 22:00\",\"s24-06-09 23:00\",\"s24-06-10 00:00\",\"s24-06-10 01:00\",\"s24-06-10 02:00\",\"s24-06-10 03:00\",\"s24-06-10 04:00\",\"s24-06-10 05:00\",\"s24-06-10 06:00\",\"s24-06-10 07:00\",\"s24-06-10 08:00\",\"s24-06-10 09:00\",\"s24-06-10 10:00\",\"s24-06-10 11:00\",\"s24-06-10 12:00\",\"s24-06-10 13:00\",\"s24-06-10 14:00\",\"s24-06-10 15:00\",\"s24-06-10 16:00\",\"s24-06-10 17:00\",\"s24-06-10 18:00\",\"s24-06-10 19:00\",\"s24-06-10 20:00\",\"s24-06-10 21:00\",\"s24-06-10 22:00\",\"s24-06-10 23:00\",\"s24-06-11 00:00\",\"s24-06-11 01:00\",\"s24-06-11 02:00\",\"s24-06-11 03:00\",\"s24-06-11 04:00\",\"s24-06-11 05:00\",\"s24-06-11 06:00\",\"s24-06-11 07:00\",\"s24-06-11 08:00\",\"s24-06-11 09:00\",\"s24-06-11 10:00\",\"s24-06-11 11:00\",\"s24-06-11 12:00\",\"s24-06-11 13:00\",\"s24-06-11 14:00\",\"s24-06-11 15:00\",\"s24-06-11 16:00\",\"s24-06-11 17:00\",\"s24-06-11 18:00\",\"s24-06-11 19:00\",\"s24-06-11 20:00\",\"s24-06-11 21:00\",\"s24-06-11 22:00\",\"s24-06-11 23:00\",\"s24-06-12 00:00\",\"s24-06-12 01:00\",\"s24-06-12 02:00\",\"s24-06-12 03:00\",\"s24-06-12 04:00\",\"s24-06-12 05:00\",\"s24-06-12 06:00\",\"s24-06-12 07:00\",\"s24-06-12 08:00\",\"s24-06-12 09:00\",\"s24-06-12 10:00\",\"s24-06-12 11:00\",\"s24-06-12 12:00\",\"s24-06-12 13:00\",\"s24-06-12 14:00\",\"s24-06-12 15:00\",\"s24-06-12 16:00\",\"s24-06-12 17:00\",\"s24-06-12 18:00\",\"s24-06-12 19:00\",\"s24-06-12 20:00\",\"s24-06-12 21:00\",\"s24-06-12 22:00\",\"s24-06-12 23:00\",\"s24-06-13 00:00\",\"s24-06-13 01:00\",\"s24-06-13 02:00\",\"s24-06-13 03:00\",\"s24-06-13 04:00\",\"s24-06-13 05:00\",\"s24-06-13 06:00\",\"s24-06-13 07:00\",\"s24-06-13 08:00\",\"s24-06-13 09:00\",\"s24-06-13 10:00\",\"s24-06-13 11:00\",\"s24-06-13 12:00\",\"s24-06-13 13:00\",\"s24-06-13 14:00\",\"s24-06-13 15:00\",\"s24-06-13 16:00\",\"s24-06-13 17:00\",\"s24-06-13 18:00\",\"s24-06-13 19:00\",\"s24-06-13 20:00\",\"s24-06-13 21:00\",\"s24-06-13 22:00\",\"s24-06-13 23:00\",\"s24-06-14 00:00\",\"s24-06-14 01:00\",\"s24-06-14 02:00\",\"s24-06-14 03:00\",\"s24-06-14 04:00\",\"s24-06-14 05:00\",\"s24-06-14 06:00\",\"s24-06-14 07:00\",\"s24-06-14 08:00\",\"s24-06-14 09:00\",\"s24-06-14 10:00\",\"s24-06-14 11:00\",\"s24-06-14 12:00\",\"s24-06-14 13:00\",\"s24-06-14 14:00\",\"s24-06-14 15:00\",\"s24-06-14 16:00\",\"s24-06-14 17:00\",\"s24-06-14 18:00\",\"s24-06-14 19:00\",\"s24-06-14 20:00\"],\"type\":\"candlestick\"},{\"close\":[199.958,199.621],\"decreasing\":{\"fillcolor\":\"#0066FF\",\"line\":{\"color\":\"#0066FF\"}},\"high\":[200.724,199.622],\"increasing\":{\"fillcolor\":\"#0066FF\",\"line\":{\"color\":\"#0066FF\"}},\"line\":{\"width\":1},\"low\":[199.956,199.443],\"opacity\":1,\"open\":[200.716,199.444],\"x\":[\"s24-06-12 13:00\",\"s24-06-14 19:00\"],\"type\":\"candlestick\"}],                        {\"template\":{\"data\":{\"histogram2dcontour\":[{\"type\":\"histogram2dcontour\",\"colorbar\":{\"outlinewidth\":0,\"ticks\":\"\"},\"colorscale\":[[0.0,\"#0d0887\"],[0.1111111111111111,\"#46039f\"],[0.2222222222222222,\"#7201a8\"],[0.3333333333333333,\"#9c179e\"],[0.4444444444444444,\"#bd3786\"],[0.5555555555555556,\"#d8576b\"],[0.6666666666666666,\"#ed7953\"],[0.7777777777777778,\"#fb9f3a\"],[0.8888888888888888,\"#fdca26\"],[1.0,\"#f0f921\"]]}],\"choropleth\":[{\"type\":\"choropleth\",\"colorbar\":{\"outlinewidth\":0,\"ticks\":\"\"}}],\"histogram2d\":[{\"type\":\"histogram2d\",\"colorbar\":{\"outlinewidth\":0,\"ticks\":\"\"},\"colorscale\":[[0.0,\"#0d0887\"],[0.1111111111111111,\"#46039f\"],[0.2222222222222222,\"#7201a8\"],[0.3333333333333333,\"#9c179e\"],[0.4444444444444444,\"#bd3786\"],[0.5555555555555556,\"#d8576b\"],[0.6666666666666666,\"#ed7953\"],[0.7777777777777778,\"#fb9f3a\"],[0.8888888888888888,\"#fdca26\"],[1.0,\"#f0f921\"]]}],\"heatmap\":[{\"type\":\"heatmap\",\"colorbar\":{\"outlinewidth\":0,\"ticks\":\"\"},\"colorscale\":[[0.0,\"#0d0887\"],[0.1111111111111111,\"#46039f\"],[0.2222222222222222,\"#7201a8\"],[0.3333333333333333,\"#9c179e\"],[0.4444444444444444,\"#bd3786\"],[0.5555555555555556,\"#d8576b\"],[0.6666666666666666,\"#ed7953\"],[0.7777777777777778,\"#fb9f3a\"],[0.8888888888888888,\"#fdca26\"],[1.0,\"#f0f921\"]]}],\"heatmapgl\":[{\"type\":\"heatmapgl\",\"colorbar\":{\"outlinewidth\":0,\"ticks\":\"\"},\"colorscale\":[[0.0,\"#0d0887\"],[0.1111111111111111,\"#46039f\"],[0.2222222222222222,\"#7201a8\"],[0.3333333333333333,\"#9c179e\"],[0.4444444444444444,\"#bd3786\"],[0.5555555555555556,\"#d8576b\"],[0.6666666666666666,\"#ed7953\"],[0.7777777777777778,\"#fb9f3a\"],[0.8888888888888888,\"#fdca26\"],[1.0,\"#f0f921\"]]}],\"contourcarpet\":[{\"type\":\"contourcarpet\",\"colorbar\":{\"outlinewidth\":0,\"ticks\":\"\"}}],\"contour\":[{\"type\":\"contour\",\"colorbar\":{\"outlinewidth\":0,\"ticks\":\"\"},\"colorscale\":[[0.0,\"#0d0887\"],[0.1111111111111111,\"#46039f\"],[0.2222222222222222,\"#7201a8\"],[0.3333333333333333,\"#9c179e\"],[0.4444444444444444,\"#bd3786\"],[0.5555555555555556,\"#d8576b\"],[0.6666666666666666,\"#ed7953\"],[0.7777777777777778,\"#fb9f3a\"],[0.8888888888888888,\"#fdca26\"],[1.0,\"#f0f921\"]]}],\"surface\":[{\"type\":\"surface\",\"colorbar\":{\"outlinewidth\":0,\"ticks\":\"\"},\"colorscale\":[[0.0,\"#0d0887\"],[0.1111111111111111,\"#46039f\"],[0.2222222222222222,\"#7201a8\"],[0.3333333333333333,\"#9c179e\"],[0.4444444444444444,\"#bd3786\"],[0.5555555555555556,\"#d8576b\"],[0.6666666666666666,\"#ed7953\"],[0.7777777777777778,\"#fb9f3a\"],[0.8888888888888888,\"#fdca26\"],[1.0,\"#f0f921\"]]}],\"mesh3d\":[{\"type\":\"mesh3d\",\"colorbar\":{\"outlinewidth\":0,\"ticks\":\"\"}}],\"scatter\":[{\"fillpattern\":{\"fillmode\":\"overlay\",\"size\":10,\"solidity\":0.2},\"type\":\"scatter\"}],\"parcoords\":[{\"type\":\"parcoords\",\"line\":{\"colorbar\":{\"outlinewidth\":0,\"ticks\":\"\"}}}],\"scatterpolargl\":[{\"type\":\"scatterpolargl\",\"marker\":{\"colorbar\":{\"outlinewidth\":0,\"ticks\":\"\"}}}],\"bar\":[{\"error_x\":{\"color\":\"#2a3f5f\"},\"error_y\":{\"color\":\"#2a3f5f\"},\"marker\":{\"line\":{\"color\":\"#E5ECF6\",\"width\":0.5},\"pattern\":{\"fillmode\":\"overlay\",\"size\":10,\"solidity\":0.2}},\"type\":\"bar\"}],\"scattergeo\":[{\"type\":\"scattergeo\",\"marker\":{\"colorbar\":{\"outlinewidth\":0,\"ticks\":\"\"}}}],\"scatterpolar\":[{\"type\":\"scatterpolar\",\"marker\":{\"colorbar\":{\"outlinewidth\":0,\"ticks\":\"\"}}}],\"histogram\":[{\"marker\":{\"pattern\":{\"fillmode\":\"overlay\",\"size\":10,\"solidity\":0.2}},\"type\":\"histogram\"}],\"scattergl\":[{\"type\":\"scattergl\",\"marker\":{\"colorbar\":{\"outlinewidth\":0,\"ticks\":\"\"}}}],\"scatter3d\":[{\"type\":\"scatter3d\",\"line\":{\"colorbar\":{\"outlinewidth\":0,\"ticks\":\"\"}},\"marker\":{\"colorbar\":{\"outlinewidth\":0,\"ticks\":\"\"}}}],\"scattermapbox\":[{\"type\":\"scattermapbox\",\"marker\":{\"colorbar\":{\"outlinewidth\":0,\"ticks\":\"\"}}}],\"scatterternary\":[{\"type\":\"scatterternary\",\"marker\":{\"colorbar\":{\"outlinewidth\":0,\"ticks\":\"\"}}}],\"scattercarpet\":[{\"type\":\"scattercarpet\",\"marker\":{\"colorbar\":{\"outlinewidth\":0,\"ticks\":\"\"}}}],\"carpet\":[{\"aaxis\":{\"endlinecolor\":\"#2a3f5f\",\"gridcolor\":\"white\",\"linecolor\":\"white\",\"minorgridcolor\":\"white\",\"startlinecolor\":\"#2a3f5f\"},\"baxis\":{\"endlinecolor\":\"#2a3f5f\",\"gridcolor\":\"white\",\"linecolor\":\"white\",\"minorgridcolor\":\"white\",\"startlinecolor\":\"#2a3f5f\"},\"type\":\"carpet\"}],\"table\":[{\"cells\":{\"fill\":{\"color\":\"#EBF0F8\"},\"line\":{\"color\":\"white\"}},\"header\":{\"fill\":{\"color\":\"#C8D4E3\"},\"line\":{\"color\":\"white\"}},\"type\":\"table\"}],\"barpolar\":[{\"marker\":{\"line\":{\"color\":\"#E5ECF6\",\"width\":0.5},\"pattern\":{\"fillmode\":\"overlay\",\"size\":10,\"solidity\":0.2}},\"type\":\"barpolar\"}],\"pie\":[{\"automargin\":true,\"type\":\"pie\"}]},\"layout\":{\"autotypenumbers\":\"strict\",\"colorway\":[\"#636efa\",\"#EF553B\",\"#00cc96\",\"#ab63fa\",\"#FFA15A\",\"#19d3f3\",\"#FF6692\",\"#B6E880\",\"#FF97FF\",\"#FECB52\"],\"font\":{\"color\":\"#2a3f5f\"},\"hovermode\":\"closest\",\"hoverlabel\":{\"align\":\"left\"},\"paper_bgcolor\":\"white\",\"plot_bgcolor\":\"#E5ECF6\",\"polar\":{\"bgcolor\":\"#E5ECF6\",\"angularaxis\":{\"gridcolor\":\"white\",\"linecolor\":\"white\",\"ticks\":\"\"},\"radialaxis\":{\"gridcolor\":\"white\",\"linecolor\":\"white\",\"ticks\":\"\"}},\"ternary\":{\"bgcolor\":\"#E5ECF6\",\"aaxis\":{\"gridcolor\":\"white\",\"linecolor\":\"white\",\"ticks\":\"\"},\"baxis\":{\"gridcolor\":\"white\",\"linecolor\":\"white\",\"ticks\":\"\"},\"caxis\":{\"gridcolor\":\"white\",\"linecolor\":\"white\",\"ticks\":\"\"}},\"coloraxis\":{\"colorbar\":{\"outlinewidth\":0,\"ticks\":\"\"}},\"colorscale\":{\"sequential\":[[0.0,\"#0d0887\"],[0.1111111111111111,\"#46039f\"],[0.2222222222222222,\"#7201a8\"],[0.3333333333333333,\"#9c179e\"],[0.4444444444444444,\"#bd3786\"],[0.5555555555555556,\"#d8576b\"],[0.6666666666666666,\"#ed7953\"],[0.7777777777777778,\"#fb9f3a\"],[0.8888888888888888,\"#fdca26\"],[1.0,\"#f0f921\"]],\"sequentialminus\":[[0.0,\"#0d0887\"],[0.1111111111111111,\"#46039f\"],[0.2222222222222222,\"#7201a8\"],[0.3333333333333333,\"#9c179e\"],[0.4444444444444444,\"#bd3786\"],[0.5555555555555556,\"#d8576b\"],[0.6666666666666666,\"#ed7953\"],[0.7777777777777778,\"#fb9f3a\"],[0.8888888888888888,\"#fdca26\"],[1.0,\"#f0f921\"]],\"diverging\":[[0,\"#8e0152\"],[0.1,\"#c51b7d\"],[0.2,\"#de77ae\"],[0.3,\"#f1b6da\"],[0.4,\"#fde0ef\"],[0.5,\"#f7f7f7\"],[0.6,\"#e6f5d0\"],[0.7,\"#b8e186\"],[0.8,\"#7fbc41\"],[0.9,\"#4d9221\"],[1,\"#276419\"]]},\"xaxis\":{\"gridcolor\":\"white\",\"linecolor\":\"white\",\"ticks\":\"\",\"title\":{\"standoff\":15},\"zerolinecolor\":\"white\",\"automargin\":true,\"zerolinewidth\":2},\"yaxis\":{\"gridcolor\":\"white\",\"linecolor\":\"white\",\"ticks\":\"\",\"title\":{\"standoff\":15},\"zerolinecolor\":\"white\",\"automargin\":true,\"zerolinewidth\":2},\"scene\":{\"xaxis\":{\"backgroundcolor\":\"#E5ECF6\",\"gridcolor\":\"white\",\"linecolor\":\"white\",\"showbackground\":true,\"ticks\":\"\",\"zerolinecolor\":\"white\",\"gridwidth\":2},\"yaxis\":{\"backgroundcolor\":\"#E5ECF6\",\"gridcolor\":\"white\",\"linecolor\":\"white\",\"showbackground\":true,\"ticks\":\"\",\"zerolinecolor\":\"white\",\"gridwidth\":2},\"zaxis\":{\"backgroundcolor\":\"#E5ECF6\",\"gridcolor\":\"white\",\"linecolor\":\"white\",\"showbackground\":true,\"ticks\":\"\",\"zerolinecolor\":\"white\",\"gridwidth\":2}},\"shapedefaults\":{\"line\":{\"color\":\"#2a3f5f\"}},\"annotationdefaults\":{\"arrowcolor\":\"#2a3f5f\",\"arrowhead\":0,\"arrowwidth\":1},\"geo\":{\"bgcolor\":\"white\",\"landcolor\":\"#E5ECF6\",\"subunitcolor\":\"white\",\"showland\":true,\"showlakes\":true,\"lakecolor\":\"white\"},\"title\":{\"x\":0.05},\"mapbox\":{\"style\":\"light\"}}},\"xaxis\":{\"anchor\":\"y\",\"domain\":[0.0,0.94],\"rangeslider\":{\"visible\":false},\"gridcolor\":\"#1f292f\",\"nticks\":5},\"yaxis\":{\"anchor\":\"x\",\"domain\":[0.0,1.0],\"gridcolor\":\"#1f292f\"},\"yaxis2\":{\"anchor\":\"x\",\"overlaying\":\"y\",\"side\":\"right\",\"gridcolor\":\"#1f292f\"},\"margin\":{\"l\":10,\"r\":10,\"b\":10,\"t\":10},\"font\":{\"size\":8,\"color\":\"#e1e1e1\"},\"width\":900,\"height\":400,\"paper_bgcolor\":\"#2c303c\",\"plot_bgcolor\":\"#2c303c\"},                        {\"responsive\": true}                    ).then(function(){\n",
       "                            \n",
       "var gd = document.getElementById('876d56f5-35b8-436c-8e61-152c9a282f1d');\n",
       "var x = new MutationObserver(function (mutations, observer) {{\n",
       "        var display = window.getComputedStyle(gd).display;\n",
       "        if (!display || display === 'none') {{\n",
       "            console.log([gd, 'removed!']);\n",
       "            Plotly.purge(gd);\n",
       "            observer.disconnect();\n",
       "        }}\n",
       "}});\n",
       "\n",
       "// Listen for the removal of the full notebook cells\n",
       "var notebookContainer = gd.closest('#notebook-container');\n",
       "if (notebookContainer) {{\n",
       "    x.observe(notebookContainer, {childList: true});\n",
       "}}\n",
       "\n",
       "// Listen for the clearing of the current output cell\n",
       "var outputEl = gd.closest('.output');\n",
       "if (outputEl) {{\n",
       "    x.observe(outputEl, {childList: true});\n",
       "}}\n",
       "\n",
       "                        })                };                });            </script>        </div>"
      ]
     },
     "metadata": {},
     "output_type": "display_data"
    }
   ],
   "source": [
    "MARKER = '#0066FF'\n",
    "dfp= df_an.iloc[-200:]\n",
    "cp= CandlePlot(dfp, candles=True)\n",
    "df_temp= cp.df_plot[cp.df_plot.MARUBOZU==True]\n",
    "cp.fig.add_trace(go.Candlestick(\n",
    "    x=df_temp.sTime,\n",
    "    open= df_temp.mid_o,\n",
    "    high= df_temp.mid_h,\n",
    "    low= df_temp.mid_l,\n",
    "    close= df_temp.mid_c,\n",
    "    line=dict(width=1), opacity=1,\n",
    "    increasing_fillcolor=MARKER,\n",
    "    decreasing_fillcolor=MARKER,\n",
    "    increasing_line_color=MARKER,\n",
    "    decreasing_line_color=MARKER\n",
    "\n",
    "    ))\n",
    "        \n",
    "\n",
    "cp.show_plot()"
   ]
  },
  {
   "cell_type": "code",
   "execution_count": null,
   "id": "9aa6202b-ad4f-4f86-a3f2-cacade1cd8ee",
   "metadata": {},
   "outputs": [],
   "source": []
  },
  {
   "cell_type": "code",
   "execution_count": null,
   "id": "1ac2b094-7c7d-4bc7-b7e9-b2425a9f59e4",
   "metadata": {},
   "outputs": [],
   "source": []
  },
  {
   "cell_type": "code",
   "execution_count": null,
   "id": "4ad5dfbb-8349-4772-ac36-07798172c517",
   "metadata": {},
   "outputs": [],
   "source": []
  },
  {
   "cell_type": "code",
   "execution_count": null,
   "id": "03ad0894-d48a-4c76-9f75-77264bd5f97d",
   "metadata": {},
   "outputs": [],
   "source": []
  },
  {
   "cell_type": "code",
   "execution_count": null,
   "id": "1b948e5c-e037-4d66-92ec-2f9567f7f9dd",
   "metadata": {},
   "outputs": [],
   "source": []
  },
  {
   "cell_type": "code",
   "execution_count": null,
   "id": "3866b432-cf2c-42ba-a221-00f8cb4b8622",
   "metadata": {},
   "outputs": [],
   "source": []
  }
 ],
 "metadata": {
  "kernelspec": {
   "display_name": "Python 3 (ipykernel)",
   "language": "python",
   "name": "python3"
  },
  "language_info": {
   "codemirror_mode": {
    "name": "ipython",
    "version": 3
   },
   "file_extension": ".py",
   "mimetype": "text/x-python",
   "name": "python",
   "nbconvert_exporter": "python",
   "pygments_lexer": "ipython3",
   "version": "3.10.12"
  }
 },
 "nbformat": 4,
 "nbformat_minor": 5
}
